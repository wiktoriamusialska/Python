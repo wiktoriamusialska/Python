{
  "nbformat": 4,
  "nbformat_minor": 0,
  "metadata": {
    "colab": {
      "provenance": []
    },
    "kernelspec": {
      "name": "python3",
      "display_name": "Python 3"
    },
    "language_info": {
      "name": "python"
    }
  },
  "cells": [
    {
      "cell_type": "markdown",
      "source": [
        "Zadanie w wersji skróconej:\n",
        "\n",
        "Napisz skrypt, który będzie wyświetlał użytkownikowi zestaw opcji do wyboru:\n",
        "\n",
        "['load data', 'export data', 'analyze & predict']\n",
        "\n",
        "Skrypt ma:\n",
        "\n",
        "działać tak długo, aż użytkownik niczego nie wybierze i naciśnie enter\n",
        "\n",
        "po wprowadzeniu wartości ma sprawdzać czy ta wartość jest liczbą\n",
        "\n",
        "jeśli nie jest liczbą ma wyświetlić o tym komunikat\n",
        "\n",
        "jeśli jest liczbą, to ma sprawdzić czy jest jednym z dopuszczalnych numerów opcji\n",
        "\n",
        "jeśli tak, to ma wyświetlić komunikat z numerem wybranej opcji i treścią\n",
        "\n",
        "jeśli nie, to ma wyświetlić komunikat o tym, że wybrana jest niepoprawna opcja\n",
        "\n"
      ],
      "metadata": {
        "id": "N3ibNIYqmwwR"
      }
    },
    {
      "cell_type": "code",
      "execution_count": null,
      "metadata": {
        "id": "CxOempdW9vWb"
      },
      "outputs": [],
      "source": [
        "option=['load data', 'export data', 'analyze & predict']"
      ]
    },
    {
      "cell_type": "code",
      "source": [
        "def DisplayOptions(options):\n",
        "    for i in range(len(options)):\n",
        "        print(\"{} - {}\".format(i+1, options[i]))\n",
        " \n",
        "    choice = input('Select option above or press enter to exit: ')\n",
        "    return choice"
      ],
      "metadata": {
        "id": "ecAjnPDjvDBe"
      },
      "execution_count": null,
      "outputs": []
    },
    {
      "cell_type": "code",
      "source": [
        "DisplayOptions(option)"
      ],
      "metadata": {
        "colab": {
          "base_uri": "https://localhost:8080/",
          "height": 105
        },
        "id": "K1idPw2OvKRD",
        "outputId": "89b7f0d1-a586-4176-dbb2-3ae1213102e9"
      },
      "execution_count": null,
      "outputs": [
        {
          "name": "stdout",
          "output_type": "stream",
          "text": [
            "1 - load data\n",
            "2 - export data\n",
            "3 - analyze & predict\n",
            "Select option above or press enter to exit: 3\n"
          ]
        },
        {
          "output_type": "execute_result",
          "data": {
            "text/plain": [
              "'3'"
            ],
            "application/vnd.google.colaboratory.intrinsic+json": {
              "type": "string"
            }
          },
          "metadata": {},
          "execution_count": 3
        }
      ]
    },
    {
      "cell_type": "markdown",
      "source": [
        "Zadanie w wersji nieco bardziej rozbudowanej:\n",
        "\n",
        "Do zmiennej options wpisz listę dostępnych opcji ['load data', 'export data', 'analyze & predict']\n",
        "\n",
        "Do zmiennej choice przypisz wartość 'x'\n",
        "\n",
        "Napisz funkcję DisplayOptions, przyjmującą jako argument listę opcji która wyświetla komunikat w rodzaju:\n",
        "\n",
        "1 - load data\n",
        "2 - export data\n",
        "3 - analyze & predict\n",
        "Select option above or press enter to exit: \n",
        "oraz pobiera wprowadzoną przez użytkownika wartość. Funkcja ma wczytać wartość i zwrócić ją jako string (bez jakiejkolwiek kontroli)\n",
        "\n",
        "Napisz pętlę while, która działa tak długo, jak zmienna choice ma jakąś wartość\n",
        "\n",
        "W tej pętli do zmiennej choice wczytuj wynik zwracany przez funkcję DisplayOptions\n",
        "\n",
        "Napisz polecenie if/else, które sprawdza czy choice nie jest pustym napisem\n",
        "\n",
        "jeśli tak:\n",
        "\n",
        "w bloku try/except skonwertuj choice do liczby choice_num typu int\n",
        "\n",
        "jeśli się udało\n",
        "\n",
        "jeśli wartość jest dopuszczalna (większa od 0 i mniejsza równa od ilości opcji - wyświetl informacje o tym co zostało wybrane\n",
        "\n",
        "jeśli wartość nie jest dopuszczalna, wyświetl komunikat o tym, że dokonano nieprawidłowego wyboru\n",
        "\n",
        "jeśli się nie udało - wyświetl informację wskazującą na to że ma być wprowadzana liczba\n",
        "\n",
        "Jeśli nie:\n",
        "\n",
        "wyświetl informację o zakończeniu działania programu"
      ],
      "metadata": {
        "id": "2eqUtjaLm2oa"
      }
    },
    {
      "cell_type": "code",
      "source": [
        "choice='x'\n",
        "options = ['load data', 'export data', 'analyze & predict']\n",
        " \n",
        "while choice:\n",
        " \n",
        "    choice = DisplayOptions(options)\n",
        " \n",
        "    #executed only if something was entered\n",
        "    if choice:\n",
        "        try:\n",
        "            choice_num = int(choice)-1\n",
        "            if choice_num >=0 and choice_num < len(options):\n",
        "                print(\"you have selected {} - {}\".format(choice_num+1, options[choice_num]))\n",
        "            else:\n",
        "                print(\"choose a value from a list or press enter\")\n",
        "        except:\n",
        "            print(\"You need to enter a number\")\n",
        "    else:\n",
        "        print('----- END -----')\n"
      ],
      "metadata": {
        "colab": {
          "base_uri": "https://localhost:8080/",
          "height": 953
        },
        "id": "z4wzj4Ogvc_0",
        "outputId": "9b704196-164e-4f26-c435-45478c0eecdd"
      },
      "execution_count": null,
      "outputs": [
        {
          "output_type": "stream",
          "name": "stdout",
          "text": [
            "1 - load data\n",
            "2 - export data\n",
            "3 - analyze & predict\n",
            "Select option above or press enter to exit: 0\n",
            "choose a value from a list or press enter\n",
            "1 - load data\n",
            "2 - export data\n",
            "3 - analyze & predict\n",
            "Select option above or press enter to exit: 1\n",
            "you have selected 1 - load data\n",
            "1 - load data\n",
            "2 - export data\n",
            "3 - analyze & predict\n",
            "Select option above or press enter to exit: 2\n",
            "you have selected 2 - export data\n",
            "1 - load data\n",
            "2 - export data\n",
            "3 - analyze & predict\n",
            "Select option above or press enter to exit: 3\n",
            "you have selected 3 - analyze & predict\n",
            "1 - load data\n",
            "2 - export data\n",
            "3 - analyze & predict\n",
            "Select option above or press enter to exit: 10\n",
            "choose a value from a list or press enter\n",
            "1 - load data\n",
            "2 - export data\n",
            "3 - analyze & predict\n",
            "Select option above or press enter to exit: ENTER\n",
            "You need to enter a number\n",
            "1 - load data\n",
            "2 - export data\n",
            "3 - analyze & predict\n"
          ]
        },
        {
          "output_type": "error",
          "ename": "KeyboardInterrupt",
          "evalue": "ignored",
          "traceback": [
            "\u001b[0;31m---------------------------------------------------------------------------\u001b[0m",
            "\u001b[0;31mKeyboardInterrupt\u001b[0m                         Traceback (most recent call last)",
            "\u001b[0;32m<ipython-input-9-e1d6529ef05c>\u001b[0m in \u001b[0;36m<module>\u001b[0;34m\u001b[0m\n\u001b[1;32m      4\u001b[0m \u001b[0;32mwhile\u001b[0m \u001b[0mchoice\u001b[0m\u001b[0;34m:\u001b[0m\u001b[0;34m\u001b[0m\u001b[0;34m\u001b[0m\u001b[0m\n\u001b[1;32m      5\u001b[0m \u001b[0;34m\u001b[0m\u001b[0m\n\u001b[0;32m----> 6\u001b[0;31m     \u001b[0mchoice\u001b[0m \u001b[0;34m=\u001b[0m \u001b[0mDisplayOptions\u001b[0m\u001b[0;34m(\u001b[0m\u001b[0moptions\u001b[0m\u001b[0;34m)\u001b[0m\u001b[0;34m\u001b[0m\u001b[0;34m\u001b[0m\u001b[0m\n\u001b[0m\u001b[1;32m      7\u001b[0m \u001b[0;34m\u001b[0m\u001b[0m\n\u001b[1;32m      8\u001b[0m     \u001b[0;31m#executed only if something was entered\u001b[0m\u001b[0;34m\u001b[0m\u001b[0;34m\u001b[0m\u001b[0;34m\u001b[0m\u001b[0m\n",
            "\u001b[0;32m<ipython-input-2-e3d9894c3288>\u001b[0m in \u001b[0;36mDisplayOptions\u001b[0;34m(options)\u001b[0m\n\u001b[1;32m      3\u001b[0m         \u001b[0mprint\u001b[0m\u001b[0;34m(\u001b[0m\u001b[0;34m\"{} - {}\"\u001b[0m\u001b[0;34m.\u001b[0m\u001b[0mformat\u001b[0m\u001b[0;34m(\u001b[0m\u001b[0mi\u001b[0m\u001b[0;34m+\u001b[0m\u001b[0;36m1\u001b[0m\u001b[0;34m,\u001b[0m \u001b[0moptions\u001b[0m\u001b[0;34m[\u001b[0m\u001b[0mi\u001b[0m\u001b[0;34m]\u001b[0m\u001b[0;34m)\u001b[0m\u001b[0;34m)\u001b[0m\u001b[0;34m\u001b[0m\u001b[0;34m\u001b[0m\u001b[0m\n\u001b[1;32m      4\u001b[0m \u001b[0;34m\u001b[0m\u001b[0m\n\u001b[0;32m----> 5\u001b[0;31m     \u001b[0mchoice\u001b[0m \u001b[0;34m=\u001b[0m \u001b[0minput\u001b[0m\u001b[0;34m(\u001b[0m\u001b[0;34m'Select option above or press enter to exit: '\u001b[0m\u001b[0;34m)\u001b[0m\u001b[0;34m\u001b[0m\u001b[0;34m\u001b[0m\u001b[0m\n\u001b[0m\u001b[1;32m      6\u001b[0m     \u001b[0;32mreturn\u001b[0m \u001b[0mchoice\u001b[0m\u001b[0;34m\u001b[0m\u001b[0;34m\u001b[0m\u001b[0m\n",
            "\u001b[0;32m/usr/local/lib/python3.7/dist-packages/ipykernel/kernelbase.py\u001b[0m in \u001b[0;36mraw_input\u001b[0;34m(self, prompt)\u001b[0m\n\u001b[1;32m    861\u001b[0m             \u001b[0mself\u001b[0m\u001b[0;34m.\u001b[0m\u001b[0m_parent_ident\u001b[0m\u001b[0;34m,\u001b[0m\u001b[0;34m\u001b[0m\u001b[0;34m\u001b[0m\u001b[0m\n\u001b[1;32m    862\u001b[0m             \u001b[0mself\u001b[0m\u001b[0;34m.\u001b[0m\u001b[0m_parent_header\u001b[0m\u001b[0;34m,\u001b[0m\u001b[0;34m\u001b[0m\u001b[0;34m\u001b[0m\u001b[0m\n\u001b[0;32m--> 863\u001b[0;31m             \u001b[0mpassword\u001b[0m\u001b[0;34m=\u001b[0m\u001b[0;32mFalse\u001b[0m\u001b[0;34m,\u001b[0m\u001b[0;34m\u001b[0m\u001b[0;34m\u001b[0m\u001b[0m\n\u001b[0m\u001b[1;32m    864\u001b[0m         )\n\u001b[1;32m    865\u001b[0m \u001b[0;34m\u001b[0m\u001b[0m\n",
            "\u001b[0;32m/usr/local/lib/python3.7/dist-packages/ipykernel/kernelbase.py\u001b[0m in \u001b[0;36m_input_request\u001b[0;34m(self, prompt, ident, parent, password)\u001b[0m\n\u001b[1;32m    902\u001b[0m             \u001b[0;32mexcept\u001b[0m \u001b[0mKeyboardInterrupt\u001b[0m\u001b[0;34m:\u001b[0m\u001b[0;34m\u001b[0m\u001b[0;34m\u001b[0m\u001b[0m\n\u001b[1;32m    903\u001b[0m                 \u001b[0;31m# re-raise KeyboardInterrupt, to truncate traceback\u001b[0m\u001b[0;34m\u001b[0m\u001b[0;34m\u001b[0m\u001b[0;34m\u001b[0m\u001b[0m\n\u001b[0;32m--> 904\u001b[0;31m                 \u001b[0;32mraise\u001b[0m \u001b[0mKeyboardInterrupt\u001b[0m\u001b[0;34m(\u001b[0m\u001b[0;34m\"Interrupted by user\"\u001b[0m\u001b[0;34m)\u001b[0m \u001b[0;32mfrom\u001b[0m \u001b[0;32mNone\u001b[0m\u001b[0;34m\u001b[0m\u001b[0;34m\u001b[0m\u001b[0m\n\u001b[0m\u001b[1;32m    905\u001b[0m             \u001b[0;32mexcept\u001b[0m \u001b[0mException\u001b[0m \u001b[0;32mas\u001b[0m \u001b[0me\u001b[0m\u001b[0;34m:\u001b[0m\u001b[0;34m\u001b[0m\u001b[0;34m\u001b[0m\u001b[0m\n\u001b[1;32m    906\u001b[0m                 \u001b[0mself\u001b[0m\u001b[0;34m.\u001b[0m\u001b[0mlog\u001b[0m\u001b[0;34m.\u001b[0m\u001b[0mwarning\u001b[0m\u001b[0;34m(\u001b[0m\u001b[0;34m\"Invalid Message:\"\u001b[0m\u001b[0;34m,\u001b[0m \u001b[0mexc_info\u001b[0m\u001b[0;34m=\u001b[0m\u001b[0;32mTrue\u001b[0m\u001b[0;34m)\u001b[0m\u001b[0;34m\u001b[0m\u001b[0;34m\u001b[0m\u001b[0m\n",
            "\u001b[0;31mKeyboardInterrupt\u001b[0m: Interrupted by user"
          ]
        }
      ]
    }
  ]
}