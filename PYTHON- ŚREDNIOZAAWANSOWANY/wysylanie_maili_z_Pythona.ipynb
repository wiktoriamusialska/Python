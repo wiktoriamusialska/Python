{
  "nbformat": 4,
  "nbformat_minor": 0,
  "metadata": {
    "colab": {
      "provenance": [],
      "collapsed_sections": []
    },
    "kernelspec": {
      "name": "python3",
      "display_name": "Python 3"
    },
    "language_info": {
      "name": "python"
    }
  },
  "cells": [
    {
      "cell_type": "code",
      "execution_count": null,
      "metadata": {
        "id": "SExEeOgBPKgy"
      },
      "outputs": [],
      "source": [
        "import smtplib\n",
        " \n",
        "mailFrom = 'Your automation system'\n",
        "mailTo = ['your@email.here0','your_another@email.here']\n",
        "mailSubject = 'Processing finished successfully'\n",
        "mailBody = '''Hello\n",
        " \n",
        "This mail confirms that processing has finished without problems,\n",
        " \n",
        "Have a nice day!'''\n",
        " \n",
        "message = '''From: {}\n",
        "Subject: {}\n",
        " \n",
        "{}\n",
        "'''.format(mailFrom, mailSubject, mailBody)\n",
        " \n",
        "user = 'your_username@gmail.com'\n",
        "password = 'your_password_here'\n",
        " \n",
        "try:\n",
        "    server = smtplib.SMTP_SSL('smtp.gmail.com', 465)\n",
        "    server.ehlo()\n",
        "    server.login(user,password)\n",
        "    server.sendmail(user, mailTo, message)\n",
        "    server.close()\n",
        "    print('mail sent')\n",
        "except:\n",
        "    print('error sending email')\n"
      ]
    }
  ]
}