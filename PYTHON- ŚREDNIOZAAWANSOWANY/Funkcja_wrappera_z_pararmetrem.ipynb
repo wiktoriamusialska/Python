{
  "nbformat": 4,
  "nbformat_minor": 0,
  "metadata": {
    "colab": {
      "provenance": [],
      "collapsed_sections": []
    },
    "kernelspec": {
      "name": "python3",
      "display_name": "Python 3"
    },
    "language_info": {
      "name": "python"
    }
  },
  "cells": [
    {
      "cell_type": "markdown",
      "source": [
        "Pracujesz nad aplikacją, która intensywnie pracuje z plikami. Klient zażyczył sobie, aby każda taka operacja została dodatkowo zalogowana. Log powinien mieć postać mniej więcej taką:\n",
        "\n",
        "Action FILE_CREATE executed on c:\\temp\\dummy_file.txt on 2029-01-12 9:29:17\n",
        "Action FILE_DELETE executed on c:\\temp\\dummy_file.txt on 2029-01-12 9:33:18\n",
        "Action FILE_CREATE executed on c:\\temp\\dummy_file.txt on 2029-01-12 9:39:57\n",
        "Action FILE_DELETE executed on c:\\temp\\dummy_file.txt on 2029-01-12 9:44:18\n",
        "Wiadomo, że:\n",
        "\n",
        "wszystkie te funkcje przyjmują jeden parametr path (więc mogą korzystać z takiego samego wrappera)\n",
        "\n",
        "klient może chcieć zapisać dane logowania oddzielnie do innego pliku dla każdej funkcji (więc wrappery jednak czymś będą się nieznacznie różnić)\n",
        "\n",
        "Chcesz rozwiązać problem stosując wrapper. Idealnie będzie napisać jedną funkcję  przyjmującą jako parametry:\n",
        "\n",
        "logged_action określającą wykonywaną czynność np. FILE_CREATE lub FILE_DELETE\n",
        "\n",
        "log_file_path określającą do jakiego pliku zapisywać informacje\n",
        "\n",
        "Oto przykład funkcji, których praca ma podlegać logowaniu:\n",
        "\n",
        "import os\n",
        " \n",
        "def create_file(path):\n",
        "    print('creating file {}'.format(path))\n",
        "    open(path,\"w+\")\n",
        " \n",
        "def delete_file(path):\n",
        "    print('deleting file {}'.format(path))\n",
        "    os.remove(path)\n",
        " \n",
        " \n",
        "create_file(r'c:\\temp\\dummy_file.txt')\n",
        "delete_file(r'c:\\temp\\dummy_file.txt')\n",
        "create_file(r'c:\\temp\\dummy_file.txt')\n",
        "delete_file(r'c:\\temp\\dummy_file.txt')\n",
        "\n",
        "\n",
        "Proponowana kolejność to:\n",
        "\n",
        "zaimportuj moduł os, functools, a z modułu datetime zaimportuj  datetime aliasując go jako dt\n",
        "\n",
        "Napisz funkcję wrapper_with_log_file, która:\n",
        "\n",
        "przyjmuje parametry logged_action, log_file_path\n",
        "\n",
        "w tej funkcji napisz funkcję wrapper_with_log_to_known_file, która:\n",
        "\n",
        "przyjmie parametr func - określający dla jakiej funkcji ma być utworzony wrapper\n",
        "\n",
        "w tej funkcji napisz funkcję the_real_wrapper, która przyjmie argument path określający plik,  na jakim ma być wykonywana operacja tworzenia lub usuwania plików, która:\n",
        "\n",
        "otworzy plik log_file_path dopisując do niego dane\n",
        "\n",
        "zapisze informację o wykonywanej czynności logged_action, na jakim pliku była wykonywana ta akcja path, oraz datę i godzinę, kiedy to się stało dt.now().strftime(\"%Y-%m-%d %H:%M:%S\")\n",
        "\n",
        "funkcja the_real_wrapper zwróci wynik wywołania funkcji func z parametrem path\n",
        "\n",
        "funkcja wrapper_with_log_to_known_file ma zwróć funkcję the_real_wrapper\n",
        "\n",
        "funkcja wrapper_with_log_file ma zwróć funkcję wrapper_with_log_to_known_file\n",
        "\n",
        "Oznacz funkcje:\n",
        "\n",
        "create_file - dekoratorem tworzącym wrapper z parametrami FILE_CREATE i ścieżką pliku log r'c:/temp/file_create.txt'\n",
        "\n",
        "delete_file - dekoratorem tworzącym wrapper z parametrami FILE_DELETE i ścieżką pliku log r'c:/temp/file_delete.txt'\n",
        "\n",
        "Przetestuj funkcje i sprawdź czy powstały odpowiednie pliki z odpowiednimi wpisami\n",
        "\n"
      ],
      "metadata": {
        "id": "cYlFmnRgObdN"
      }
    },
    {
      "cell_type": "code",
      "execution_count": 2,
      "metadata": {
        "colab": {
          "base_uri": "https://localhost:8080/"
        },
        "id": "9L5DfNZ8OWhO",
        "outputId": "346b130b-4c19-4386-8f99-863280edb219"
      },
      "outputs": [
        {
          "output_type": "stream",
          "name": "stdout",
          "text": [
            "creating file dummy_file.txt\n",
            "deleting file dummy_file.txt\n",
            "creating file dummy_file.txt\n",
            "deleting file dummy_file.txt\n"
          ]
        }
      ],
      "source": [
        "import os\n",
        "from datetime import datetime as dt\n",
        "import functools\n",
        " \n",
        " \n",
        "def wrapper_with_log_file(logged_action, log_file_path):\n",
        "    \n",
        "    def wrapper_with_log_to_known_file(func):\n",
        "        \n",
        "        def the_real_wrapper(path):\n",
        "           \n",
        "            with(open(log_file_path,'a')) as f:\n",
        "                f.write('Action {} executed on {} on {}\\n'.format(logged_action, path, dt.now().strftime(\"%Y-%m-%d %H:%M:%S\")))\n",
        "                 \n",
        "            return func(path)\n",
        "        \n",
        "        return the_real_wrapper\n",
        "    \n",
        "    return wrapper_with_log_to_known_file\n",
        " \n",
        "@wrapper_with_log_file('FILE_CREATE','file_create.txt')\n",
        "def create_file(path):\n",
        "    print('creating file {}'.format(path))\n",
        "    open(path,\"w+\")\n",
        " \n",
        "@wrapper_with_log_file('FILE_DELETE','file_delete.txt')\n",
        "def delete_file(path):\n",
        "    print('deleting file {}'.format(path))\n",
        "    os.remove(path)\n",
        " \n",
        " \n",
        "create_file('dummy_file.txt')\n",
        "delete_file('dummy_file.txt')\n",
        "create_file('dummy_file.txt')\n",
        "delete_file('dummy_file.txt')"
      ]
    }
  ]
}