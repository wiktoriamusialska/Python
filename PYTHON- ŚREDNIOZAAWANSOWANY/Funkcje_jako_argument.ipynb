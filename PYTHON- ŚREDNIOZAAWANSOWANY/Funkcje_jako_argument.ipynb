{
  "nbformat": 4,
  "nbformat_minor": 0,
  "metadata": {
    "colab": {
      "provenance": [],
      "collapsed_sections": []
    },
    "kernelspec": {
      "name": "python3",
      "display_name": "Python 3"
    },
    "language_info": {
      "name": "python"
    }
  },
  "cells": [
    {
      "cell_type": "markdown",
      "source": [
        "Dane są następujące funkcje:\n",
        "\n",
        "def double(x):\n",
        "    return 2 *x\n",
        " \n",
        "def square(x):\n",
        "    return x**2\n",
        " \n",
        "def negative(x):\n",
        "    return -x\n",
        " \n",
        "def div2(x):\n",
        "    return x/2\n",
        "Napisz funkcję, która stanie się wspólnym interfejsem dla tych funkcji. Niech nowa funkcja nazywa sie generate_values i:\n",
        "\n",
        "jako pierwszy argument przyjmuje nazwę funkcji (jedną z wyżej wymienionych)\n",
        "\n",
        "jako drugi argument przyjmuje listę liczb, dla których ma być wyznaczona wartość\n",
        "\n",
        "ta funkcja powinna wygenerować wartość dla każdej wartości z listy z poprzedniego punktu i zwrócić listę z wynikami\n",
        "\n",
        "Przetestuj funkcję wywołując:\n",
        "\n",
        "x_table = list(range(11))\n",
        " \n",
        "print(generate_values(double, x_table))\n",
        "print(generate_values(square, x_table))\n",
        "print(generate_values(negative, x_table))\n",
        "print(generate_values(div2, x_table))"
      ],
      "metadata": {
        "id": "hIsif26xAdWJ"
      }
    },
    {
      "cell_type": "code",
      "execution_count": 1,
      "metadata": {
        "id": "4ag8qdqmAYei"
      },
      "outputs": [],
      "source": [
        "def double(x):\n",
        "    return 2 *x\n",
        " \n",
        "def square(x):\n",
        "    return x**2\n",
        " \n",
        "def negative(x):\n",
        "    return -x\n",
        " \n",
        "def div2(x):\n",
        "    return x/2"
      ]
    },
    {
      "cell_type": "code",
      "source": [
        "def generate_values(name_of_function,list_of_people):\n",
        "  result=[]\n",
        "  for value in list_of_people:\n",
        "    value2 = name_of_function(value)\n",
        "    result.append(value2)\n",
        "  return result"
      ],
      "metadata": {
        "id": "DPJZae35Atyz"
      },
      "execution_count": 5,
      "outputs": []
    },
    {
      "cell_type": "code",
      "source": [
        "x_table = list(range(11))\n",
        " \n",
        "print(generate_values(double, x_table))\n",
        "print(generate_values(square, x_table))\n",
        "print(generate_values(negative, x_table))\n",
        "print(generate_values(div2, x_table))"
      ],
      "metadata": {
        "colab": {
          "base_uri": "https://localhost:8080/"
        },
        "id": "fclyRngrBkxF",
        "outputId": "9d0ec83d-1a41-4a98-dc2b-5952a4488f34"
      },
      "execution_count": 6,
      "outputs": [
        {
          "output_type": "stream",
          "name": "stdout",
          "text": [
            "[0, 2, 4, 6, 8, 10, 12, 14, 16, 18, 20]\n",
            "[0, 1, 4, 9, 16, 25, 36, 49, 64, 81, 100]\n",
            "[0, -1, -2, -3, -4, -5, -6, -7, -8, -9, -10]\n",
            "[0.0, 0.5, 1.0, 1.5, 2.0, 2.5, 3.0, 3.5, 4.0, 4.5, 5.0]\n"
          ]
        }
      ]
    },
    {
      "cell_type": "code",
      "source": [
        "###inaczej\n",
        "def double(x):\n",
        "    return 2 *x\n",
        " \n",
        "def square(x):\n",
        "    return x**2\n",
        " \n",
        "def negative(x):\n",
        "    return -x\n",
        " \n",
        "def div2(x):\n",
        "    return x/2\n",
        " \n",
        " \n",
        "def generate_values(how, x_table):\n",
        " \n",
        "    value_list = []\n",
        "    \n",
        "    for x in x_table:\n",
        "        value_list.append(how(x))\n",
        " \n",
        "    return value_list\n",
        " \n",
        " \n",
        "x_table = list(range(11))\n",
        " \n",
        "print(generate_values(double, x_table))\n",
        "print(generate_values(square, x_table))\n",
        "print(generate_values(negative, x_table))\n",
        "print(generate_values(div2, x_table))"
      ],
      "metadata": {
        "colab": {
          "base_uri": "https://localhost:8080/"
        },
        "id": "AujaOY4mByr5",
        "outputId": "bdd039f9-d571-4f17-952e-ed7f4dbbab8b"
      },
      "execution_count": 4,
      "outputs": [
        {
          "output_type": "stream",
          "name": "stdout",
          "text": [
            "[0, 2, 4, 6, 8, 10, 12, 14, 16, 18, 20]\n",
            "[0, 1, 4, 9, 16, 25, 36, 49, 64, 81, 100]\n",
            "[0, -1, -2, -3, -4, -5, -6, -7, -8, -9, -10]\n",
            "[0.0, 0.5, 1.0, 1.5, 2.0, 2.5, 3.0, 3.5, 4.0, 4.5, 5.0]\n"
          ]
        }
      ]
    }
  ]
}