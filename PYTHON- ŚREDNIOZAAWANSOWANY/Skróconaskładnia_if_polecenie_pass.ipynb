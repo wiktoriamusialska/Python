{
  "nbformat": 4,
  "nbformat_minor": 0,
  "metadata": {
    "colab": {
      "provenance": [],
      "collapsed_sections": []
    },
    "kernelspec": {
      "name": "python3",
      "display_name": "Python 3"
    },
    "language_info": {
      "name": "python"
    }
  },
  "cells": [
    {
      "cell_type": "code",
      "execution_count": 12,
      "metadata": {
        "id": "ytbwNteTih4q"
      },
      "outputs": [],
      "source": [
        "price = 123\n",
        "bonus = 23\n",
        "bonus_granted = True"
      ]
    },
    {
      "cell_type": "code",
      "source": [
        "if bonus_granted:\n",
        "    price -= bonus\n",
        " \n",
        "print(price)"
      ],
      "metadata": {
        "colab": {
          "base_uri": "https://localhost:8080/"
        },
        "id": "jZOE6TegjLiG",
        "outputId": "3407db82-80ff-4853-e8b9-5f91709fa2c8"
      },
      "execution_count": 13,
      "outputs": [
        {
          "output_type": "stream",
          "name": "stdout",
          "text": [
            "100\n"
          ]
        }
      ]
    },
    {
      "cell_type": "code",
      "source": [
        "###wersja skrócona"
      ],
      "metadata": {
        "id": "rg-i_phNjVt9"
      },
      "execution_count": null,
      "outputs": []
    },
    {
      "cell_type": "code",
      "source": [
        "print(price-bonus) if bonus_granted else print(price)"
      ],
      "metadata": {
        "colab": {
          "base_uri": "https://localhost:8080/"
        },
        "id": "jIjPhaGkiuPP",
        "outputId": "fa3f1a02-d3b2-4966-ec02-38b7ce140769"
      },
      "execution_count": 11,
      "outputs": [
        {
          "output_type": "stream",
          "name": "stdout",
          "text": [
            "100\n"
          ]
        }
      ]
    },
    {
      "cell_type": "code",
      "source": [
        "rating = 5\n",
        " \n",
        "if rating == 5:\n",
        "    print('very good')\n",
        "elif rating == 4:\n",
        "    print('good')\n",
        "else:\n",
        "    print('weak')"
      ],
      "metadata": {
        "colab": {
          "base_uri": "https://localhost:8080/"
        },
        "id": "r44pqI-TjYHB",
        "outputId": "665cb22d-eb20-4ba7-9fed-722a3971c7fe"
      },
      "execution_count": 21,
      "outputs": [
        {
          "output_type": "stream",
          "name": "stdout",
          "text": [
            "very good\n"
          ]
        }
      ]
    },
    {
      "cell_type": "code",
      "source": [
        "odp= 'very good' if rating == 5 else 'good' if rating==4 else 'weak'\n",
        "print(odp)"
      ],
      "metadata": {
        "colab": {
          "base_uri": "https://localhost:8080/"
        },
        "id": "9OpuYOUjjZ35",
        "outputId": "7a241524-230c-46e8-c654-11a19330d698"
      },
      "execution_count": 22,
      "outputs": [
        {
          "output_type": "stream",
          "name": "stdout",
          "text": [
            "very good\n"
          ]
        }
      ]
    },
    {
      "cell_type": "markdown",
      "source": [
        "Napisz program, który:\n",
        "\n",
        "zapisze w zmiennej today_weekday nazwę dzisiejszego dnia tygodnia\n",
        "\n",
        "bazując na pierwszej zwrotce piosenki serią poleceń if/elif/.../else ustali co dzisiaj powinieneś robić\n",
        "\n",
        "Przepisz powyższy program stosując składnie uproszczona polecenia if\n"
      ],
      "metadata": {
        "id": "Mnap-6vGkymP"
      }
    },
    {
      "cell_type": "code",
      "source": [
        "import datetime as dt\n",
        " \n",
        "today_weekday = dt.date.today().strftime(\"%A\")\n",
        " \n",
        "if today_weekday == 'Monday':\n",
        "    print(\"I'm helping my mum\")\n",
        "elif today_weekday == 'Tuesday' or today_weekday == 'Wednesday':\n",
        "    print(\"You are doing laundry\")\n",
        "elif today_weekday == 'Thursday':\n",
        "    print(\"I'm on duty\")\n",
        "elif today_weekday == 'Friday':\n",
        "    print(\"I have two meetings\")\n",
        "elif today_weekday == 'Saturday':\n",
        "    print(\"You have lessons\")\n",
        "else:\n",
        "    print(\"SUNDAY WILL BE FOR US\")\n",
        " \n",
        " \n",
        "print(\"I'm helping my mum\" if today_weekday == 'Monday' else\n",
        "      \"You are doing laundry\" if today_weekday == 'Tuesday' or today_weekday == 'Wednesday' else\n",
        "      \"I'm on duty\" if today_weekday == 'Thursday' else\n",
        "      \"I have two meetings\" if today_weekday == 'Friday' else\n",
        "      \"You have lessons\" if today_weekday == 'Saturday' else\n",
        "      \"SUNDAY WILL BE FOR US\")"
      ],
      "metadata": {
        "colab": {
          "base_uri": "https://localhost:8080/"
        },
        "id": "mcas-KS9kVLd",
        "outputId": "d37558ec-ccb9-454c-dc42-04c6b61cafbe"
      },
      "execution_count": 24,
      "outputs": [
        {
          "output_type": "stream",
          "name": "stdout",
          "text": [
            "SUNDAY WILL BE FOR US\n",
            "SUNDAY WILL BE FOR US\n"
          ]
        }
      ]
    }
  ]
}