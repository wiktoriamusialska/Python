{
  "nbformat": 4,
  "nbformat_minor": 0,
  "metadata": {
    "colab": {
      "provenance": [],
      "collapsed_sections": []
    },
    "kernelspec": {
      "name": "python3",
      "display_name": "Python 3"
    },
    "language_info": {
      "name": "python"
    }
  },
  "cells": [
    {
      "cell_type": "markdown",
      "source": [
        "Oto kod pewnego programu:\n",
        "\n",
        "cake_01_taste = 'vanilia'\n",
        "cake_01_glaze = 'chocolade'\n",
        "cake_01_text = 'Happy Brithday'\n",
        "cake_01_weight = 0.7\n",
        " \n",
        "cake_02_taste = 'tee'\n",
        "cake_02_glaze = 'lemon'\n",
        "cake_02_text = 'Happy Python Coding'\n",
        "cake_02_weight = 1.3\n",
        " \n",
        " \n",
        "def show_cake_info(taste, glaze, text, weight):\n",
        "    print('{} cake with {} glaze with text \"{}\" of {} kg'.format(\n",
        "        taste, glaze, text, weight))\n",
        " \n",
        "show_cake_info(cake_01_taste, cake_01_glaze, cake_01_text, cake_01_weight)\n",
        "show_cake_info(cake_02_taste, cake_02_glaze, cake_02_text, cake_02_weight)\n",
        "\n",
        "\n",
        "Zmień go stosując następujące techniki:\n",
        "\n",
        "zmień definicję zmiennych na słownik z właściwościami\n",
        "\n",
        "zmień definicję funkcji, tak aby przyjmowała jeden parametr i nadal wyświetlała informacje przekazane parametrem\n",
        "\n",
        "utwórz listę tortów i przechodząc przez nią wyświetl informacje zwracane przez funkcje show_cake_info"
      ],
      "metadata": {
        "id": "E0VPuyMyG9HX"
      }
    },
    {
      "cell_type": "code",
      "execution_count": 1,
      "metadata": {
        "colab": {
          "base_uri": "https://localhost:8080/"
        },
        "id": "6qtl2TWxG8SS",
        "outputId": "dded5af7-ac52-4f32-e481-c537764a7392"
      },
      "outputs": [
        {
          "output_type": "stream",
          "name": "stdout",
          "text": [
            "vanilia cake with chocolade glaze with text \"Happy Brithday\" of 0.7 kg\n",
            "tee cake with lemon glaze with text \"Happy Python Coding\" of 1.3 kg\n"
          ]
        }
      ],
      "source": [
        "cake_01 = {'taste'  : 'vanilia',\n",
        "           'glaze'  : 'chocolade',\n",
        "           'text'   : 'Happy Brithday',\n",
        "           'weight' : 0.7 }\n",
        " \n",
        " \n",
        "cake_02 = {'taste'  : 'tee',\n",
        "           'glaze'  : 'lemon',\n",
        "           'text'   : 'Happy Python Coding',\n",
        "           'weight' : 1.3 }\n",
        " \n",
        "def show_cake_info(a_cake):\n",
        "    print('{} cake with {} glaze with text \"{}\" of {} kg'.format(\n",
        "        a_cake['taste'], a_cake['glaze'], a_cake['text'], a_cake['weight']))\n",
        " \n",
        "cakes = [cake_01, cake_02]\n",
        " \n",
        "for a_cake in cakes:\n",
        "    show_cake_info(a_cake)"
      ]
    }
  ]
}