{
  "nbformat": 4,
  "nbformat_minor": 0,
  "metadata": {
    "colab": {
      "provenance": [],
      "collapsed_sections": []
    },
    "kernelspec": {
      "name": "python3",
      "display_name": "Python 3"
    },
    "language_info": {
      "name": "python"
    }
  },
  "cells": [
    {
      "cell_type": "markdown",
      "source": [
        "Oto deklaracja zmiennej days:\n",
        "\n",
        "days = ['mon','tue','wed','thu','fri','sat','sun']\n",
        "\n",
        "należy utworzyć zmienną workdays, która początkowo będzie zawierać te same elementy co days\n",
        "\n",
        "następnie należy usunąć z workdays dni wolne\n",
        "\n",
        "na koniec wyświetl days i workdays i upewnij się, że sobota i niedziela zniknęły tylko z listy workdays"
      ],
      "metadata": {
        "id": "M_3ZGm1cmfmm"
      }
    },
    {
      "cell_type": "code",
      "execution_count": null,
      "metadata": {
        "id": "DXpH4H_GuzSk"
      },
      "outputs": [],
      "source": [
        "days = ['mon','tue','wed','thu','fri','sat','sun']"
      ]
    },
    {
      "cell_type": "code",
      "source": [
        "workdays=days.copy()\n",
        "workdays"
      ],
      "metadata": {
        "colab": {
          "base_uri": "https://localhost:8080/"
        },
        "id": "i1uOeWntu_gW",
        "outputId": "9dbb0834-985a-40b9-ba64-66055ba0132c"
      },
      "execution_count": null,
      "outputs": [
        {
          "output_type": "execute_result",
          "data": {
            "text/plain": [
              "['mon', 'tue', 'wed', 'thu', 'fri', 'sat', 'sun']"
            ]
          },
          "metadata": {},
          "execution_count": 2
        }
      ]
    },
    {
      "cell_type": "code",
      "source": [
        "workdays.remove('sat')\n",
        "workdays.remove('sun')\n",
        "workdays"
      ],
      "metadata": {
        "colab": {
          "base_uri": "https://localhost:8080/"
        },
        "id": "SNmQlH9GvFCe",
        "outputId": "06a02ce6-40a8-4756-d14b-b794e375bd9b"
      },
      "execution_count": null,
      "outputs": [
        {
          "output_type": "execute_result",
          "data": {
            "text/plain": [
              "['mon', 'tue', 'wed', 'thu', 'fri']"
            ]
          },
          "metadata": {},
          "execution_count": 6
        }
      ]
    },
    {
      "cell_type": "code",
      "source": [
        "print(\"workdays\",workdays)\n",
        "print(\"days\",days)"
      ],
      "metadata": {
        "colab": {
          "base_uri": "https://localhost:8080/"
        },
        "id": "k-zVRH7AvalI",
        "outputId": "458b15b0-7ae4-44d2-ec72-8f0cd13cdc59"
      },
      "execution_count": null,
      "outputs": [
        {
          "output_type": "stream",
          "name": "stdout",
          "text": [
            "workdays ['mon', 'tue', 'wed', 'thu', 'fri']\n",
            "days ['mon', 'tue', 'wed', 'thu', 'fri', 'sat', 'sun']\n"
          ]
        }
      ]
    }
  ]
}