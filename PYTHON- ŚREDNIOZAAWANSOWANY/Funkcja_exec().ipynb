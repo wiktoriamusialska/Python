{
  "nbformat": 4,
  "nbformat_minor": 0,
  "metadata": {
    "colab": {
      "provenance": [],
      "collapsed_sections": []
    },
    "kernelspec": {
      "name": "python3",
      "display_name": "Python 3"
    },
    "language_info": {
      "name": "python"
    }
  },
  "cells": [
    {
      "cell_type": "markdown",
      "source": [
        "Tym razem pracujesz w zwariowanym ośrodku badawczym...\n",
        "\n",
        "Profesorowie przygotowują swoje skrypty i umieszczają je w określonym katalogu. Twój skrypt ma za zadanie przeczytać te skrypty i je po kolei wykonywać.\n",
        "\n",
        "Poniżej znajdują się dwa przykładowe skrypty. Każdy z nich skopiuj i zapisz w osobnym pliku (jeżeli wykonanie skryptu miało by być zbyt długie, możesz zmienić ilość iteracji w zmiennej for, ale nie powinno być tak źle):\n",
        "\n",
        "\n",
        "```\n",
        "# Sformatowano jako kod\n",
        "```\n",
        "#import math\n",
        " \n",
        "#argument_list = []\n",
        "#results_list = []\n",
        " \n",
        "#for i in range (1000000):\n",
        "    #argument_list.append(i/10)\n",
        "    \n",
        "#for x in argument_list:\n",
        "    #results_list.append(abs(math.sin(x) * x**2))\n",
        " \n",
        "#print('min = {}  max = {}'.format(min(results_list), max(results_list)))\n",
        "\n",
        "\n",
        "#import math\n",
        " \n",
        "#argument_list = []\n",
        "#results_list = []\n",
        " \n",
        "#for i in range (1000000):\n",
        "    #argument_list.append(i/10)\n",
        "    \n",
        "#for x in argument_list:\n",
        "    #results_list.append(abs(x**3 - x**0.5))\n",
        " \n",
        "#print('min = {}  max = {}'.format(min(results_list), max(results_list)))\n",
        "Utwórz listę zawierającą ścieżki dostępu do skryptów:\n",
        "\n",
        "#files_to_process = [\n",
        "    #r\"C:\\Python\\math_sin_square.py\",\n",
        "    #r\"C:\\Python\\math_square_root.py\"\n",
        "    #]\n",
        "\n",
        "    \n",
        "\n",
        "\n",
        "\n",
        "```\n",
        "# Sformatowano jako kod\n",
        "```\n",
        "\n",
        "\n",
        "Dla każdego pliku:\n",
        "\n",
        "wyświetl nazwę pliku (skorzystaj z funkcji os.path.basename z modułu os)\n",
        "\n",
        "otwórz dany plik i wczytaj go do zmiennej source\n",
        "\n",
        "Wykonaj ten skrypt\n",
        "\n",
        "\n",
        "\n"
      ],
      "metadata": {
        "id": "Clbl970SOtME"
      }
    },
    {
      "cell_type": "code",
      "execution_count": 4,
      "metadata": {
        "colab": {
          "base_uri": "https://localhost:8080/",
          "height": 235
        },
        "id": "QNVJs0DnOozB",
        "outputId": "67da3d4b-9e09-4aef-e409-d1726362b5ab"
      },
      "outputs": [
        {
          "output_type": "error",
          "ename": "FileNotFoundError",
          "evalue": "ignored",
          "traceback": [
            "\u001b[0;31m---------------------------------------------------------------------------\u001b[0m",
            "\u001b[0;31mFileNotFoundError\u001b[0m                         Traceback (most recent call last)",
            "\u001b[0;32m<ipython-input-4-5bf3907d15bc>\u001b[0m in \u001b[0;36m<module>\u001b[0;34m\u001b[0m\n\u001b[1;32m      9\u001b[0m \u001b[0;32mfor\u001b[0m \u001b[0mfile_path\u001b[0m \u001b[0;32min\u001b[0m \u001b[0mfiles_to_process\u001b[0m\u001b[0;34m:\u001b[0m\u001b[0;34m\u001b[0m\u001b[0;34m\u001b[0m\u001b[0m\n\u001b[1;32m     10\u001b[0m \u001b[0;34m\u001b[0m\u001b[0m\n\u001b[0;32m---> 11\u001b[0;31m     \u001b[0;32mwith\u001b[0m \u001b[0mopen\u001b[0m\u001b[0;34m(\u001b[0m\u001b[0mfile_path\u001b[0m\u001b[0;34m,\u001b[0m \u001b[0;34m'r'\u001b[0m\u001b[0;34m)\u001b[0m \u001b[0;32mas\u001b[0m \u001b[0mf\u001b[0m\u001b[0;34m:\u001b[0m\u001b[0;34m\u001b[0m\u001b[0;34m\u001b[0m\u001b[0m\n\u001b[0m\u001b[1;32m     12\u001b[0m         \u001b[0mprint\u001b[0m\u001b[0;34m(\u001b[0m\u001b[0;34m\"File {} ...\"\u001b[0m\u001b[0;34m.\u001b[0m\u001b[0mformat\u001b[0m\u001b[0;34m(\u001b[0m\u001b[0mos\u001b[0m\u001b[0;34m.\u001b[0m\u001b[0mpath\u001b[0m\u001b[0;34m.\u001b[0m\u001b[0mbasename\u001b[0m\u001b[0;34m(\u001b[0m\u001b[0mfile_path\u001b[0m\u001b[0;34m)\u001b[0m\u001b[0;34m)\u001b[0m\u001b[0;34m)\u001b[0m\u001b[0;34m\u001b[0m\u001b[0;34m\u001b[0m\u001b[0m\n\u001b[1;32m     13\u001b[0m         \u001b[0msource\u001b[0m \u001b[0;34m=\u001b[0m \u001b[0mf\u001b[0m\u001b[0;34m.\u001b[0m\u001b[0mread\u001b[0m\u001b[0;34m(\u001b[0m\u001b[0;34m)\u001b[0m\u001b[0;34m\u001b[0m\u001b[0;34m\u001b[0m\u001b[0m\n",
            "\u001b[0;31mFileNotFoundError\u001b[0m: [Errno 2] No such file or directory: 'math_sin_square.py'"
          ]
        }
      ],
      "source": [
        "import os\n",
        " \n",
        " \n",
        "files_to_process = [\n",
        "    r\"C:\\Python\\math_sin_square.py\",\n",
        "    r\"C:\\Python\\math_square_root.py\"\n",
        "    ]\n",
        " \n",
        "for file_path in files_to_process:\n",
        " \n",
        "    with open(file_path, 'r') as f:\n",
        "        print(\"File {} ...\".format(os.path.basename(file_path)))\n",
        "        source = f.read()\n",
        "        exec(source)"
      ]
    },
    {
      "cell_type": "code",
      "source": [],
      "metadata": {
        "id": "CtbVrJ0ZPlnl"
      },
      "execution_count": null,
      "outputs": []
    }
  ]
}