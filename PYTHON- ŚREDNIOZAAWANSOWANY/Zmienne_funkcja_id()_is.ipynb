{
  "nbformat": 4,
  "nbformat_minor": 0,
  "metadata": {
    "colab": {
      "provenance": [],
      "collapsed_sections": []
    },
    "kernelspec": {
      "name": "python3",
      "display_name": "Python 3"
    },
    "language_info": {
      "name": "python"
    }
  },
  "cells": [
    {
      "cell_type": "markdown",
      "source": [
        "'''\n",
        "W tym zadaniu sprawdzimy, jak zachowują się zmienne podczas modyfikowania ich wartości\n",
        "W pierwszym przypadku zainicjuj zmienne a, b, c wartością 10. W tym celu wykonaj tylko\n",
        "jedną instrukcję.\n",
        "Wyświetl wartości zmiennych oraz ich identyfikatory\n",
        "Następnie zmień wartość zmiennej a np. na 20\n",
        "Ponownie wyświetl wartości zmiennych i ich identyfikatory\n",
        "(identyfikator zmiennej a powinien się zmienić\n",
        "'''"
      ],
      "metadata": {
        "id": "g3N7hojTlcLH"
      }
    },
    {
      "cell_type": "code",
      "execution_count": null,
      "metadata": {
        "colab": {
          "base_uri": "https://localhost:8080/"
        },
        "id": "B5QGAVDsFBXD",
        "outputId": "5a60e8c6-3c33-4f31-e889-f9d0276b4158"
      },
      "outputs": [
        {
          "output_type": "stream",
          "name": "stdout",
          "text": [
            "10 <class 'int'> 11256352\n",
            "10 <class 'int'> 11256352\n",
            "10 <class 'int'> 11256352\n"
          ]
        }
      ],
      "source": [
        "a=10\n",
        "b=10\n",
        "c=10\n",
        "print(a,type(a),id(a))\n",
        "print(b,type(b),id(b))\n",
        "print(c,type(c),id(c))"
      ]
    },
    {
      "cell_type": "code",
      "source": [
        "a=20\n",
        "print(a,type(a),id(a))\n",
        "print(b,type(b),id(b))\n",
        "print(c,type(c),id(c))"
      ],
      "metadata": {
        "colab": {
          "base_uri": "https://localhost:8080/"
        },
        "id": "OUna9HbnFWAY",
        "outputId": "2093cdc8-a209-4857-b337-f36450c64039"
      },
      "execution_count": null,
      "outputs": [
        {
          "output_type": "stream",
          "name": "stdout",
          "text": [
            "20 <class 'int'> 11256672\n",
            "10 <class 'int'> 11256352\n",
            "10 <class 'int'> 11256352\n"
          ]
        }
      ]
    },
    {
      "cell_type": "markdown",
      "source": [
        " \n",
        "'''\n",
        "Teraz wykonaj jeszcze raz te same czynności, co poprzednio ale z delikatną różnicą:\n",
        "-zmienne a, b i c mają mieć przypisaną wartość w postaci listy, np. [1,2,3]\n",
        "-modyfikacja zmiennej a ma polegać na dodaniu do listy a nowego elementu, np. liczby 4\n",
        "(identyfikator zmiennej a powinien być teraz taki sam jak b i c, dodatkowo zmieni się jednocześnie lista w zmiennych b i c\n",
        "'''"
      ],
      "metadata": {
        "id": "0bBEqb1kliPY"
      }
    },
    {
      "cell_type": "code",
      "source": [
        "a=[1,2,3]\n",
        "b=[1,2,3]\n",
        "c=[1,2,3]\n",
        "print(a,type(a),id(a))\n",
        "print(b,type(b),id(b))\n",
        "print(c,type(c),id(c))\n"
      ],
      "metadata": {
        "colab": {
          "base_uri": "https://localhost:8080/"
        },
        "id": "MAoNbSgDFxbO",
        "outputId": "1c93f253-0093-4f24-f8c9-4eae0e0e178f"
      },
      "execution_count": null,
      "outputs": [
        {
          "output_type": "stream",
          "name": "stdout",
          "text": [
            "[1, 2, 3] <class 'list'> 140422641155200\n",
            "[1, 2, 3] <class 'list'> 140422641011200\n",
            "[1, 2, 3] <class 'list'> 140422641670896\n"
          ]
        }
      ]
    },
    {
      "cell_type": "code",
      "source": [
        "a.append(4)\n",
        "print(a,type(a),id(a))\n",
        "print(b,type(b),id(b))\n",
        "print(c,type(c),id(c))"
      ],
      "metadata": {
        "colab": {
          "base_uri": "https://localhost:8080/"
        },
        "id": "-XUG9ySlF9zW",
        "outputId": "2a87e1a1-ee15-4e9d-86a5-461ae1aed9c9"
      },
      "execution_count": null,
      "outputs": [
        {
          "output_type": "stream",
          "name": "stdout",
          "text": [
            "[1, 2, 3, 4] <class 'list'> 140422641155200\n",
            "[1, 2, 3] <class 'list'> 140422641011200\n",
            "[1, 2, 3] <class 'list'> 140422641670896\n"
          ]
        }
      ]
    },
    {
      "cell_type": "markdown",
      "source": [
        "'''\n",
        "Dlaczego tak się stało?\n",
        "W pierwszym przykładzie a, b, c były wskaźnikami do komórki pamięci, w której była zapisana liczba, czyli końcowa wartość\n",
        "W drugim przykładzie a, b, c to wskaźnik do komórki pamięci, w której jest lista. Lista jest wskaźnikiem do elementów tej listy. Kiedy dodajesz nowy element do listy, nie modyfikujesz podstawowej komórki pamięci z listą, dlatego id się nie zmienił\n",
        "'''\n",
        " \n",
        "'''\n",
        "Uwaga - tu można się spodziewać, że w różnych wersjach Pytona uzyskamy różne wyniki, ale...\n",
        "Do zmiennej x przypisz wartość 10\n",
        "Do zmiennej y przypisz wartość 10 (użyj przypisań w dwóch osobnych liniach!)\n",
        "Wyświetl id tych zmiennych\n",
        "(chociaż mamy do czynienia z dwoma niezależnymi zmiennymi, to optymalizator pythona nadał im ten sam id)\n",
        "'''"
      ],
      "metadata": {
        "id": "-DiK9vPylqJV"
      }
    },
    {
      "cell_type": "code",
      "source": [
        "x=10\n",
        "y=10\n",
        "print(id(x))\n",
        "print(id(y))"
      ],
      "metadata": {
        "colab": {
          "base_uri": "https://localhost:8080/"
        },
        "id": "WsV_VY0hGtqW",
        "outputId": "841dab34-2373-4886-e2cf-1c8e6518fdb7"
      },
      "execution_count": null,
      "outputs": [
        {
          "output_type": "stream",
          "name": "stdout",
          "text": [
            "11256352\n",
            "11256352\n"
          ]
        }
      ]
    },
    {
      "cell_type": "markdown",
      "source": [
        " \n",
        "'''\n",
        "Do zmiennej y przypisz wartość y plus 1 minus 1.\n",
        "Sprawdź identyfikatory zmiennych x i y\n",
        "(identyfikatory nadal powinny być takie same, tzn. optymalizator poradził sobie z prostym działaniem + 1 - 1)\n",
        "'''"
      ],
      "metadata": {
        "id": "JQzIOcaAlu-U"
      }
    },
    {
      "cell_type": "code",
      "source": [
        "y=y+1-1\n",
        "print(id(y))"
      ],
      "metadata": {
        "colab": {
          "base_uri": "https://localhost:8080/"
        },
        "id": "6Kcy2RZxHTut",
        "outputId": "8e22ceb9-4ccc-4df1-b46a-8d31470291ea"
      },
      "execution_count": null,
      "outputs": [
        {
          "output_type": "stream",
          "name": "stdout",
          "text": [
            "11256352\n"
          ]
        }
      ]
    },
    {
      "cell_type": "markdown",
      "source": [
        "'''\n",
        "Powtórz operację dodawania i odejmowania od y, ale tym razem dodaj i odejmij wartość 1234567890\n",
        "Sprawdź identyfikatory zmiennych x i y\n",
        "(identyfikatory powinny być różne, tzn. optymalizator nie rozpoznał, że zmienne mają nadal te same wartości)\n",
        "'''"
      ],
      "metadata": {
        "id": "50X0VUmIlzs9"
      }
    },
    {
      "cell_type": "code",
      "source": [
        "y=10+1234567890-1234567890\n",
        "print(id(y))"
      ],
      "metadata": {
        "colab": {
          "base_uri": "https://localhost:8080/"
        },
        "id": "QiakFmscG9nV",
        "outputId": "7610075e-c6d7-4f82-d76d-53e1684b500c"
      },
      "execution_count": null,
      "outputs": [
        {
          "output_type": "stream",
          "name": "stdout",
          "text": [
            "140422641445872\n"
          ]
        }
      ]
    }
  ]
}