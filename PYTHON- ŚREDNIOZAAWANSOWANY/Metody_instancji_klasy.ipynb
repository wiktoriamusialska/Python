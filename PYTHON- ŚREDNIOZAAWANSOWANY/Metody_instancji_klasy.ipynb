{
  "nbformat": 4,
  "nbformat_minor": 0,
  "metadata": {
    "colab": {
      "provenance": []
    },
    "kernelspec": {
      "name": "python3",
      "display_name": "Python 3"
    },
    "language_info": {
      "name": "python"
    }
  },
  "cells": [
    {
      "cell_type": "markdown",
      "source": [
        "Do klasy z poprzedniego zadania dodaj 3 metody:\n",
        "\n",
        "show info, która\n",
        "\n",
        "wyświetli wielkimi literami nazwę produktu\n",
        "\n",
        "wyświetli informację o smaku\n",
        "\n",
        "jeśli produkt ma jakieś dodatki to je wyświetli\n",
        "\n",
        "jeśli produkt ma nadzienie to je wyświetli\n",
        "\n",
        "(oczywiście przetestuj działanie funkcji po jej zaimplementowaniu)\n",
        "\n",
        "set_filling, która\n",
        "\n",
        "jako argument przyjmie nazwę nadzienia ciasta\n",
        "\n",
        "zapisze ją w atrybucie filling dla ciasta\n",
        "\n",
        "(oczywiście przetestuj działanie funkcji)\n",
        "\n",
        "add_additives, która\n",
        "\n",
        "jako argument przyjmie listę dodatków\n",
        "\n",
        "wartości z listy doda do aktualnej listy dodatków\n",
        "\n",
        "(tę funkcję też przetestuj)\n",
        "\n",
        "Następnie dodaj do muffinki nadzienie kremowe, a do bezy dodaj kokos i posypkę kakaową. Tak zmodyfikowane wypieki wyświetl. Poniżej zobacz spodziewany efekt:\n",
        "\n",
        "Today in our offer:\n",
        "VANILLA CAKE\n",
        "Kind:    cake\n",
        "Taste:   vanilla\n",
        "Additives:\n",
        "\tchocolade\n",
        "\tnuts\n",
        "Filling: cream\n",
        "--------------------\n",
        "CHOCOLADE MUFFIN\n",
        "Kind:    muffin\n",
        "Taste:   chocolade\n",
        "Additives:\n",
        "\tchocolade\n",
        "Filling: vanilla cream\n",
        "--------------------\n",
        "SUPER SWEET MARINGUE\n",
        "Kind:    meringue\n",
        "Taste:   very sweet\n",
        "Additives:\n",
        "\tcocoa powder\n",
        "\tcoconuts\n",
        "--------------------\n"
      ],
      "metadata": {
        "id": "llr63qvdPWM_"
      }
    },
    {
      "cell_type": "code",
      "execution_count": 1,
      "metadata": {
        "colab": {
          "base_uri": "https://localhost:8080/"
        },
        "id": "IxaUPXzNMjr3",
        "outputId": "1f911662-9cae-4644-b08c-2490d8ec19ef"
      },
      "outputs": [
        {
          "output_type": "stream",
          "name": "stdout",
          "text": [
            "Today in our offer:\n",
            "VANILLA CAKE\n",
            "Kind:    cake\n",
            "Taste:   vanilla\n",
            "Additives:\n",
            "\tchocolade\n",
            "\tnuts\n",
            "Filling: cream\n",
            "--------------------\n",
            "CHOCOLADE MUFFIN\n",
            "Kind:    muffin\n",
            "Taste:   chocolade\n",
            "Additives:\n",
            "\tchocolade\n",
            "Filling: vanilla cream\n",
            "--------------------\n",
            "SUPER SWEET MARINGUE\n",
            "Kind:    meringue\n",
            "Taste:   very sweet\n",
            "Additives:\n",
            "\tcocoa powder\n",
            "\tcoconuts\n",
            "--------------------\n"
          ]
        }
      ],
      "source": [
        "class Cake:\n",
        " \n",
        "    def __init__(self, name, kind, taste, additives, filling):\n",
        " \n",
        "        self.name = name\n",
        "        self.kind = kind\n",
        "        self.taste = taste\n",
        "        self.additives = additives.copy()\n",
        "        self.filling = filling\n",
        " \n",
        "    def show_info(self):\n",
        "        print(\"{}\".format(self.name.upper()))\n",
        "        print(\"Kind:    {}\".format(self.kind))\n",
        "        print(\"Taste:   {}\".format(self.taste))\n",
        "        if len(self.additives) > 0:\n",
        "            print(\"Additives:\")\n",
        "            for a in self.additives:\n",
        "                print(\"\\t{}\".format(a))\n",
        "        if len(self.filling) > 0:\n",
        "            print(\"Filling: {}\".format(self.filling))\n",
        "        print('-'*20)\n",
        " \n",
        "    def set_filling(self, filling):\n",
        "        self.filling = filling\n",
        " \n",
        "    def add_additives(self, additives):\n",
        "        self.additives.extend(additives)\n",
        " \n",
        "cake01 = Cake('Vanilla Cake','cake', 'vanilla', ['chocolade', 'nuts'], 'cream')\n",
        "cake02 = Cake('Chocolade Muffin','muffin', 'chocolade', ['chocolade'], '')\n",
        "cake03 = Cake('Super Sweet Maringue','meringue', 'very sweet', [], '')\n",
        " \n",
        "bakery_offer = []\n",
        "bakery_offer.append(cake01)\n",
        "bakery_offer.append(cake02)\n",
        "bakery_offer.append(cake03)\n",
        " \n",
        "cake02.set_filling('vanilla cream')\n",
        "cake03.add_additives(['cocoa powder', 'coconuts'])\n",
        " \n",
        " \n",
        "print(\"Today in our offer:\")\n",
        "for c in bakery_offer:\n",
        "    c.show_info()"
      ]
    }
  ]
}