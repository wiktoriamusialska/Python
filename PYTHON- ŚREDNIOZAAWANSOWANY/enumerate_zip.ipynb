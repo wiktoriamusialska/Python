{
  "nbformat": 4,
  "nbformat_minor": 0,
  "metadata": {
    "colab": {
      "provenance": [],
      "collapsed_sections": []
    },
    "kernelspec": {
      "name": "python3",
      "display_name": "Python 3"
    },
    "language_info": {
      "name": "python"
    }
  },
  "cells": [
    {
      "cell_type": "markdown",
      "source": [
        "Utwórz następujące listy:\n",
        "\n",
        "projects = ['Brexit', 'Nord Stream', 'US Mexico Border']\n",
        "leaders = ['Theresa May', 'Wladimir Putin', 'Donald Trump and Bill Clinton']\n",
        "Korzystając ze \"sprytnej\" metody pracy z for wyświetl komunikaty w postaci:\n",
        "\n",
        "The leader of \"...nazwa projektu...\" is ...imię i nazwisko lidera...\n",
        "\n",
        "\n",
        "\n",
        "Utwórz kolejną listę z datami rozpoczęcia projektów:\n",
        "\n",
        "dates = ['2016-06-23', '2016-08-29', '1994-01-01']\n",
        "\n",
        "The leader of \"...nazwa projektu...\"  started ...data rozpoczęcia projektu... is ...imię i nazwisko lidera...\n",
        "\n",
        "\n",
        "\n",
        "Korzystając ze \"sprytnego\" złożenia enumerate i zip - dodaj do komunikatu dodatkowo numer kolejny projektu rozpoczynając od 1:\n",
        "\n",
        "...numer kolejny... - The leader of \"...nazwa projektu...\"  started ...data rozpoczęcia projektu... is ...imię i nazwisko lidera..."
      ],
      "metadata": {
        "id": "d8AXgihqJagv"
      }
    },
    {
      "cell_type": "code",
      "execution_count": 1,
      "metadata": {
        "id": "rvUYAx5dJWlC"
      },
      "outputs": [],
      "source": [
        "projects = ['Brexit', 'Nord Stream', 'US Mexico Border'] \n",
        "leaders = ['Theresa May', 'Wladimir Putin', 'Donald Trump and Bill Clinton'] \n"
      ]
    },
    {
      "cell_type": "code",
      "source": [
        "for i, j in zip(projects,leaders):\n",
        "  print('The leaders of {} is {}'.format(i,j))"
      ],
      "metadata": {
        "colab": {
          "base_uri": "https://localhost:8080/"
        },
        "id": "7xV4bp70Jk0s",
        "outputId": "d0c6348b-97cc-4542-b18f-e205290f674d"
      },
      "execution_count": 2,
      "outputs": [
        {
          "output_type": "stream",
          "name": "stdout",
          "text": [
            "The leaders of Brexit is Theresa May\n",
            "The leaders of Nord Stream is Wladimir Putin\n",
            "The leaders of US Mexico Border is Donald Trump and Bill Clinton\n"
          ]
        }
      ]
    },
    {
      "cell_type": "code",
      "source": [
        "dates = ['2016-06-23', '2016-08-29', '1994-01-01']\n",
        "for i, j, k in zip(projects,dates,leaders):\n",
        "  print('The leaders of {} started {} is {}'.format(i,j,k))"
      ],
      "metadata": {
        "colab": {
          "base_uri": "https://localhost:8080/"
        },
        "id": "UZclqd0IKGoU",
        "outputId": "3a463d39-61bd-4a11-b895-d2b038c1a0fa"
      },
      "execution_count": 3,
      "outputs": [
        {
          "output_type": "stream",
          "name": "stdout",
          "text": [
            "The leaders of Brexit started 2016-06-23 is Theresa May\n",
            "The leaders of Nord Stream started 2016-08-29 is Wladimir Putin\n",
            "The leaders of US Mexico Border started 1994-01-01 is Donald Trump and Bill Clinton\n"
          ]
        }
      ]
    },
    {
      "cell_type": "code",
      "source": [
        "for pos, (i,j,k) in enumerate(zip(projects,dates,leaders)):\n",
        "    print(' {} - The leaders of {} started {} is {}'.format(pos+1,i,j,k))"
      ],
      "metadata": {
        "colab": {
          "base_uri": "https://localhost:8080/"
        },
        "id": "POCjVV6kKf1-",
        "outputId": "49991520-dd00-4e77-c246-d665d4886e4a"
      },
      "execution_count": 5,
      "outputs": [
        {
          "output_type": "stream",
          "name": "stdout",
          "text": [
            " 1 - The leaders of Brexit started 2016-06-23 is Theresa May\n",
            " 2 - The leaders of Nord Stream started 2016-08-29 is Wladimir Putin\n",
            " 3 - The leaders of US Mexico Border started 1994-01-01 is Donald Trump and Bill Clinton\n"
          ]
        }
      ]
    }
  ]
}