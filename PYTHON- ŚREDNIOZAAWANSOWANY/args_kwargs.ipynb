{
  "nbformat": 4,
  "nbformat_minor": 0,
  "metadata": {
    "colab": {
      "provenance": [],
      "collapsed_sections": []
    },
    "kernelspec": {
      "name": "python3",
      "display_name": "Python 3"
    },
    "language_info": {
      "name": "python"
    }
  },
  "cells": [
    {
      "cell_type": "markdown",
      "source": [
        "ZADANIE 1\n",
        "\n",
        "Przygotowujesz program dla sklepu z farbami. Klienci pytają czasami ile farby potrzeba do pomalowania mieszkania.\n",
        "\n",
        "Napisz funkcję calculate_paint, która:\n",
        "\n",
        "przyjmuje argument efficency_ltr_per_m2 - określającą ile farby trzeba do pomalowania metra kwadratowego\n",
        "\n",
        "przyjmuje dowolną ilość kolejnych argumentów odpowiadających za powierzchnie do pomalowania dla pokoi mieszkania, które ma być pomalowane\n",
        "\n",
        "funkcja ma zwracać informację o ilości potrzebnej farby\n",
        "\n",
        "Przetestuj funkcję na dwa sposoby:\n",
        "\n",
        "przekazując powierzchnie do pomalowania w poszczególnych pokojach po prostu po przecinku wywołując funkcję\n",
        "\n",
        "definiując listę z powierzchniami, a następnie przekazując do funkcji tą listę\n",
        "\n",
        "ZADANIE 2\n",
        "\n",
        "Piszesz funkcję log_it, która ma zapisać w pliku tekstowym np. c:\\temp\\log_it.txt przesłane do funkcji argumenty. Funkcja będzie wykorzystywana w innych miejscach programu, gdzie będzie wywoływana w strategicznych momentach, dokumentując działanie programu. Jeśli nie masz innych pomysłów to zadbaj o to aby:\n",
        "\n",
        "można było przesłać dowolną ilość argumentó\n",
        "\n",
        "podczas dopisywania informacji do pliku poszczególne argumenty rozdzielaj spacją\n",
        "\n",
        "na końcu w pliku zapisz ENTER, aby kolejne wywołanie funkcji dopisywało od nowej linijki\n",
        "\n",
        "Przetestuj działanie funkcji wywołując ją np w taki sposób:\n",
        "\n",
        "log_it('Starting processing forecasting')\n",
        "log_it('ERROR', 'Not enough data', 'invoices', '2020')"
      ],
      "metadata": {
        "id": "iz9_YViq-bUi"
      }
    },
    {
      "cell_type": "code",
      "execution_count": 21,
      "metadata": {
        "id": "oRYn5jGw8HjX"
      },
      "outputs": [],
      "source": [
        "def calculate_paint(efficency_ltr_per_m2,*args):\n",
        "  #print(efficency_ltr_per_m2)\n",
        "  #print(args)\n",
        "  for i in range(len(args)):\n",
        "    koszt=efficency_ltr_per_m2*args[i]\n",
        "  #print(cost)\n",
        "  print(\"You need\", koszt, 'paint')"
      ]
    },
    {
      "cell_type": "code",
      "source": [
        "calculate_paint(12,10,20,50)"
      ],
      "metadata": {
        "colab": {
          "base_uri": "https://localhost:8080/"
        },
        "id": "1aNfSIyV_5h9",
        "outputId": "be502af4-914c-4a76-db64-06f3afaa2d66"
      },
      "execution_count": 22,
      "outputs": [
        {
          "output_type": "stream",
          "name": "stdout",
          "text": [
            "You need 600 paint\n"
          ]
        }
      ]
    },
    {
      "cell_type": "code",
      "source": [
        "list_of_meters=[20,50]\n",
        "calculate_paint(12,10,*list_of_meters)"
      ],
      "metadata": {
        "colab": {
          "base_uri": "https://localhost:8080/"
        },
        "id": "Eir78udEBUfe",
        "outputId": "38940bd9-df29-4b09-80c1-3e8032f2a06d"
      },
      "execution_count": 23,
      "outputs": [
        {
          "output_type": "stream",
          "name": "stdout",
          "text": [
            "You need 600 paint\n"
          ]
        }
      ]
    },
    {
      "cell_type": "code",
      "source": [
        "###inaczej\n",
        "def calculate_paint(efficency_ltr_per_m2, *rooms):\n",
        " \n",
        "    total_area = sum(rooms)\n",
        "    paint = total_area * efficency_ltr_per_m2\n",
        "    return paint\n",
        " \n",
        "print(calculate_paint(0.25, 42, 28, 30))\n",
        " \n",
        "rooms = [42, 28, 30]\n",
        "print(calculate_paint(0.25,*rooms))   "
      ],
      "metadata": {
        "colab": {
          "base_uri": "https://localhost:8080/"
        },
        "id": "sqhf8_i9B6e8",
        "outputId": "48b68e89-abc3-46e7-c37e-c4abede96e8a"
      },
      "execution_count": 24,
      "outputs": [
        {
          "output_type": "stream",
          "name": "stdout",
          "text": [
            "25.0\n",
            "25.0\n"
          ]
        }
      ]
    },
    {
      "cell_type": "code",
      "source": [
        "def log_it(*args):\n",
        " \n",
        "    path = 'log_it.txt'\n",
        "    #path = r'c:\\temp\\log_it.txt'\n",
        "    with open(path, \"a\") as f:\n",
        " \n",
        "        for line in args:\n",
        "            f.write(line)\n",
        "            f.write(' ')\n",
        " \n",
        "        f.write(\"\\n\")\n",
        " \n",
        " \n",
        "log_it('Starting processing forecasting')\n",
        "log_it('ERROR', 'Not enough data', 'invoices', '2020')\n"
      ],
      "metadata": {
        "id": "gyX-2-kpBniQ"
      },
      "execution_count": 27,
      "outputs": []
    }
  ]
}