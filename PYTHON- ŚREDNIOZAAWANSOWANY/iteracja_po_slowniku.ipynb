{
  "nbformat": 4,
  "nbformat_minor": 0,
  "metadata": {
    "colab": {
      "provenance": [],
      "collapsed_sections": []
    },
    "kernelspec": {
      "name": "python3",
      "display_name": "Python 3"
    },
    "language_info": {
      "name": "python"
    }
  },
  "cells": [
    {
      "cell_type": "markdown",
      "source": [
        "Piszesz program, który będzie obsługiwał wpłatomat. To będzie super nowoczesny wpłatomat, do którego można też wpłacać monety. Ilekroć ktoś wpłaca pieniądze należy policzyć ile banknotów lub monet danego nominału znajduje się w kasie.\n",
        "\n",
        "Zacznij od poniższej listy, która definiuje dostępne nominałyL\n",
        "\n",
        "banknotes_coins = [0.01, 0.02, 0.05, 0.1, 0.2, 0.5, 1, 2, 5, 10, 20, 50, 100, 200, 500]\n",
        "\n",
        "Dowolną metodą utwórz słownik, który jako klucz będzie przechowywał wartość nominału, a jeśli chodzi o wartości słownika, to póki co mają być zerowe. Proponuję nazwać ten słownik dict_denominations.\n",
        "\n",
        "Teraz do bankomatu podchodzą klienci i wpłacają:\n",
        "\n",
        "dict_denominations[100] += 1\n",
        "dict_denominations[20] += 1\n",
        "dict_denominations[5] += 1\n",
        "dict_denominations[0.5] += 1\n",
        " \n",
        "dict_denominations[50] += 1\n",
        "dict_denominations[20] += 2\n",
        "dict_denominations[5] += 1\n",
        "dict_denominations[2] += 2\n",
        " \n",
        "dict_denominations[100] += 1\n",
        "dict_denominations[50] += 1\n",
        "dict_denominations[2] += 1\n",
        "Napisz polecenie for, które wyświetli ile mamy pieniędzy w określonych monetach lub banknotach. Zestawienie ma zacząć sie od najmniejszych nominałów, a skończyć na największych. Jeśli masz ochotę, to zadbaj o ładne formatowanie wyniku:\n",
        "\n",
        "-nominał na 6 znakach, w tym 2 po przecinku\n",
        "\n",
        "-ilość monet/banknotów - liczba całkowita maksymalnie 5-cyfrowa\n",
        "\n",
        "możesz skorzystać z artykułu: https://www.python-course.eu/python3_formatted_output.php (skocz do części dot. polecenia format - jeśli link nie byłby aktualny daj znać w Q&A - z góry dzięki!)\n",
        "\n",
        "\n",
        "\n",
        "Oto przykładowy output:\n",
        "\n",
        "Denominate:   0.01 - amount     0\n",
        "Denominate:   0.02 - amount     0\n",
        "Denominate:   0.05 - amount     0\n",
        "Denominate:   0.10 - amount     0\n",
        "Denominate:   0.20 - amount     0\n",
        "Denominate:   0.50 - amount     1\n",
        "Denominate:   1.00 - amount     0\n",
        "Denominate:   2.00 - amount     3\n",
        "Denominate:   5.00 - amount     2\n",
        "Denominate:  10.00 - amount     0\n",
        "Denominate:  20.00 - amount     3\n",
        "Denominate:  50.00 - amount     2\n",
        "Denominate: 100.00 - amount     2\n",
        "Denominate: 200.00 - amount     0\n",
        "Denominate: 500.00 - amount     0"
      ],
      "metadata": {
        "id": "DbELOKcSRbqF"
      }
    },
    {
      "cell_type": "code",
      "execution_count": 1,
      "metadata": {
        "colab": {
          "base_uri": "https://localhost:8080/"
        },
        "id": "ZrE-Lc0RLH3_",
        "outputId": "07fea552-ce22-48b7-c213-3e80b51b4b53"
      },
      "outputs": [
        {
          "output_type": "execute_result",
          "data": {
            "text/plain": [
              "15"
            ]
          },
          "metadata": {},
          "execution_count": 1
        }
      ],
      "source": [
        "banknotes_coins = [0.01, 0.02, 0.05, 0.1, 0.2, 0.5, 1, 2, 5, 10, 20, 50, 100, 200, 500]\n",
        "len(banknotes_coins)"
      ]
    },
    {
      "cell_type": "code",
      "source": [
        "import numpy as np\n",
        "values=np.zeros(15)\n",
        "values"
      ],
      "metadata": {
        "colab": {
          "base_uri": "https://localhost:8080/"
        },
        "id": "f7CWlaUqRz4B",
        "outputId": "f9890d9d-129a-4db2-da42-54ff20b5519a"
      },
      "execution_count": 4,
      "outputs": [
        {
          "output_type": "execute_result",
          "data": {
            "text/plain": [
              "array([0., 0., 0., 0., 0., 0., 0., 0., 0., 0., 0., 0., 0., 0., 0.])"
            ]
          },
          "metadata": {},
          "execution_count": 4
        }
      ]
    },
    {
      "cell_type": "code",
      "source": [
        "dict_denominations= dict(zip(banknotes_coins,values))\n",
        "dict_denominations"
      ],
      "metadata": {
        "colab": {
          "base_uri": "https://localhost:8080/"
        },
        "id": "MjpgX2QBRuaC",
        "outputId": "9666bd73-1855-4a55-c15d-ea757ca85499"
      },
      "execution_count": 5,
      "outputs": [
        {
          "output_type": "execute_result",
          "data": {
            "text/plain": [
              "{0.01: 0.0,\n",
              " 0.02: 0.0,\n",
              " 0.05: 0.0,\n",
              " 0.1: 0.0,\n",
              " 0.2: 0.0,\n",
              " 0.5: 0.0,\n",
              " 1: 0.0,\n",
              " 2: 0.0,\n",
              " 5: 0.0,\n",
              " 10: 0.0,\n",
              " 20: 0.0,\n",
              " 50: 0.0,\n",
              " 100: 0.0,\n",
              " 200: 0.0,\n",
              " 500: 0.0}"
            ]
          },
          "metadata": {},
          "execution_count": 5
        }
      ]
    },
    {
      "cell_type": "code",
      "source": [
        "dict_denominations[100] += 1 \n",
        "dict_denominations[20] += 1 \n",
        "dict_denominations[5] += 1 \n",
        "dict_denominations[0.5] += 1\n",
        "\n",
        "dict_denominations[50] += 1 \n",
        "dict_denominations[20] += 2 \n",
        "dict_denominations[5] += 1 \n",
        "dict_denominations[2] += 2\n",
        "\n",
        "dict_denominations[100] += 1 \n",
        "dict_denominations[50] += 1 \n",
        "dict_denominations[2] += 1"
      ],
      "metadata": {
        "id": "6Oz3uptqRuie"
      },
      "execution_count": 6,
      "outputs": []
    },
    {
      "cell_type": "code",
      "source": [
        "for key in dict_denominations:\n",
        "  print('Denominate {} have {} amount in our machine.'.format(key,round(dict_denominations[key])))"
      ],
      "metadata": {
        "colab": {
          "base_uri": "https://localhost:8080/"
        },
        "id": "80oQOh7gWifn",
        "outputId": "c383bea1-79d3-4e3d-f6a7-07e9dc70bd81"
      },
      "execution_count": 11,
      "outputs": [
        {
          "output_type": "stream",
          "name": "stdout",
          "text": [
            "Denominate 0.01 have 0 amount in our machine.\n",
            "Denominate 0.02 have 0 amount in our machine.\n",
            "Denominate 0.05 have 0 amount in our machine.\n",
            "Denominate 0.1 have 0 amount in our machine.\n",
            "Denominate 0.2 have 0 amount in our machine.\n",
            "Denominate 0.5 have 1 amount in our machine.\n",
            "Denominate 1 have 0 amount in our machine.\n",
            "Denominate 2 have 3 amount in our machine.\n",
            "Denominate 5 have 2 amount in our machine.\n",
            "Denominate 10 have 0 amount in our machine.\n",
            "Denominate 20 have 3 amount in our machine.\n",
            "Denominate 50 have 2 amount in our machine.\n",
            "Denominate 100 have 2 amount in our machine.\n",
            "Denominate 200 have 0 amount in our machine.\n",
            "Denominate 500 have 0 amount in our machine.\n"
          ]
        }
      ]
    },
    {
      "cell_type": "code",
      "source": [
        "###inaczej"
      ],
      "metadata": {
        "id": "S0lCzWemXTkx"
      },
      "execution_count": null,
      "outputs": []
    },
    {
      "cell_type": "code",
      "source": [
        "banknotes_coins = [0.01, 0.02, 0.05, 0.1, 0.2, 0.5, 1, 2, 5, 10, 20, 50, 100, 200, 500]\n",
        " \n",
        "dict_denominations = {}\n",
        " \n",
        "for d in banknotes_coins:\n",
        "    dict_denominations[d]=0\n",
        " \n",
        " \n",
        "dict_denominations[100] += 1\n",
        "dict_denominations[20] += 1\n",
        "dict_denominations[5] += 1\n",
        "dict_denominations[0.5] += 1\n",
        " \n",
        "dict_denominations[50] += 1\n",
        "dict_denominations[20] += 2\n",
        "dict_denominations[5] += 1\n",
        "dict_denominations[2] += 2\n",
        " \n",
        "dict_denominations[100] += 1\n",
        "dict_denominations[50] += 1\n",
        "dict_denominations[2] += 1\n",
        " \n",
        "for k in sorted(dict_denominations.keys()):\n",
        "    print(\"Denominate: {0:6.2f} - amount {1:5}\".format(k, dict_denominations[k]))"
      ],
      "metadata": {
        "colab": {
          "base_uri": "https://localhost:8080/"
        },
        "id": "A4JafmX1XR4U",
        "outputId": "56f9df0d-2340-44e1-ef45-8630400a5c40"
      },
      "execution_count": 12,
      "outputs": [
        {
          "output_type": "stream",
          "name": "stdout",
          "text": [
            "Denominate:   0.01 - amount     0\n",
            "Denominate:   0.02 - amount     0\n",
            "Denominate:   0.05 - amount     0\n",
            "Denominate:   0.10 - amount     0\n",
            "Denominate:   0.20 - amount     0\n",
            "Denominate:   0.50 - amount     1\n",
            "Denominate:   1.00 - amount     0\n",
            "Denominate:   2.00 - amount     3\n",
            "Denominate:   5.00 - amount     2\n",
            "Denominate:  10.00 - amount     0\n",
            "Denominate:  20.00 - amount     3\n",
            "Denominate:  50.00 - amount     2\n",
            "Denominate: 100.00 - amount     2\n",
            "Denominate: 200.00 - amount     0\n",
            "Denominate: 500.00 - amount     0\n"
          ]
        }
      ]
    }
  ]
}