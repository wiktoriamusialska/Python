{
  "nbformat": 4,
  "nbformat_minor": 0,
  "metadata": {
    "colab": {
      "provenance": [],
      "collapsed_sections": []
    },
    "kernelspec": {
      "name": "python3",
      "display_name": "Python 3"
    },
    "language_info": {
      "name": "python"
    }
  },
  "cells": [
    {
      "cell_type": "markdown",
      "source": [
        "Oto funkcja pobierająca dane ze stron www:\n",
        "\n",
        "import requests \n",
        "import os\n",
        " \n",
        " \n",
        "def save_url_file(url, dir, file,msg):\n",
        "       \n",
        "    print(msg.format(file))\n",
        "    \n",
        "    r = requests.get(url, stream = True) \n",
        "    file_path = os.path.join(dir, file)\n",
        "      \n",
        "    with open(file_path, \"wb\") as f: \n",
        "        f.write(r.content)\n",
        "\n",
        "\n",
        "Można ją wywołać korzystając z następującego kodu:\n",
        "\n",
        "                 \n",
        "\n",
        "msg = \"Please wait - the file {} will be downloaded\"\n",
        " \n",
        "url = 'http://mobilo24.eu/spis'\n",
        "dir = 'c:/temp/'\n",
        "file = 'spis.html'\n",
        "save_url_file(url, dir, file,msg)\n",
        " \n",
        "url = 'https://www.mobilo24.eu/wp-content/uploads/2015/11/Mobilo_logo_kolko_512-565b1626v1_site_icon.png'\n",
        "dir = 'c:/temp/'\n",
        "file = 'logo.png'\n",
        "save_url_file(url, dir, file,msg)\n",
        "\n",
        "\n",
        "Na potrzeby projektu, nad którym pracujesz katalog pobierania plików powinien zawsze być taki sam (np. przyjmijmy c:\\temp), a komunikat wyświetlany na ekranie powinien być zawsze \"Please wait: {}\"\n",
        "\n",
        "Napisz funkcję partial  save_url_to_dir   która będzie mogła być wywoływana jedynie z argumentami url i file\n",
        "\n"
      ],
      "metadata": {
        "id": "-8zXky8sPdZV"
      }
    },
    {
      "cell_type": "code",
      "execution_count": null,
      "metadata": {
        "id": "m8xClVREPY5H"
      },
      "outputs": [],
      "source": [
        "import requests \n",
        "import os\n",
        "import functools\n",
        " \n",
        " \n",
        "def save_url_file(url, dir, file,msg):\n",
        "       \n",
        "    print(msg.format(file))\n",
        "    \n",
        "    r = requests.get(url, stream = True) \n",
        "    file_path = os.path.join(dir, file)\n",
        "      \n",
        "    with open(file_path, \"wb\") as f: \n",
        "        f.write(r.content)\n",
        " \n",
        " \n",
        "save_url_to_dir = functools.partial(save_url_file, dir='c:/temp/', msg = 'Please wait: {}')                 \n",
        " \n",
        "url = 'http://mobilo24.eu/spis'\n",
        "file = 'spis.html'\n",
        "save_url_to_dir(url = url, file = file)\n",
        " \n",
        "url = 'https://www.mobilo24.eu/wp-content/uploads/2015/11/Mobilo_logo_kolko_512-565b1626v1_site_icon.png'\n",
        "dir = 'c:/temp/'\n",
        "file = 'logo.png'\n",
        "save_url_to_dir(url = url, file = file)"
      ]
    }
  ]
}