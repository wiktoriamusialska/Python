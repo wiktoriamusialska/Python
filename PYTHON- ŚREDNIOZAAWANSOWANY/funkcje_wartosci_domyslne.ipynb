{
  "nbformat": 4,
  "nbformat_minor": 0,
  "metadata": {
    "colab": {
      "provenance": [],
      "collapsed_sections": []
    },
    "kernelspec": {
      "name": "python3",
      "display_name": "Python 3"
    },
    "language_info": {
      "name": "python"
    }
  },
  "cells": [
    {
      "cell_type": "markdown",
      "source": [
        "Napisz funkcję show_progress, która będzie wyświetlać linię tekstu powstałą wskutek powtórzenia zadaną ilość razy określonego znaku. Funkcja:\n",
        "\n",
        "przyjmuje argument character, który określa jaki znak ma być powtarzany\n",
        "\n",
        "przyjmuje argument how_many, który określa ile razy znak ma być powtórzony\n",
        "\n",
        "wartość domyślna dla character to gwiazdka\n",
        "\n",
        "Przetestuj działanie funkcji wywołując ją na różne sposoby np.:\n",
        "\n",
        "show_progress(10)\n",
        "show_progress(15)\n",
        "show_progress(30)\n",
        " \n",
        "show_progress(10, '-')\n",
        "show_progress(15, '+')"
      ],
      "metadata": {
        "id": "O9nr32v87ITu"
      }
    },
    {
      "cell_type": "code",
      "source": [
        "def show_progress(how_many=1,character='*'):\n",
        "  print(character*how_many)"
      ],
      "metadata": {
        "id": "B2cRVpXw7K53"
      },
      "execution_count": 8,
      "outputs": []
    },
    {
      "cell_type": "code",
      "source": [
        "show_progress()"
      ],
      "metadata": {
        "colab": {
          "base_uri": "https://localhost:8080/"
        },
        "id": "p8rVfBTu7i7C",
        "outputId": "0f7248b8-1620-4229-c6d4-306e2238017f"
      },
      "execution_count": 9,
      "outputs": [
        {
          "output_type": "stream",
          "name": "stdout",
          "text": [
            "*\n"
          ]
        }
      ]
    },
    {
      "cell_type": "code",
      "source": [
        "show_progress(10)\n",
        "show_progress(15)\n",
        "show_progress(30)\n",
        " \n",
        "show_progress(10, '-')\n",
        "show_progress(15, '+')"
      ],
      "metadata": {
        "colab": {
          "base_uri": "https://localhost:8080/"
        },
        "id": "UXQ3ER7t71ej",
        "outputId": "3b0cdae9-c92b-4adc-d109-f77a0963696f"
      },
      "execution_count": 10,
      "outputs": [
        {
          "output_type": "stream",
          "name": "stdout",
          "text": [
            "**********\n",
            "***************\n",
            "******************************\n",
            "----------\n",
            "+++++++++++++++\n"
          ]
        }
      ]
    }
  ]
}