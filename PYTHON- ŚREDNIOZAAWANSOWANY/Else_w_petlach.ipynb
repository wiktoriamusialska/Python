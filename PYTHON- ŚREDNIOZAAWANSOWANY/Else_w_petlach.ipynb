{
  "nbformat": 4,
  "nbformat_minor": 0,
  "metadata": {
    "colab": {
      "provenance": [],
      "collapsed_sections": []
    },
    "kernelspec": {
      "name": "python3",
      "display_name": "Python 3"
    },
    "language_info": {
      "name": "python"
    }
  },
  "cells": [
    {
      "cell_type": "markdown",
      "source": [
        "A oto opis \"krok po kroku\"\n",
        "\n",
        "zaimportuj moduły os i urllib.request\n",
        "\n",
        "w zmiennej data_dir zapisz ścieżkę do katalogu, w którym mają być zapisywane strony\n",
        "\n",
        "w zmiennej pages zapisz informacje o stronach do pobrania. Może to być np. lista słowników:\n",
        "\n",
        "pages = [\n",
        "\n",
        "    { 'name': 'mobilo',      'url': 'http://www.mobilo24.eu/'},\n",
        "\n",
        "    { 'name': 'nonexistent', 'url': 'http://abc.cde.fgh.ijk.pl/' },\n",
        "\n",
        "    { 'name': 'kursy',       'url': 'http://www.kursyonline24.eu/'} ]\n",
        "\n",
        "\n",
        "\n",
        "dla każdej stony z pages:\n",
        "\n",
        "zapisz w zmiennej path ścieżkę to pliku powstałą z połączenia data_dir, nazwy strony pobranej z  pages i \".html\"\n",
        "\n",
        "korzystając z  funkcji urllib.request.urlretrieve(<adres strony>, <sciezka do pliku>) zapisz stronę na dysku\n",
        "\n",
        "(na tym etapie przetestuj sobie działanie programu)\n",
        "\n",
        "wewnątrz pętli for dodaj blok try/except, który w przypadku błędu zakończy wykonywanie pętli, wyświetlając komunikat o błędzie\n",
        "\n",
        "zakończ pętlę for poleceniem, które wykona się tylko wtedy gdy pętla nie została w żaden sposób przerwana. Wyświetl tu komunikat o powodzeniu\n",
        "\n"
      ],
      "metadata": {
        "id": "iqHZRmr0Gqtu"
      }
    },
    {
      "cell_type": "code",
      "source": [
        "import urllib.request\n",
        "import os\n",
        " \n",
        "data_dir = 'c:/temp'\n",
        "pages = [\n",
        "    { 'name': 'mobilo',      'url': 'http://www.mobilo24.eu/'},\n",
        "    { 'name': 'nonexistent', 'url': 'http://abc.cde.fgh.ijk.pl/' },\n",
        "    { 'name': 'kursy',       'url': 'http://www.kursyonline24.eu/'} ]\n",
        " \n",
        "for page in pages:\n",
        " \n",
        "    try:\n",
        "        file_name = \"{}.html\".format(page[\"name\"])\n",
        "        path = os.path.join(data_dir, file_name)\n",
        " \n",
        "        print(\"Processing: {}  => {} ...\".format(page[\"url\"], file_name))\n",
        "        urllib.request.urlretrieve (page[\"url\"], path)\n",
        "        print('...done')\n",
        "        \n",
        "    except:\n",
        "        print('FAILURE processing web page: {}'.format(page[\"name\"]))\n",
        "        print('Stopping the process!')\n",
        "        break\n",
        " \n",
        "else:\n",
        "    print('All pages downloaded successfully!!!')"
      ],
      "metadata": {
        "colab": {
          "base_uri": "https://localhost:8080/"
        },
        "id": "3dQz4DN7-Ukl",
        "outputId": "98bc3793-98c4-415e-97eb-ce8c19abb4d2"
      },
      "execution_count": null,
      "outputs": [
        {
          "output_type": "stream",
          "name": "stdout",
          "text": [
            "Processing: http://www.mobilo24.eu/  => mobilo.html ...\n",
            "FAILURE processing web page: mobilo\n",
            "Stopping the process!\n"
          ]
        }
      ]
    }
  ]
}