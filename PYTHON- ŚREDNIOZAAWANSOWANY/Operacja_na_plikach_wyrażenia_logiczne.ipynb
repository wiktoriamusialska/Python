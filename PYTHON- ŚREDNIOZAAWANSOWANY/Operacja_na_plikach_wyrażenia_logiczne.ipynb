{
  "nbformat": 4,
  "nbformat_minor": 0,
  "metadata": {
    "colab": {
      "provenance": [],
      "collapsed_sections": []
    },
    "kernelspec": {
      "name": "python3",
      "display_name": "Python 3"
    },
    "language_info": {
      "name": "python"
    }
  },
  "cells": [
    {
      "cell_type": "markdown",
      "source": [
        "Utwórz funkcję, która jako parametr przyjmuje ścieżkę dostępu do pliku i zwraca ilość słów w tym pliku, jeśli potrzebujesz kroków pomocniczych oto i one:\n",
        "\n",
        "Otwórz plik poleceniem open (możesz skorzystać z parametru encoding=\"utf-16\" jeżeli trzeba)\n",
        "\n",
        "Wczytaj plik do zmiennej korzystając z funkcji read()\n",
        "\n",
        "\"Rozbij\" wczytaną zawartość korzystając z funkcji split()\n",
        "\n",
        "Policz ile elementów jest zwracanych przez funkcję split()\n",
        "\n",
        "Zwróć tą wartość\n",
        "\n",
        "W głównym skrypcie:\n",
        "\n",
        "zadeklaruj zmienną path i przypisz jej wartość wskazującą na plik utworzony na początku\n",
        "\n",
        "napisz polecenie warunkowe, które sprawdzi czy plik istnieje\n",
        "\n",
        "jeśli tak, wywoła funkcję, policzy ilość słów w pliku i wyświetli o tym informację\n",
        "\n",
        "napisz wyrażenie logiczne, które wykona te same czynności, co wcześniej napisana instrukcja if"
      ],
      "metadata": {
        "id": "lzzckvVOnKCD"
      }
    },
    {
      "cell_type": "code",
      "execution_count": null,
      "metadata": {
        "id": "OSWPG78T0ijn"
      },
      "outputs": [],
      "source": [
        "path=\"NEW.txt\""
      ]
    },
    {
      "cell_type": "code",
      "source": [
        "def openFile(path):\n",
        "    with open(path) as f:\n",
        "        flat_list=[word for line in f for word in line.split()]\n",
        "        print(len(flat_list))\n"
      ],
      "metadata": {
        "id": "VRkBc5Q70sie"
      },
      "execution_count": null,
      "outputs": []
    },
    {
      "cell_type": "code",
      "source": [
        "openFile(path)"
      ],
      "metadata": {
        "colab": {
          "base_uri": "https://localhost:8080/"
        },
        "id": "cEtqBCzL1Z94",
        "outputId": "c0164e1b-7f82-4fe6-b041-df0eee75284f"
      },
      "execution_count": null,
      "outputs": [
        {
          "output_type": "stream",
          "name": "stdout",
          "text": [
            "7\n"
          ]
        }
      ]
    },
    {
      "cell_type": "code",
      "source": [
        "###MAIN"
      ],
      "metadata": {
        "id": "u-7Pk_RC29B7"
      },
      "execution_count": null,
      "outputs": []
    },
    {
      "cell_type": "code",
      "source": [
        "import os\n",
        "if os.path.isfile(path):\n",
        "  print('Istnieje %s'%path)\n",
        "  files=openFile(path)\n",
        "  print('Liczba słów',files)\n",
        "else:\n",
        "  print('Nie istnieje %s'%path)\n"
      ],
      "metadata": {
        "colab": {
          "base_uri": "https://localhost:8080/"
        },
        "id": "iycnmOk93Fxy",
        "outputId": "8cc37ad6-f0a1-46d4-c301-4d38663facf4"
      },
      "execution_count": null,
      "outputs": [
        {
          "output_type": "stream",
          "name": "stdout",
          "text": [
            "Istnieje NEW.txt\n",
            "7\n",
            "Liczba słów None\n"
          ]
        }
      ]
    },
    {
      "cell_type": "code",
      "source": [
        "##Wyrażenie logiczne\n",
        "result=os.path.isfile(path) and openFile(path)\n",
        "print(result)"
      ],
      "metadata": {
        "colab": {
          "base_uri": "https://localhost:8080/"
        },
        "id": "OVVIInl1-bcs",
        "outputId": "c3c6ef4d-6829-4163-a12e-b0ca3db2dd28"
      },
      "execution_count": null,
      "outputs": [
        {
          "output_type": "stream",
          "name": "stdout",
          "text": [
            "7\n",
            "None\n"
          ]
        }
      ]
    },
    {
      "cell_type": "code",
      "source": [
        "#####inaczej"
      ],
      "metadata": {
        "id": "ciGGHRoR_C4B"
      },
      "execution_count": null,
      "outputs": []
    },
    {
      "cell_type": "code",
      "source": [
        "import os\n",
        " \n",
        "def CountWords(path):\n",
        "    with open(path) as f:\n",
        "        content = f.read()\n",
        "        word_count = len(content.split())\n",
        "    return word_count"
      ],
      "metadata": {
        "id": "Pi1vRekS_ENe"
      },
      "execution_count": null,
      "outputs": []
    },
    {
      "cell_type": "code",
      "source": [
        "path = 'NEW.txt'\n",
        "if os.path.isfile(path):\n",
        "    print(\"There are {} words in the file {}\".format(CountWords(path), path))"
      ],
      "metadata": {
        "colab": {
          "base_uri": "https://localhost:8080/"
        },
        "id": "4xkaupS9_Gvn",
        "outputId": "0a820072-f539-4734-c767-a3fb435abe65"
      },
      "execution_count": null,
      "outputs": [
        {
          "output_type": "stream",
          "name": "stdout",
          "text": [
            "There are 7 words in the file NEW.txt\n"
          ]
        }
      ]
    },
    {
      "cell_type": "code",
      "source": [
        " \n",
        "os.path.isfile(path) and print(\"There are {} words in the file {}\".format(CountWords(path), path))"
      ],
      "metadata": {
        "colab": {
          "base_uri": "https://localhost:8080/"
        },
        "id": "B3uYqHUa_JL7",
        "outputId": "ece610c4-4ab8-4d36-c658-f9a838d0906a"
      },
      "execution_count": null,
      "outputs": [
        {
          "output_type": "stream",
          "name": "stdout",
          "text": [
            "There are 7 words in the file NEW.txt\n"
          ]
        }
      ]
    },
    {
      "cell_type": "code",
      "source": [],
      "metadata": {
        "id": "aS4uRNNK93FI"
      },
      "execution_count": null,
      "outputs": []
    }
  ]
}