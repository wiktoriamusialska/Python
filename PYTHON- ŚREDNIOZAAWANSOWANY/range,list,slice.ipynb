{
  "nbformat": 4,
  "nbformat_minor": 0,
  "metadata": {
    "colab": {
      "provenance": [],
      "collapsed_sections": []
    },
    "kernelspec": {
      "name": "python3",
      "display_name": "Python 3"
    },
    "language_info": {
      "name": "python"
    }
  },
  "cells": [
    {
      "cell_type": "markdown",
      "source": [
        "Budujesz moduł generujący wykresy. Chcesz samodzielnie wpływać na to, jakie kolory będą wykorzystane na wykresie. Definiujesz na początku listę kolorów:\n",
        "\n",
        "[\"red\", \"orange\", \"green\", \"violet\", \"blue\", \"yellow\"]\n",
        "\n",
        "Czasami na wykresie będą prezentowane tylko 3 kategorie i wtedy chcesz wykorzystać tylko 3 pierwsze kolory, innym razem wykres ma mieć 5 kategorii i potrzebujesz listę 5 kolorów.\n",
        "\n",
        "Napisz funkcję, która przyjmuje dwa argumenty: listę kolorów i liczbę n. Funkcja ma zwracać nową kopię listy kolorów o długości n korzystając z przekazanej listy argumentów.\n",
        "\n",
        "\n",
        "\n",
        "Napisz pętlę, która wygeneruje wszystkie możliwe zestawy kolorów dostępne w liście. Pętla powinna radzić sobie z wyświetleniem wszystkich zestawów, nawet jeżeli do początkowej listy zostanie kiedyś dodany następny kolor (nie korzystaj z wpisywania na stałe wartości liczbowej).\n",
        "\n",
        "\n",
        "\n",
        "Napis też można \"kroić\". Wytnij z poniższego tekstu pochodzącego z https://nonsa.pl/wiki/Korporacja (dawniej nonsensopedia.pl) fragment tłumaczący pochodzenie słowa \"Korporacja\" - fragment znajduje się w nawiasach (same nawiasy pomiń):\n",
        "\n",
        "\n",
        "\n",
        "Korporacja (z łac. corpo – ciało, ratus – szczur; pol. ciało szczura) – organizacja, która pod przykrywką prowadzenia biznesu włada dzisiejszym światem. Wydawać się może utopijnym miejscem realizacji pasji zawodowych. W rzeczywistości jednak nie jest wcale tak kolorowo. Korporacja służy do wyzyskiwania człowieka w imię postępu. Rządzi w niej prawo dżungli."
      ],
      "metadata": {
        "id": "3MHdfueMJZ3f"
      }
    },
    {
      "cell_type": "code",
      "execution_count": 2,
      "metadata": {
        "id": "PBV4qEqx-9SP"
      },
      "outputs": [],
      "source": [
        "lista = [\"red\", \"orange\", \"green\", \"violet\", \"blue\", \"yellow\"]"
      ]
    },
    {
      "cell_type": "code",
      "source": [
        "def pobieranie(lista,liczba):\n",
        "    lista=lista[:liczba]\n",
        "    return lista"
      ],
      "metadata": {
        "id": "Rpwwmeq_Jd0J"
      },
      "execution_count": 5,
      "outputs": []
    },
    {
      "cell_type": "code",
      "source": [
        "pobieranie(lista,3)"
      ],
      "metadata": {
        "colab": {
          "base_uri": "https://localhost:8080/"
        },
        "id": "i7pFhnbZJ7wd",
        "outputId": "998bc748-1ecf-4fb8-c159-6e27986c4f3f"
      },
      "execution_count": 6,
      "outputs": [
        {
          "output_type": "execute_result",
          "data": {
            "text/plain": [
              "['red', 'orange', 'green']"
            ]
          },
          "metadata": {},
          "execution_count": 6
        }
      ]
    },
    {
      "cell_type": "code",
      "source": [
        "for i in range(1,len(lista)+1):\n",
        "    print(pobieranie(lista,i))"
      ],
      "metadata": {
        "colab": {
          "base_uri": "https://localhost:8080/"
        },
        "id": "2h-obMQwKDUc",
        "outputId": "e22c7905-e15e-42aa-ec7d-aabe478718ad"
      },
      "execution_count": 18,
      "outputs": [
        {
          "output_type": "stream",
          "name": "stdout",
          "text": [
            "['red']\n",
            "['red', 'orange']\n",
            "['red', 'orange', 'green']\n",
            "['red', 'orange', 'green', 'violet']\n",
            "['red', 'orange', 'green', 'violet', 'blue']\n",
            "['red', 'orange', 'green', 'violet', 'blue', 'yellow']\n"
          ]
        }
      ]
    },
    {
      "cell_type": "code",
      "source": [
        "tekst = 'Korporacja (z łac. corpo – ciało, ratus – szczur; pol. ciało szczura) – organizacja, która pod przykrywką prowadzenia biznesu włada dzisiejszym światem. Wydawać się może utopijnym miejscem realizacji pasji zawodowych. W rzeczywistości jednak nie jest wcale tak kolorowo. Korporacja służy do wyzyskiwania człowieka w imię postępu. Rządzi w niej prawo dżungli.'"
      ],
      "metadata": {
        "id": "xD3Gqw11KgAP"
      },
      "execution_count": 10,
      "outputs": []
    },
    {
      "cell_type": "code",
      "source": [
        "tekst[12:68]"
      ],
      "metadata": {
        "colab": {
          "base_uri": "https://localhost:8080/",
          "height": 35
        },
        "id": "byeVeitHKjoZ",
        "outputId": "1f16d5ab-27c5-41fe-fdb7-85dd00191de5"
      },
      "execution_count": 16,
      "outputs": [
        {
          "output_type": "execute_result",
          "data": {
            "text/plain": [
              "'z łac. corpo – ciało, ratus – szczur; pol. ciało szczura'"
            ],
            "application/vnd.google.colaboratory.intrinsic+json": {
              "type": "string"
            }
          },
          "metadata": {},
          "execution_count": 16
        }
      ]
    },
    {
      "cell_type": "code",
      "source": [
        "############inaczej"
      ],
      "metadata": {
        "id": "zp30Zi_9LHcp"
      },
      "execution_count": null,
      "outputs": []
    },
    {
      "cell_type": "code",
      "source": [
        "def get_list_of_colors(colors, n):\n",
        "    return colors[:n]\n",
        " \n",
        "colors = [\"red\", \"orange\", \"green\", \"violet\", \"blue\", \"yellow\"]\n",
        " \n",
        "for i in range(1,len(colors)+1):\n",
        "    print(get_list_of_colors(colors, i))"
      ],
      "metadata": {
        "colab": {
          "base_uri": "https://localhost:8080/"
        },
        "id": "P1ufNdFdLBym",
        "outputId": "71c7569d-db56-4c2c-dd32-0e4659e1656e"
      },
      "execution_count": 17,
      "outputs": [
        {
          "output_type": "stream",
          "name": "stdout",
          "text": [
            "['red']\n",
            "['red', 'orange']\n",
            "['red', 'orange', 'green']\n",
            "['red', 'orange', 'green', 'violet']\n",
            "['red', 'orange', 'green', 'violet', 'blue']\n",
            "['red', 'orange', 'green', 'violet', 'blue', 'yellow']\n"
          ]
        }
      ]
    },
    {
      "cell_type": "code",
      "source": [
        "definition = 'Korporacja (z łac. corpo – ciało, ratus – szczur; pol. ciało szczura) – organizacja, która pod przykrywką prowadzenia biznesu włada dzisiejszym światem. Wydawać się może utopijnym miejscem realizacji pasji zawodowych. W rzeczywistości jednak nie jest wcale tak kolorowo. Korporacja służy do wyzyskiwania człowieka w imię postępu. Rządzi w niej prawo dżungli. '\n",
        " \n",
        "print(definition[definition.index('(')+1:definition.index(')')])"
      ],
      "metadata": {
        "colab": {
          "base_uri": "https://localhost:8080/"
        },
        "id": "tSqWL4KmLKHM",
        "outputId": "b29d7532-c8a6-4b4c-e663-189dd568536f"
      },
      "execution_count": 19,
      "outputs": [
        {
          "output_type": "stream",
          "name": "stdout",
          "text": [
            "z łac. corpo – ciało, ratus – szczur; pol. ciało szczura\n"
          ]
        }
      ]
    }
  ]
}