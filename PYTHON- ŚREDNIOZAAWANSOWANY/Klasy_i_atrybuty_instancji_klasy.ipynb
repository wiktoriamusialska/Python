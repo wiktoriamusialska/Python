{
  "nbformat": 4,
  "nbformat_minor": 0,
  "metadata": {
    "colab": {
      "provenance": []
    },
    "kernelspec": {
      "name": "python3",
      "display_name": "Python 3"
    },
    "language_info": {
      "name": "python"
    }
  },
  "cells": [
    {
      "cell_type": "markdown",
      "source": [
        "Szef cukierni w której pracujesz poprosił Cię o napisanie programu, który koniecznie ma działać obiektowo!\n",
        "\n",
        "Zaczynamy od zdefiniowania klasy Cake, która ma posiadać atrybuty:\n",
        "\n",
        "-name opisujące nazwę produktu\n",
        "\n",
        "-kind opisujący rodzaj wypieku np. torty, ciastka, muffinki, bezy\n",
        "\n",
        "-taste z głównym smakiem\n",
        "\n",
        "-additives - zawierający listę dodatków do danego ciasta, np. owoce, posypki, polewy itp, jeżeli ciasto nie ma dodatków, to będzie to pusta lista\n",
        "\n",
        "-filling - opis nadzienia, jeżeli dane ciasto nie ma nadzienia, to ma to być pusty napis\n",
        "\n",
        "-... możesz dodać dalsze własne pomysły :)\n",
        "\n",
        "\n",
        "\n",
        "Po zdefiniowaniu klasy utwórz kilka instancji tej klasy, to dobry moment na wzbogacenie słownictwa w zakresie słodkości w języku angielskim, ale jak wolisz - możesz to robić po polsku\n",
        "\n",
        "\n",
        "\n",
        "Utwórz listę bakery_offer i dodaj do niej instancje wcześniej utworzonych obiektów klasy Cake\n",
        "\n",
        "\n",
        "\n",
        "Napisz pętlę przechodzącą przez wszystkie instance klasy znajdujące się na liście bakery_offer i wyświetl coś w rodzaju (dane pochodzące z instancji zostały wytłuszczone):\n",
        "\n",
        "Today in our offer:\n",
        "\n",
        "Vanilla Cake - (cake) main taste: vanilla with additives of ['chocolade', 'nuts'], filled with cream\n",
        "\n",
        "Chocolade Muffin - (muffin) main taste: chocolade with additives of ['chocolade'], filled with\n",
        "\n",
        "Super Sweet Maringue - (meringue) main taste: very sweet with additives of [], filled with\n",
        "\n",
        "\n",
        "\n",
        "UWAGA: w kolejnych lekcjach i kolejnych zadaniach będę kontynuował temat cukierni. W większości przypadków zadanie będzie polegało na rozbudowaniu tej klasy. Jeżeli chcesz wykonać wiecej zadań pozwalających Ci lepiej opanować tematykę klas, podrzucam kilka pomysłów poniżej. Do tych pomysłów nie publikuję propozycji rozwiązań. Za to możesz takie własne rozwiązania i propozycje publikować w sekcji Q&A . Możesz też próbować budowania klas z takimi tematami jak sam zechcesz.\n",
        "\n",
        "\"Sklep z używanymi telefonami komórkowymi\"\n",
        "\n",
        "\"Warsztat wulkanizacyjny\"\n",
        "\n",
        "\"Inwentaryzacja sprzętu komputerowego w firmie\"\n",
        "\n",
        "\"Studio fitness\"\n",
        "\n",
        "\"Karty gwarancyjne\"\n",
        "\n",
        "\"Firma przewozowa - taxi bagażowe\"\n",
        "\n",
        "\"Biuro podróży\""
      ],
      "metadata": {
        "id": "rahY4ikPMHTE"
      }
    },
    {
      "cell_type": "code",
      "execution_count": 1,
      "metadata": {
        "colab": {
          "base_uri": "https://localhost:8080/"
        },
        "id": "XMYUzTatJPr4",
        "outputId": "86282b94-b58c-4867-a04d-956d27079f5d"
      },
      "outputs": [
        {
          "output_type": "stream",
          "name": "stdout",
          "text": [
            "Today in our offer:\n",
            "Vanilla Cake - (cake) main taste: vanilla with additives of ['chocolade', 'nuts'], filled with cream\n",
            "Chocolade Muffin - (muffin) main taste: chocolade with additives of ['chocolade'], filled with \n",
            "Super Sweet Maringue - (meringue) main taste: very sweet with additives of [], filled with \n"
          ]
        }
      ],
      "source": [
        "class Cake:\n",
        " \n",
        "    def __init__(self, name, kind, taste, additives, filling):\n",
        " \n",
        "        self.name = name\n",
        "        self.kind = kind\n",
        "        self.taste = taste\n",
        "        self.additives = additives.copy()\n",
        "        self.filling = filling\n",
        " \n",
        " \n",
        "cake01 = Cake('Vanilla Cake','cake', 'vanilla', ['chocolade', 'nuts'], 'cream')\n",
        "cake02 = Cake('Chocolade Muffin','muffin', 'chocolade', ['chocolade'], '')\n",
        "cake03 = Cake('Super Sweet Maringue','meringue', 'very sweet', [], '')\n",
        " \n",
        "bakery_offer = []\n",
        "bakery_offer.append(cake01)\n",
        "bakery_offer.append(cake02)\n",
        "bakery_offer.append(cake03)\n",
        " \n",
        "print(\"Today in our offer:\")\n",
        "for c in bakery_offer:\n",
        "    print(\"{} - ({}) main taste: {} with additives of {}, filled with {}\".format(\n",
        "        c.name, c.kind, c.taste, c.additives, c.filling))"
      ]
    }
  ]
}