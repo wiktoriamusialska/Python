{
  "nbformat": 4,
  "nbformat_minor": 0,
  "metadata": {
    "colab": {
      "provenance": []
    },
    "kernelspec": {
      "name": "python3",
      "display_name": "Python 3"
    },
    "language_info": {
      "name": "python"
    }
  },
  "cells": [
    {
      "cell_type": "markdown",
      "source": [
        "Nadal pracujemy w zwariowanym ośrodku badawczym. Ponieważ profesorowie mieli problem z umieszczaniem swoich skryptów w odpowiednich katalogach, od tej pory dostarczają tylko wzory, które podlegają przeliczeniom. W tym zadaniu wielokrotnie wyliczysz wartości wyliczane wzorami, a następnie porównasz czasy wykonania w zależności od sposobu interpretacji kodu.\n",
        "\n",
        "1. Zaimportuj moduł math i time\n",
        "\n",
        "2. Utwórz listę ze wzorami:\n",
        "\n",
        "formulas_list = [\n",
        "     \"abs(x**3 - x**0.5)\",\n",
        "     \"abs(math.sin(x) * x**2)\"\n",
        "     ]\n",
        "3. Przygotuj listę argumentów (jeżeli pętla trwa zbyt długo zmniejsz ilość elementów na tej liście):\n",
        "\n",
        "argument_list = []\n",
        "for i in range (1000000):\n",
        "    argument_list.append(i/10)\n",
        "3. Dla każdej formuły z listy formuł:\n",
        "\n",
        "Utwórz pustą listę results_list = []\n",
        "\n",
        "Wyświetl formułę nad jaką teraz pracuje pętla\n",
        "\n",
        "W zmiennej start zapisz czas bieżący\n",
        "\n",
        "Dla każdego argumentu z listy argument_list wylicz wartość formuły i dodaj go do listy wyników results_list\n",
        "\n",
        "Wyświetl informację o minimalnej i maksymalnej wyliczonej wartości znajdującej się w liście results list\n",
        "\n",
        "W zmiennej stop zapisz czas bieżący\n",
        "\n",
        "Wyświetl informacje o czasie trwania obliczeń\n",
        "\n",
        "4. Przetestuj skrypt\n",
        "\n",
        "5. Skopiuj pętlę z punktu (3) i dokonaj modyfikacji:\n",
        "\n",
        "Przed pętlą liczącą wartość formuły wstaw instrukcję zapamiętującą w zmiennej compiled_formula skompilowany kod\n",
        "\n",
        "W pętli liczącej wartość formuły skorzystaj z prekompilowanego kodu ze zmiennej compiled_formula\n",
        "\n",
        "6. Uruchom program i porównaj czasy przed i po optymalizacji"
      ],
      "metadata": {
        "id": "_ezC8KS9P_i8"
      }
    },
    {
      "cell_type": "code",
      "execution_count": 1,
      "metadata": {
        "colab": {
          "base_uri": "https://localhost:8080/"
        },
        "id": "LK6LWeS5PsZC",
        "outputId": "e4ca57ff-76d8-4aac-cb08-6c187cff5304"
      },
      "outputs": [
        {
          "output_type": "stream",
          "name": "stdout",
          "text": [
            "Formula abs(x**3 - x**0.5)\n",
            "min = 0.0  max = 999997000002683.6\n",
            "Calculation time: 10.177613735198975\n",
            "Formula abs(math.sin(x) * x**2)\n",
            "min = 0.0  max = 9997170253.720783\n",
            "Calculation time: 10.002065420150757\n",
            "Formula abs(x**3 - x**0.5)\n",
            "min = 0.0  max = 999997000002683.6\n",
            "Calculation time: 0.68876051902771\n",
            "Formula abs(math.sin(x) * x**2)\n",
            "min = 0.0  max = 9997170253.720783\n",
            "Calculation time: 0.6329119205474854\n"
          ]
        }
      ],
      "source": [
        "import math\n",
        "import time\n",
        " \n",
        "formulas_list = [\n",
        "     \"abs(x**3 - x**0.5)\",\n",
        "     \"abs(math.sin(x) * x**2)\"\n",
        "     ]\n",
        " \n",
        "argument_list = []\n",
        " \n",
        " \n",
        "for i in range (1000000):\n",
        "    argument_list.append(i/10)\n",
        " \n",
        "for formula in formulas_list:\n",
        " \n",
        "    results_list = []\n",
        "    print(\"Formula {}\".format(formula))\n",
        "    start = time.time()\n",
        "    for x in argument_list:\n",
        "        results_list.append(eval(formula))\n",
        "    print('min = {}  max = {}'.format(min(results_list), max(results_list)))\n",
        "    stop = time.time()\n",
        "    print(\"Calculation time: {}\".format(stop - start))\n",
        " \n",
        "    \n",
        "for formula in formulas_list:\n",
        " \n",
        "    results_list = []\n",
        "    print(\"Formula {}\".format(formula))\n",
        "    \n",
        "    start = time.time()\n",
        "    compiled_formula = compile(formula, formula, 'eval')\n",
        "    for x in argument_list:\n",
        "        results_list.append(eval(compiled_formula))\n",
        "    print('min = {}  max = {}'.format(min(results_list), max(results_list)))\n",
        "    stop = time.time()\n",
        "    \n",
        "    print(\"Calculation time: {}\".format(stop - start))"
      ]
    }
  ]
}