{
  "nbformat": 4,
  "nbformat_minor": 0,
  "metadata": {
    "colab": {
      "provenance": [],
      "collapsed_sections": []
    },
    "kernelspec": {
      "name": "python3",
      "display_name": "Python 3"
    },
    "language_info": {
      "name": "python"
    }
  },
  "cells": [
    {
      "cell_type": "markdown",
      "source": [
        "W tym zadaniu napiszesz funkcję, która będzie w stanie wygenerować 3 funkcje:\n",
        "\n",
        "f_minutes - obliczającą różnicę między datami i wyrażającą ją w minutach\n",
        "\n",
        "f_hours - obliczającą różnicę między datami i wyrażającą ją w godzinach\n",
        "\n",
        "f_days - obliczającą różnicę między datami i wyrażającą ją w dniach\n",
        "\n",
        "Jeśli już masz pomysł jak to zrobić, to działaj. Poniżej znajdują się bardziej szczegółowe instrukcje.\n",
        "\n",
        "Oto 3 funkcje, które wykonują wspomniane operacje, ale zostały napisane ręcznie:\n",
        "\n",
        "from datetime import datetime\n",
        " \n",
        "def time_span_m(start, end):\n",
        "    duration = end - start\n",
        "    duration_in_s = duration.total_seconds()\n",
        "    return divmod(duration_in_s, 60)[0]\n",
        " \n",
        "def time_span_h(start, end):\n",
        "    duration = end - start\n",
        "    duration_in_s = duration.total_seconds()\n",
        "    return divmod(duration_in_s, 3600)[0]\n",
        " \n",
        "def time_span_d(start, end):\n",
        "    duration = end - start\n",
        "    duration_in_s = duration.total_seconds()\n",
        "    return divmod(duration_in_s, 86400)[0]\n",
        "Jak widać cała różnica jest w liczbie, którą należy podzielić duration_in_s. Są to:\n",
        "\n",
        "60 dla minut\n",
        "\n",
        "3600 dla godzin\n",
        "\n",
        "86400 dla dni\n",
        "\n",
        "Funkcje można przetestować w ten sposób:\n",
        "\n",
        "start = datetime(2019, 1, 1, 0, 0, 0)  \n",
        "end  = datetime.now()\n",
        " \n",
        "print(time_span_m(start, end))\n",
        "print(time_span_h(start, end))\n",
        "print(time_span_d(start, end))\n",
        "Teraz przystąpisz do pisania swojej funkcji generującej inne funkcje:\n",
        "\n",
        "1. Utwórz funkcję create_function przyjmującą argument span, który może przyjąć wartość:\n",
        "\n",
        "'m' gdy należy wygenerować funkcję zwracającą różnicę w minutach\n",
        "\n",
        "'h' gdy należy wygenerować funkcję zwracającą różnicę w minutach\n",
        "\n",
        "'d' gdy należy wygenerować funkcję zwracającą różnicę w minutach\n",
        "\n",
        "2. Zainicjuj zmienna sec odpowiednią dla span wartością liczbową, przez którą będziesz dzielił wartość w duration_in_s\n",
        "\n",
        "3.  Do zmiennej tekstowej source wpisz tekst zawierający definicję dowolnej z początkowych funkcji, np. time_span_m\n",
        "\n",
        "4. Zmień nazwę funkcji definiowanej w tekście source na f i zamień sztywną wartość liczbową na wartość ze zmiennej sec. Pamiętaj o usunięciu wcięć po lewej stronie - napis musi spełniać warunki formatowania dla Pythonowych funkcji.\n",
        "\n",
        "5. Poleceniem exec wykonaj kod znajdujący się w zmiennej source. Pamiętaj o przekazaniu środowiska przy pomocy funkcji globals()\n",
        "\n",
        "6. Zwróć funkcję f\n",
        "\n",
        "\n",
        "\n",
        "Na tym etapie można sprawdzać efekty swojej pracy\n",
        "\n",
        "1. Wygeneruj funkcje f_minutes wywołując create_function z parametrem 'm'\n",
        "\n",
        "2. Wygeneruj funkcje f_hours wywołując create_function z parametrem 'h'\n",
        "\n",
        "3. Wygeneruj funkcje f_days  wywołując create_function z parametrem 'd'\n",
        "\n",
        "4. Przetestuj działanie funkcji:\n",
        "\n",
        "print(f_minutes(start, end))\n",
        "print(f_hours(start, end))\n",
        "print(f_days(start, end))\n"
      ],
      "metadata": {
        "id": "gbL6og4aEW-P"
      }
    },
    {
      "cell_type": "code",
      "execution_count": 1,
      "metadata": {
        "id": "_EkDtOUqCGq5"
      },
      "outputs": [],
      "source": [
        "from datetime import datetime\n",
        " \n",
        "def time_span_m(start, end):\n",
        "    duration = end - start\n",
        "    duration_in_s = duration.total_seconds()\n",
        "    return divmod(duration_in_s, 60)[0]\n",
        " \n",
        "def time_span_h(start, end):\n",
        "    duration = end - start\n",
        "    duration_in_s = duration.total_seconds()\n",
        "    return divmod(duration_in_s, 3600)[0]\n",
        " \n",
        "def time_span_d(start, end):\n",
        "    duration = end - start\n",
        "    duration_in_s = duration.total_seconds()\n",
        "    return divmod(duration_in_s, 86400)[0]"
      ]
    },
    {
      "cell_type": "code",
      "source": [
        "start = datetime(2019, 1, 1, 0, 0, 0)  \n",
        "end  = datetime.now()\n",
        " \n",
        "print(time_span_m(start, end))\n",
        "print(time_span_h(start, end))\n",
        "print(time_span_d(start, end))"
      ],
      "metadata": {
        "colab": {
          "base_uri": "https://localhost:8080/"
        },
        "id": "olRmms6fFEzB",
        "outputId": "0cd4725f-aabb-48f4-9258-12732373d7e0"
      },
      "execution_count": 2,
      "outputs": [
        {
          "output_type": "stream",
          "name": "stdout",
          "text": [
            "1963317.0\n",
            "32721.0\n",
            "1363.0\n"
          ]
        }
      ]
    },
    {
      "cell_type": "code",
      "source": [
        "def create_function(span=60):\n",
        " \n",
        "    if span=='m':\n",
        "      sec=60\n",
        "    elif span=='h':\n",
        "      sec=3600\n",
        "    elif span=='d':\n",
        "      sec=86400\n",
        "    source = '''\n",
        "def f(start, end):\n",
        "    duration = end - start\n",
        "    duration_in_s = duration.total_seconds()\n",
        "    return divmod(duration_in_s, {})[0]\n",
        "'''.format(sec)\n",
        " \n",
        "    exec(source, globals())\n",
        " \n",
        "    return f"
      ],
      "metadata": {
        "id": "kyv6Sgt8HooK"
      },
      "execution_count": 18,
      "outputs": []
    },
    {
      "cell_type": "code",
      "source": [
        "f_minutes = create_function('m')\n",
        "f_hours = create_function('h')\n",
        "f_days = create_function('d')\n"
      ],
      "metadata": {
        "id": "HjQQEQjjUNRG"
      },
      "execution_count": 23,
      "outputs": []
    },
    {
      "cell_type": "code",
      "source": [
        "print(f_minutes(start, end))\n",
        "print(f_hours(start, end))\n",
        "print(f_days(start, end))"
      ],
      "metadata": {
        "colab": {
          "base_uri": "https://localhost:8080/"
        },
        "id": "W-m978otUQ_2",
        "outputId": "b67731c2-aac5-4aa1-8fdc-33e7335ac5b3"
      },
      "execution_count": 24,
      "outputs": [
        {
          "output_type": "stream",
          "name": "stdout",
          "text": [
            "1963373.0\n",
            "32722.0\n",
            "1363.0\n"
          ]
        }
      ]
    },
    {
      "cell_type": "code",
      "source": [
        "###w całosci to samo\n",
        "from datetime import datetime\n",
        " \n",
        "def time_span_m(start, end):\n",
        "    duration = end - start\n",
        "    duration_in_s = duration.total_seconds()\n",
        "    return divmod(duration_in_s, 60)[0]\n",
        " \n",
        "def time_span_h(start, end):\n",
        "    duration = end - start\n",
        "    duration_in_s = duration.total_seconds()\n",
        "    return divmod(duration_in_s, 3600)[0]\n",
        " \n",
        "def time_span_d(start, end):\n",
        "    duration = end - start\n",
        "    duration_in_s = duration.total_seconds()\n",
        "    return divmod(duration_in_s, 86400)[0]\n",
        " \n",
        " \n",
        " \n",
        "start = datetime(2019, 1, 1, 0, 0, 0)  \n",
        "end  = datetime.now()\n",
        " \n",
        "print(time_span_m(start, end))\n",
        "print(time_span_h(start, end))\n",
        "print(time_span_d(start, end))\n",
        " \n",
        " \n",
        "def create_function(span):\n",
        " \n",
        "    if span == 'm':\n",
        "        sec = 60\n",
        "    elif span == 'h':\n",
        "        sec = 3600\n",
        "    elif span =='d':\n",
        "        sec = 86400\n",
        " \n",
        "    source = '''\n",
        "def f(start, end):\n",
        "    duration = end - start\n",
        "    duration_in_s = duration.total_seconds()\n",
        "    return divmod(duration_in_s, {})[0]\n",
        "'''.format(sec)\n",
        " \n",
        "    exec(source, globals())\n",
        " \n",
        "    return f\n",
        " \n",
        "f_minutes = create_function('m')\n",
        "f_hours = create_function('h')\n",
        "f_days = create_function('d')\n",
        " \n",
        "print(f_minutes(start, end))\n",
        "print(f_hours(start, end))\n",
        "print(f_days(start, end))"
      ],
      "metadata": {
        "colab": {
          "base_uri": "https://localhost:8080/"
        },
        "id": "ntF8r_vsR-UD",
        "outputId": "1894dfee-4543-4fba-ad38-9355286f5ab2"
      },
      "execution_count": 17,
      "outputs": [
        {
          "output_type": "stream",
          "name": "stdout",
          "text": [
            "1963373.0\n",
            "32722.0\n",
            "1363.0\n",
            "1963373.0\n",
            "32722.0\n",
            "1363.0\n"
          ]
        }
      ]
    }
  ]
}