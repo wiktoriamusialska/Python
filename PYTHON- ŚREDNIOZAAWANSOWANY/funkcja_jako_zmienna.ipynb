{
  "nbformat": 4,
  "nbformat_minor": 0,
  "metadata": {
    "colab": {
      "provenance": [],
      "collapsed_sections": []
    },
    "kernelspec": {
      "name": "python3",
      "display_name": "Python 3"
    },
    "language_info": {
      "name": "python"
    }
  },
  "cells": [
    {
      "cell_type": "markdown",
      "source": [
        "W tym zadaniu zbudujesz proces służący do budowy łańcucha transformacji danych liczbowych.\n",
        "\n",
        "1. Utwórz w swoim skrypcie następujące funkcje:\n",
        "\n",
        "def double(x):\n",
        "    return 2 *x\n",
        " \n",
        "def square(x):\n",
        "    return x**2\n",
        " \n",
        "def negative(x):\n",
        "    return -x\n",
        " \n",
        "def div2(x):\n",
        "    return x/2\n",
        "2. Zdefiniuj liczbę number o wartości 8\n",
        "\n",
        "3. Zdefiniuj listę transformations składającą sie z funkcji:\n",
        "\n",
        "double\n",
        "\n",
        "square\n",
        "\n",
        "div2\n",
        "\n",
        "negative\n",
        "\n",
        "4. Do tymczasowej zmiennej tmp_return_value wpisz wartość number\n",
        "\n",
        "5. Napisz pętlę, która:\n",
        "\n",
        "przejdzie przez wszystkie pozycje listy transformations\n",
        "\n",
        "za każdym razem wywoła odpowiednią funkcję, przekazując do niej aktualną wartość argumentu tmp_return_value\n",
        "\n",
        "wyświetli aktualną wartość zmiennej tmp_return_value\n",
        "\n",
        "6. Przetestuj działanie skryptu również dla listy transformacji z operacjami:\n",
        "\n",
        "square\n",
        "\n",
        "square\n",
        "\n",
        "div2\n",
        "\n",
        "double"
      ],
      "metadata": {
        "id": "NKOmoD4R3AA8"
      }
    },
    {
      "cell_type": "code",
      "execution_count": 1,
      "metadata": {
        "id": "MhEB5avUC4QL"
      },
      "outputs": [],
      "source": [
        "def double(x):\n",
        "    return 2 *x\n",
        " \n",
        "def square(x):\n",
        "    return x**2\n",
        " \n",
        "def negative(x):\n",
        "    return -x\n",
        " \n",
        "def div2(x):\n",
        "    return x/2"
      ]
    },
    {
      "cell_type": "code",
      "source": [
        "number=8\n",
        "transformations=[double,square,div2,negative]\n",
        "tmp_return_value=number\n",
        "\n",
        "for i in transformations:\n",
        "    tmp_return_value=i(tmp_return_value)\n",
        "    print(tmp_return_value)"
      ],
      "metadata": {
        "colab": {
          "base_uri": "https://localhost:8080/"
        },
        "id": "UI_JTE6Q3MjD",
        "outputId": "374d3941-df2a-4624-e68c-d305570d3883"
      },
      "execution_count": 9,
      "outputs": [
        {
          "output_type": "stream",
          "name": "stdout",
          "text": [
            "16\n",
            "256\n",
            "128.0\n",
            "-128.0\n"
          ]
        }
      ]
    },
    {
      "cell_type": "code",
      "source": [
        "lists=[square,square,div2,double]\n",
        "number=256\n",
        "tmp_return_value=number\n",
        "\n",
        "for i in lists:\n",
        "    tmp_return_value=i(tmp_return_value)\n",
        "    print(tmp_return_value)\n"
      ],
      "metadata": {
        "colab": {
          "base_uri": "https://localhost:8080/"
        },
        "id": "I9DAZ9404Oj3",
        "outputId": "202f60b2-2298-41d8-e72b-af9e534a71a7"
      },
      "execution_count": 10,
      "outputs": [
        {
          "output_type": "stream",
          "name": "stdout",
          "text": [
            "65536\n",
            "4294967296\n",
            "2147483648.0\n",
            "4294967296.0\n"
          ]
        }
      ]
    },
    {
      "cell_type": "code",
      "source": [
        "###inaczej\n",
        "def double(x):\n",
        "    return 2 *x\n",
        " \n",
        "def square(x):\n",
        "    return x**2\n",
        " \n",
        "def negative(x):\n",
        "    return -x\n",
        " \n",
        "def div2(x):\n",
        "    return x/2\n",
        " \n",
        "number = 8\n",
        "transformations = [double, square, div2, negative]\n",
        " \n",
        "print('Starting transformations')\n",
        "tmp_return_value = number\n",
        "for transformation in transformations:\n",
        " \n",
        "    tmp_return_value = transformation(tmp_return_value)\n",
        "    print('{}: temporal result is {}'.format(transformation.__name__, tmp_return_value))\n",
        " \n",
        "number = 125\n",
        "transformations = [square, square, div2, double]\n",
        "      \n",
        "print('Starting transformations')\n",
        "tmp_return_value = number\n",
        "for transformation in transformations:\n",
        " \n",
        "    tmp_return_value = transformation(tmp_return_value)\n",
        "    print('{}: temporal result is {}'.format(transformation.__name__, tmp_return_value))"
      ],
      "metadata": {
        "colab": {
          "base_uri": "https://localhost:8080/"
        },
        "id": "EV0UHjIV_0N8",
        "outputId": "6eff6eec-caae-4d29-9941-71124dfbf9d2"
      },
      "execution_count": 8,
      "outputs": [
        {
          "output_type": "stream",
          "name": "stdout",
          "text": [
            "Starting transformations\n",
            "double: temporal result is 16\n",
            "square: temporal result is 256\n",
            "div2: temporal result is 128.0\n",
            "negative: temporal result is -128.0\n",
            "Starting transformations\n",
            "square: temporal result is 15625\n",
            "square: temporal result is 244140625\n",
            "div2: temporal result is 122070312.5\n",
            "double: temporal result is 244140625.0\n"
          ]
        }
      ]
    }
  ]
}