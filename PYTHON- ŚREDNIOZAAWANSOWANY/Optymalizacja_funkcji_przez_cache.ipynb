{
  "nbformat": 4,
  "nbformat_minor": 0,
  "metadata": {
    "colab": {
      "provenance": []
    },
    "kernelspec": {
      "name": "python3",
      "display_name": "Python 3"
    },
    "language_info": {
      "name": "python"
    }
  },
  "cells": [
    {
      "cell_type": "markdown",
      "source": [
        "Oto przykład niezbyt dobrze napisanej funkcji wyliczającej wartość w ciągu Finobacciego:\n",
        "\n",
        "def fib(n):\n",
        "    \n",
        "    if n <= 2:\n",
        "        result = n\n",
        "    else:\n",
        "        result = fib(n-1) + fib(n-2)\n",
        "        \n",
        "    return result\n",
        "Funkcja zamiast wyliczać wartości od najmniejszych do największych i korzystać z poprzednich wyników do wyznaczenia kolejnych wartości, każdorazowo wyznacza poprzednie wartości. Zoptymalizuj funkcję metodą cache, (a jak masz ochotę to również przepisz funkcję do lepszej postaci)\n",
        "\n",
        "przygotuj funkcję do testu pomiaru czasu\n",
        "\n",
        "zaimportuj moduł time\n",
        "\n",
        "w zmiennej start zapisz aktualny czas\n",
        "\n",
        "napisz pętlę wyliczającą wartość ciągu zaczynając od 1, a kończąc na sensownej na Twoim komputerze wartości, na którą masz cierpliwość doczekać (u mnie to do około 33-37)\n",
        "\n",
        "każdorazowo wyświetl numer iteracji w pętli i różnicę między czasem bieżącym, a czasem ze zmiennej start\n",
        "\n",
        "zapamiętaj czas trwania obliczeń\n",
        "\n",
        "zoptymalizuj funkcję\n",
        "\n",
        "zaimportuj moduł functools\n",
        "\n",
        "oznacz funkcję fib dekoratorem lru_cache z maksymalną ilością pamiętanych wyników 100\n",
        "\n",
        "na końcu skryptu dodaj instrukcję wyświetlającą wynik polecenia cache_info\n",
        "\n",
        "porównaj wyniki\n",
        "\n"
      ],
      "metadata": {
        "id": "XlAN2bfmQafI"
      }
    },
    {
      "cell_type": "code",
      "execution_count": 1,
      "metadata": {
        "colab": {
          "base_uri": "https://localhost:8080/"
        },
        "id": "JQptfSLPQWC6",
        "outputId": "e5d89145-5aad-4abc-a9ff-5ffdddd9b9d8"
      },
      "outputs": [
        {
          "output_type": "stream",
          "name": "stdout",
          "text": [
            " 0  0, time = 0.00\n",
            " 1  1, time = 0.00\n",
            " 2  2, time = 0.00\n",
            " 3  3, time = 0.00\n",
            " 4  5, time = 0.00\n",
            " 5  8, time = 0.00\n",
            " 6  13, time = 0.00\n",
            " 7  21, time = 0.00\n",
            " 8  34, time = 0.00\n",
            " 9  55, time = 0.00\n",
            "10  89, time = 0.00\n",
            "11  144, time = 0.00\n",
            "12  233, time = 0.00\n",
            "13  377, time = 0.00\n",
            "14  610, time = 0.00\n",
            "15  987, time = 0.00\n",
            "16  1597, time = 0.00\n",
            "17  2584, time = 0.00\n",
            "18  4181, time = 0.00\n",
            "19  6765, time = 0.00\n",
            "20  10946, time = 0.00\n",
            "21  17711, time = 0.00\n",
            "22  28657, time = 0.00\n",
            "23  46368, time = 0.00\n",
            "24  75025, time = 0.00\n",
            "25  121393, time = 0.00\n",
            "26  196418, time = 0.00\n",
            "27  317811, time = 0.00\n",
            "28  514229, time = 0.00\n",
            "29  832040, time = 0.00\n",
            "30  1346269, time = 0.00\n",
            "31  2178309, time = 0.00\n",
            "32  3524578, time = 0.00\n",
            "33  5702887, time = 0.00\n",
            "CacheInfo(hits=62, misses=34, maxsize=100, currsize=34)\n"
          ]
        }
      ],
      "source": [
        "import time\n",
        "import functools\n",
        " \n",
        "@functools.lru_cache(maxsize=100)\n",
        "def fib(n):\n",
        "    \n",
        "    if n <= 2:\n",
        "        result = n\n",
        "    else:\n",
        "        result = fib(n-1) + fib(n-2)\n",
        "        \n",
        "    return result\n",
        " \n",
        "start = time.time()\n",
        " \n",
        "for i in range(34):\n",
        "    result = fib(i)\n",
        "    print('{0:2d}  {1}, time = {2:3.2f}'.format(i, result, time.time() - start))\n",
        "    \n",
        "print(fib.cache_info())"
      ]
    }
  ]
}