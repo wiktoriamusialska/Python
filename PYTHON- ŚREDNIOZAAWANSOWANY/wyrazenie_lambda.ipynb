{
  "nbformat": 4,
  "nbformat_minor": 0,
  "metadata": {
    "colab": {
      "provenance": [],
      "collapsed_sections": []
    },
    "kernelspec": {
      "name": "python3",
      "display_name": "Python 3"
    },
    "language_info": {
      "name": "python"
    }
  },
  "cells": [
    {
      "cell_type": "markdown",
      "source": [
        "W tym zadaniu będziesz pracować z następującą  listą:\n",
        "\n",
        "text_list = ['x','xxx','xxxxx','xxxxxxx','']\n",
        "\n",
        "1. Przygotuj i zapisz w zmiennej f  funkcję lambda, która dla argumentu będącego napisem zwróci jego długość\n",
        "\n",
        "2. Przetestuj działanie funkcji na dowolnym napisie\n",
        "\n",
        "3. Uruchom funkcję f na każdym elemencie listy text_list. Wykorzystasz przy tym funkcję map, która pozwala uruchomić wskazywaną przez pierwszy argument funkcję dla listy przekazanej jako drugi argument.\n",
        "Uwaga: funkcja map nie zwraca listy, ale zwracany obiekt można łatwo skonwertować do listy.\n",
        "\n",
        "4. Zmień wywołanie  funkcji map tak, żeby funkcja nie była zapisywana w zmiennej f, ale zamiast tego definiowana dynamicznie w wywołaniu funkcji map\n",
        "\n"
      ],
      "metadata": {
        "id": "j4a6x62-Qt8L"
      }
    },
    {
      "cell_type": "code",
      "execution_count": 1,
      "metadata": {
        "colab": {
          "base_uri": "https://localhost:8080/"
        },
        "id": "LS_1S_8zQrd-",
        "outputId": "a166889d-e6ea-452e-ea2f-6bdf30204174"
      },
      "outputs": [
        {
          "output_type": "stream",
          "name": "stdout",
          "text": [
            "19\n",
            "[1, 3, 5, 7, 0]\n",
            "[1, 3, 5, 7, 0]\n"
          ]
        }
      ],
      "source": [
        "f = lambda x: len(x)\n",
        " \n",
        "print(f('a 19-letters string'))\n",
        " \n",
        "text_list = ['x','xxx','xxxxx','xxxxxxx','']\n",
        " \n",
        "print(list(map(f, text_list)))\n",
        " \n",
        "print(list(map(lambda s: len(s), text_list)))\n"
      ]
    }
  ]
}