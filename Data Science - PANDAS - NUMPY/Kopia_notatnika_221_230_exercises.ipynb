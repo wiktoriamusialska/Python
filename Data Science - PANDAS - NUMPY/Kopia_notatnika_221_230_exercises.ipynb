{
  "nbformat": 4,
  "nbformat_minor": 0,
  "metadata": {
    "colab": {
      "name": "Kopia notatnika 221-230_exercises.ipynb",
      "provenance": [],
      "collapsed_sections": []
    },
    "kernelspec": {
      "name": "python3",
      "display_name": "Python 3"
    }
  },
  "cells": [
    {
      "cell_type": "markdown",
      "metadata": {
        "id": "WLEgCW5F1hho"
      },
      "source": [
        "## Data Science Bootcamp\n",
        "\n",
        "### Spis treści:\n",
        "* [Import biblioteki](#0)\n",
        "* [Ćwiczenie 221](#1)\n",
        "* [Ćwiczenie 222](#2)\n",
        "* [Ćwiczenie 223](#3)\n",
        "* [Ćwiczenie 224](#4)\n",
        "* [Ćwiczenie 225](#5)\n",
        "* [Ćwiczenie 226](#6)\n",
        "* [Ćwiczenie 227](#7)\n",
        "* [Ćwiczenie 228](#8)\n",
        "* [Ćwiczenie 229](#9)\n",
        "* [Ćwiczenie 230](#10)"
      ]
    },
    {
      "cell_type": "markdown",
      "metadata": {
        "id": "zeLOLmTj1kBM"
      },
      "source": [
        "### <a name='0'></a>Import biblioteki"
      ]
    },
    {
      "cell_type": "code",
      "metadata": {
        "id": "HXMB7SMe1Wnz",
        "colab": {
          "base_uri": "https://localhost:8080/",
          "height": 35
        },
        "outputId": "4a0f0c34-76e8-4905-a078-0c62b9526d61"
      },
      "source": [
        "import numpy as np\n",
        "np.random.seed(20)\n",
        "\n",
        "np.__version__"
      ],
      "execution_count": 1,
      "outputs": [
        {
          "output_type": "execute_result",
          "data": {
            "text/plain": [
              "'1.21.6'"
            ],
            "application/vnd.google.colaboratory.intrinsic+json": {
              "type": "string"
            }
          },
          "metadata": {},
          "execution_count": 1
        }
      ]
    },
    {
      "cell_type": "markdown",
      "metadata": {
        "id": "ooAbgODbViP4"
      },
      "source": [
        "### <a name='a11'></a> Rozwiązywanie układów równań\n",
        "Rozważmy układ równań $U$:  \n",
        "$${\\displaystyle \\mathrm {U} \\colon {\\begin{cases}{\\begin{matrix}a_{11}x_{1}&+&a_{12}x_{2}&+&\\dots &+&a_{1n}x_{n}&=b_{1},\\\\a_{21}x_{1}&+&a_{22}x_{2}&+&\\dots &+&a_{2n}x_{n}&=b_{2},\\\\\\vdots &&\\vdots &&\\ddots &&\\vdots &\\vdots \\\\a_{m1}x_{1}&+&a_{m2}x_{2}&+&\\dots &+&a_{mn}x_{n}&=b_{m}.\\end{matrix}}\\end{cases}}.}$$\n",
        "\n",
        "Wykorzystując macierze możemy to przedstawić następująco:\n",
        "\n",
        "$${\\begin{bmatrix}a_{11}&a_{12}&\\dots &a_{1n}\\\\a_{21}&a_{22}&\\dots &a_{2n}\\\\\\vdots &\\vdots &\\ddots &\\vdots \\\\a_{m1}&a_{m2}&\\dots &a_{mn}\\end{bmatrix}}{\\begin{bmatrix}x_{1}\\\\x_{2}\\\\\\vdots \\\\x_{n}\\end{bmatrix}}={\\begin{bmatrix}b_{1}\\\\b_{2}\\\\\\vdots \\\\b_{m}\\end{bmatrix}}$$\n",
        "I w zapisie skrótowym:\n",
        "$$\\mathbf {AX} =\\mathbf {B}$$\n",
        "\n",
        "Gdzie:  \n",
        "$A = {\\begin{bmatrix}a_{11}&a_{12}&\\dots &a_{1n}\\\\a_{21}&a_{22}&\\dots &a_{2n}\\\\\\vdots &\\vdots &\\ddots &\\vdots \\\\a_{m1}&a_{m2}&\\dots &a_{mn}\\end{bmatrix}}$ - macierz współczynników\n",
        "\n",
        "${\\displaystyle \\mathbf {B} =[b_{1},b_{2},\\dots ,b_{m}]} $ - wektor wyrazów wolnych  \n",
        "${\\mathbf  X}=[x_{1},x_{2},\\dots ,x_{n}] $ - wektor niewiadomych\n",
        "\n",
        "Jeśli macierz układu $A$ jest macierzą kwadratową, to oznaczoność układu jest równoważna jej odwracalności, tzn.\n",
        "$$\\mathbf {AX} =\\mathbf {B}$$\n",
        "$${\\displaystyle \\mathbf {A} ^{-1}\\mathbf {AX} =\\mathbf {A} ^{-1}\\mathbf {B}} $$\n",
        "$$\\mathbf {X} =\\mathbf {A} ^{-1}\\mathbf {B} .$$\n",
        "\n",
        "#### Przykład:\n",
        "Rozważmy układ równań:\n",
        "$$\\begin{cases}2x + 4y = 10 \\\\ x - y = -1 \\end{cases}$$  \n",
        "Rozwiązaniem jest para liczb:\n",
        "$$\\begin{cases}x = 1 \\\\ y = 2 \\end{cases}$$  \n"
      ]
    },
    {
      "cell_type": "markdown",
      "metadata": {
        "id": "cyc70pMe1oCg"
      },
      "source": [
        "### <a name='1'></a> Ćwiczenie 221\n",
        "Wykorzystując bibliotekę numpy rozwiąż poniższy układ równań:\n",
        "\n",
        "$$\\begin{cases}5x - 3y = 21 \\\\ x - 2y = 7 \\end{cases}$$"
      ]
    },
    {
      "cell_type": "code",
      "metadata": {
        "id": "gkffRbwLWITv",
        "colab": {
          "base_uri": "https://localhost:8080/"
        },
        "outputId": "e820a327-c911-4fef-f77d-034d15f9e260"
      },
      "source": [
        "A = np.array([[5, -3], [1, -2]])\n",
        "B = np.array([[21], [7]])\n",
        "print(A)\n",
        "print(B)"
      ],
      "execution_count": 2,
      "outputs": [
        {
          "output_type": "stream",
          "name": "stdout",
          "text": [
            "[[ 5 -3]\n",
            " [ 1 -2]]\n",
            "[[21]\n",
            " [ 7]]\n"
          ]
        }
      ]
    },
    {
      "cell_type": "code",
      "source": [
        "X = np.dot(np.linalg.inv(A), B)\n",
        "X"
      ],
      "metadata": {
        "colab": {
          "base_uri": "https://localhost:8080/"
        },
        "id": "jrrHTAPtpcEq",
        "outputId": "f2a051fb-87b1-46e7-f397-35d93a4dd363"
      },
      "execution_count": 3,
      "outputs": [
        {
          "output_type": "execute_result",
          "data": {
            "text/plain": [
              "array([[ 3.],\n",
              "       [-2.]])"
            ]
          },
          "metadata": {},
          "execution_count": 3
        }
      ]
    },
    {
      "cell_type": "code",
      "source": [
        "X = np.linalg.solve(A, B)\n",
        "X"
      ],
      "metadata": {
        "colab": {
          "base_uri": "https://localhost:8080/"
        },
        "id": "bCCS-eNbpeJN",
        "outputId": "703ef01f-3433-44ef-9b50-4965f52cbb72"
      },
      "execution_count": 4,
      "outputs": [
        {
          "output_type": "execute_result",
          "data": {
            "text/plain": [
              "array([[ 3.],\n",
              "       [-2.]])"
            ]
          },
          "metadata": {},
          "execution_count": 4
        }
      ]
    },
    {
      "cell_type": "markdown",
      "metadata": {
        "id": "A4xh1szhhZm_"
      },
      "source": [
        "Dokonaj sprawdzenia. \n",
        "\n",
        "__Wskazówka:__ Użyj funkcji _np.allclose()_."
      ]
    },
    {
      "cell_type": "code",
      "metadata": {
        "id": "Ar65MwdrYNRS",
        "colab": {
          "base_uri": "https://localhost:8080/"
        },
        "outputId": "1507c65e-63c7-4bc4-e16a-c4688e319e64"
      },
      "source": [
        "np.allclose(np.dot(A, X), B)"
      ],
      "execution_count": 5,
      "outputs": [
        {
          "output_type": "execute_result",
          "data": {
            "text/plain": [
              "True"
            ]
          },
          "metadata": {},
          "execution_count": 5
        }
      ]
    },
    {
      "cell_type": "markdown",
      "metadata": {
        "id": "J9pY1rtr1sC0"
      },
      "source": [
        "### <a name='2'></a> Ćwiczenie 222\n",
        "Wykorzystując bibliotekę numpy rozwiąż poniższy układ równań:\n",
        "\n",
        "$$\\begin{cases}x + y + z = 1 \\\\ 2x + y + 5z = 0 \\\\ x - y = z \\end{cases}$$"
      ]
    },
    {
      "cell_type": "code",
      "metadata": {
        "id": "X-BSJv65XJ3U",
        "colab": {
          "base_uri": "https://localhost:8080/"
        },
        "outputId": "be4ea3d4-f25a-4730-9296-991d6ce7cd05"
      },
      "source": [
        "A = np.array([[1, 1, 1], [2, 1, 5], [1, -1, -1]])\n",
        "B = np.array([[1], [0], [0]])\n",
        "print(A)\n",
        "print(B)"
      ],
      "execution_count": 6,
      "outputs": [
        {
          "output_type": "stream",
          "name": "stdout",
          "text": [
            "[[ 1  1  1]\n",
            " [ 2  1  5]\n",
            " [ 1 -1 -1]]\n",
            "[[1]\n",
            " [0]\n",
            " [0]]\n"
          ]
        }
      ]
    },
    {
      "cell_type": "code",
      "source": [
        "X = np.dot(np.linalg.inv(A), B)\n",
        "X"
      ],
      "metadata": {
        "colab": {
          "base_uri": "https://localhost:8080/"
        },
        "id": "t-nReFL5pll_",
        "outputId": "9c1c0e48-477b-4358-ec75-fabdd0849754"
      },
      "execution_count": 7,
      "outputs": [
        {
          "output_type": "execute_result",
          "data": {
            "text/plain": [
              "array([[ 0.5  ],\n",
              "       [ 0.875],\n",
              "       [-0.375]])"
            ]
          },
          "metadata": {},
          "execution_count": 7
        }
      ]
    },
    {
      "cell_type": "code",
      "source": [
        "X = np.linalg.solve(A, B)\n",
        "X"
      ],
      "metadata": {
        "colab": {
          "base_uri": "https://localhost:8080/"
        },
        "id": "aBXMb3onplyO",
        "outputId": "c02e1a0c-d6f1-4e2a-c414-ed7737baca7c"
      },
      "execution_count": 8,
      "outputs": [
        {
          "output_type": "execute_result",
          "data": {
            "text/plain": [
              "array([[ 0.5  ],\n",
              "       [ 0.875],\n",
              "       [-0.375]])"
            ]
          },
          "metadata": {},
          "execution_count": 8
        }
      ]
    },
    {
      "cell_type": "markdown",
      "metadata": {
        "id": "kUqnyHaOh1zz"
      },
      "source": [
        "Dokonaj sprawdzenia. \n",
        "\n",
        "__Wskazówka:__ Użyj funkcji _np.allclose()_."
      ]
    },
    {
      "cell_type": "code",
      "metadata": {
        "id": "XfjwJyaVYBZw",
        "colab": {
          "base_uri": "https://localhost:8080/"
        },
        "outputId": "6683c435-16cb-4042-ee7a-4ee66fc66972"
      },
      "source": [
        "np.allclose(np.dot(A, X), B)"
      ],
      "execution_count": 9,
      "outputs": [
        {
          "output_type": "execute_result",
          "data": {
            "text/plain": [
              "True"
            ]
          },
          "metadata": {},
          "execution_count": 9
        }
      ]
    },
    {
      "cell_type": "markdown",
      "metadata": {
        "id": "XQLYT2m11wVG"
      },
      "source": [
        "### <a name='3'></a> Ćwiczenie 223\n",
        "Załaduj popularny zbiór danych IRIS do zmiennej _data_raw_ wykorzystując bibliotekę _scikit-learn_."
      ]
    },
    {
      "cell_type": "code",
      "metadata": {
        "id": "gshNLxTAYvdQ",
        "colab": {
          "base_uri": "https://localhost:8080/"
        },
        "outputId": "92659fa6-9b1f-40b2-b894-28d75ffbe846"
      },
      "source": [
        "from sklearn.datasets import load_iris\n",
        "\n",
        "data_raw = load_iris()\n",
        "data_raw"
      ],
      "execution_count": 10,
      "outputs": [
        {
          "output_type": "execute_result",
          "data": {
            "text/plain": [
              "{'data': array([[5.1, 3.5, 1.4, 0.2],\n",
              "        [4.9, 3. , 1.4, 0.2],\n",
              "        [4.7, 3.2, 1.3, 0.2],\n",
              "        [4.6, 3.1, 1.5, 0.2],\n",
              "        [5. , 3.6, 1.4, 0.2],\n",
              "        [5.4, 3.9, 1.7, 0.4],\n",
              "        [4.6, 3.4, 1.4, 0.3],\n",
              "        [5. , 3.4, 1.5, 0.2],\n",
              "        [4.4, 2.9, 1.4, 0.2],\n",
              "        [4.9, 3.1, 1.5, 0.1],\n",
              "        [5.4, 3.7, 1.5, 0.2],\n",
              "        [4.8, 3.4, 1.6, 0.2],\n",
              "        [4.8, 3. , 1.4, 0.1],\n",
              "        [4.3, 3. , 1.1, 0.1],\n",
              "        [5.8, 4. , 1.2, 0.2],\n",
              "        [5.7, 4.4, 1.5, 0.4],\n",
              "        [5.4, 3.9, 1.3, 0.4],\n",
              "        [5.1, 3.5, 1.4, 0.3],\n",
              "        [5.7, 3.8, 1.7, 0.3],\n",
              "        [5.1, 3.8, 1.5, 0.3],\n",
              "        [5.4, 3.4, 1.7, 0.2],\n",
              "        [5.1, 3.7, 1.5, 0.4],\n",
              "        [4.6, 3.6, 1. , 0.2],\n",
              "        [5.1, 3.3, 1.7, 0.5],\n",
              "        [4.8, 3.4, 1.9, 0.2],\n",
              "        [5. , 3. , 1.6, 0.2],\n",
              "        [5. , 3.4, 1.6, 0.4],\n",
              "        [5.2, 3.5, 1.5, 0.2],\n",
              "        [5.2, 3.4, 1.4, 0.2],\n",
              "        [4.7, 3.2, 1.6, 0.2],\n",
              "        [4.8, 3.1, 1.6, 0.2],\n",
              "        [5.4, 3.4, 1.5, 0.4],\n",
              "        [5.2, 4.1, 1.5, 0.1],\n",
              "        [5.5, 4.2, 1.4, 0.2],\n",
              "        [4.9, 3.1, 1.5, 0.2],\n",
              "        [5. , 3.2, 1.2, 0.2],\n",
              "        [5.5, 3.5, 1.3, 0.2],\n",
              "        [4.9, 3.6, 1.4, 0.1],\n",
              "        [4.4, 3. , 1.3, 0.2],\n",
              "        [5.1, 3.4, 1.5, 0.2],\n",
              "        [5. , 3.5, 1.3, 0.3],\n",
              "        [4.5, 2.3, 1.3, 0.3],\n",
              "        [4.4, 3.2, 1.3, 0.2],\n",
              "        [5. , 3.5, 1.6, 0.6],\n",
              "        [5.1, 3.8, 1.9, 0.4],\n",
              "        [4.8, 3. , 1.4, 0.3],\n",
              "        [5.1, 3.8, 1.6, 0.2],\n",
              "        [4.6, 3.2, 1.4, 0.2],\n",
              "        [5.3, 3.7, 1.5, 0.2],\n",
              "        [5. , 3.3, 1.4, 0.2],\n",
              "        [7. , 3.2, 4.7, 1.4],\n",
              "        [6.4, 3.2, 4.5, 1.5],\n",
              "        [6.9, 3.1, 4.9, 1.5],\n",
              "        [5.5, 2.3, 4. , 1.3],\n",
              "        [6.5, 2.8, 4.6, 1.5],\n",
              "        [5.7, 2.8, 4.5, 1.3],\n",
              "        [6.3, 3.3, 4.7, 1.6],\n",
              "        [4.9, 2.4, 3.3, 1. ],\n",
              "        [6.6, 2.9, 4.6, 1.3],\n",
              "        [5.2, 2.7, 3.9, 1.4],\n",
              "        [5. , 2. , 3.5, 1. ],\n",
              "        [5.9, 3. , 4.2, 1.5],\n",
              "        [6. , 2.2, 4. , 1. ],\n",
              "        [6.1, 2.9, 4.7, 1.4],\n",
              "        [5.6, 2.9, 3.6, 1.3],\n",
              "        [6.7, 3.1, 4.4, 1.4],\n",
              "        [5.6, 3. , 4.5, 1.5],\n",
              "        [5.8, 2.7, 4.1, 1. ],\n",
              "        [6.2, 2.2, 4.5, 1.5],\n",
              "        [5.6, 2.5, 3.9, 1.1],\n",
              "        [5.9, 3.2, 4.8, 1.8],\n",
              "        [6.1, 2.8, 4. , 1.3],\n",
              "        [6.3, 2.5, 4.9, 1.5],\n",
              "        [6.1, 2.8, 4.7, 1.2],\n",
              "        [6.4, 2.9, 4.3, 1.3],\n",
              "        [6.6, 3. , 4.4, 1.4],\n",
              "        [6.8, 2.8, 4.8, 1.4],\n",
              "        [6.7, 3. , 5. , 1.7],\n",
              "        [6. , 2.9, 4.5, 1.5],\n",
              "        [5.7, 2.6, 3.5, 1. ],\n",
              "        [5.5, 2.4, 3.8, 1.1],\n",
              "        [5.5, 2.4, 3.7, 1. ],\n",
              "        [5.8, 2.7, 3.9, 1.2],\n",
              "        [6. , 2.7, 5.1, 1.6],\n",
              "        [5.4, 3. , 4.5, 1.5],\n",
              "        [6. , 3.4, 4.5, 1.6],\n",
              "        [6.7, 3.1, 4.7, 1.5],\n",
              "        [6.3, 2.3, 4.4, 1.3],\n",
              "        [5.6, 3. , 4.1, 1.3],\n",
              "        [5.5, 2.5, 4. , 1.3],\n",
              "        [5.5, 2.6, 4.4, 1.2],\n",
              "        [6.1, 3. , 4.6, 1.4],\n",
              "        [5.8, 2.6, 4. , 1.2],\n",
              "        [5. , 2.3, 3.3, 1. ],\n",
              "        [5.6, 2.7, 4.2, 1.3],\n",
              "        [5.7, 3. , 4.2, 1.2],\n",
              "        [5.7, 2.9, 4.2, 1.3],\n",
              "        [6.2, 2.9, 4.3, 1.3],\n",
              "        [5.1, 2.5, 3. , 1.1],\n",
              "        [5.7, 2.8, 4.1, 1.3],\n",
              "        [6.3, 3.3, 6. , 2.5],\n",
              "        [5.8, 2.7, 5.1, 1.9],\n",
              "        [7.1, 3. , 5.9, 2.1],\n",
              "        [6.3, 2.9, 5.6, 1.8],\n",
              "        [6.5, 3. , 5.8, 2.2],\n",
              "        [7.6, 3. , 6.6, 2.1],\n",
              "        [4.9, 2.5, 4.5, 1.7],\n",
              "        [7.3, 2.9, 6.3, 1.8],\n",
              "        [6.7, 2.5, 5.8, 1.8],\n",
              "        [7.2, 3.6, 6.1, 2.5],\n",
              "        [6.5, 3.2, 5.1, 2. ],\n",
              "        [6.4, 2.7, 5.3, 1.9],\n",
              "        [6.8, 3. , 5.5, 2.1],\n",
              "        [5.7, 2.5, 5. , 2. ],\n",
              "        [5.8, 2.8, 5.1, 2.4],\n",
              "        [6.4, 3.2, 5.3, 2.3],\n",
              "        [6.5, 3. , 5.5, 1.8],\n",
              "        [7.7, 3.8, 6.7, 2.2],\n",
              "        [7.7, 2.6, 6.9, 2.3],\n",
              "        [6. , 2.2, 5. , 1.5],\n",
              "        [6.9, 3.2, 5.7, 2.3],\n",
              "        [5.6, 2.8, 4.9, 2. ],\n",
              "        [7.7, 2.8, 6.7, 2. ],\n",
              "        [6.3, 2.7, 4.9, 1.8],\n",
              "        [6.7, 3.3, 5.7, 2.1],\n",
              "        [7.2, 3.2, 6. , 1.8],\n",
              "        [6.2, 2.8, 4.8, 1.8],\n",
              "        [6.1, 3. , 4.9, 1.8],\n",
              "        [6.4, 2.8, 5.6, 2.1],\n",
              "        [7.2, 3. , 5.8, 1.6],\n",
              "        [7.4, 2.8, 6.1, 1.9],\n",
              "        [7.9, 3.8, 6.4, 2. ],\n",
              "        [6.4, 2.8, 5.6, 2.2],\n",
              "        [6.3, 2.8, 5.1, 1.5],\n",
              "        [6.1, 2.6, 5.6, 1.4],\n",
              "        [7.7, 3. , 6.1, 2.3],\n",
              "        [6.3, 3.4, 5.6, 2.4],\n",
              "        [6.4, 3.1, 5.5, 1.8],\n",
              "        [6. , 3. , 4.8, 1.8],\n",
              "        [6.9, 3.1, 5.4, 2.1],\n",
              "        [6.7, 3.1, 5.6, 2.4],\n",
              "        [6.9, 3.1, 5.1, 2.3],\n",
              "        [5.8, 2.7, 5.1, 1.9],\n",
              "        [6.8, 3.2, 5.9, 2.3],\n",
              "        [6.7, 3.3, 5.7, 2.5],\n",
              "        [6.7, 3. , 5.2, 2.3],\n",
              "        [6.3, 2.5, 5. , 1.9],\n",
              "        [6.5, 3. , 5.2, 2. ],\n",
              "        [6.2, 3.4, 5.4, 2.3],\n",
              "        [5.9, 3. , 5.1, 1.8]]),\n",
              " 'target': array([0, 0, 0, 0, 0, 0, 0, 0, 0, 0, 0, 0, 0, 0, 0, 0, 0, 0, 0, 0, 0, 0,\n",
              "        0, 0, 0, 0, 0, 0, 0, 0, 0, 0, 0, 0, 0, 0, 0, 0, 0, 0, 0, 0, 0, 0,\n",
              "        0, 0, 0, 0, 0, 0, 1, 1, 1, 1, 1, 1, 1, 1, 1, 1, 1, 1, 1, 1, 1, 1,\n",
              "        1, 1, 1, 1, 1, 1, 1, 1, 1, 1, 1, 1, 1, 1, 1, 1, 1, 1, 1, 1, 1, 1,\n",
              "        1, 1, 1, 1, 1, 1, 1, 1, 1, 1, 1, 1, 2, 2, 2, 2, 2, 2, 2, 2, 2, 2,\n",
              "        2, 2, 2, 2, 2, 2, 2, 2, 2, 2, 2, 2, 2, 2, 2, 2, 2, 2, 2, 2, 2, 2,\n",
              "        2, 2, 2, 2, 2, 2, 2, 2, 2, 2, 2, 2, 2, 2, 2, 2, 2, 2]),\n",
              " 'frame': None,\n",
              " 'target_names': array(['setosa', 'versicolor', 'virginica'], dtype='<U10'),\n",
              " 'DESCR': '.. _iris_dataset:\\n\\nIris plants dataset\\n--------------------\\n\\n**Data Set Characteristics:**\\n\\n    :Number of Instances: 150 (50 in each of three classes)\\n    :Number of Attributes: 4 numeric, predictive attributes and the class\\n    :Attribute Information:\\n        - sepal length in cm\\n        - sepal width in cm\\n        - petal length in cm\\n        - petal width in cm\\n        - class:\\n                - Iris-Setosa\\n                - Iris-Versicolour\\n                - Iris-Virginica\\n                \\n    :Summary Statistics:\\n\\n    ============== ==== ==== ======= ===== ====================\\n                    Min  Max   Mean    SD   Class Correlation\\n    ============== ==== ==== ======= ===== ====================\\n    sepal length:   4.3  7.9   5.84   0.83    0.7826\\n    sepal width:    2.0  4.4   3.05   0.43   -0.4194\\n    petal length:   1.0  6.9   3.76   1.76    0.9490  (high!)\\n    petal width:    0.1  2.5   1.20   0.76    0.9565  (high!)\\n    ============== ==== ==== ======= ===== ====================\\n\\n    :Missing Attribute Values: None\\n    :Class Distribution: 33.3% for each of 3 classes.\\n    :Creator: R.A. Fisher\\n    :Donor: Michael Marshall (MARSHALL%PLU@io.arc.nasa.gov)\\n    :Date: July, 1988\\n\\nThe famous Iris database, first used by Sir R.A. Fisher. The dataset is taken\\nfrom Fisher\\'s paper. Note that it\\'s the same as in R, but not as in the UCI\\nMachine Learning Repository, which has two wrong data points.\\n\\nThis is perhaps the best known database to be found in the\\npattern recognition literature.  Fisher\\'s paper is a classic in the field and\\nis referenced frequently to this day.  (See Duda & Hart, for example.)  The\\ndata set contains 3 classes of 50 instances each, where each class refers to a\\ntype of iris plant.  One class is linearly separable from the other 2; the\\nlatter are NOT linearly separable from each other.\\n\\n.. topic:: References\\n\\n   - Fisher, R.A. \"The use of multiple measurements in taxonomic problems\"\\n     Annual Eugenics, 7, Part II, 179-188 (1936); also in \"Contributions to\\n     Mathematical Statistics\" (John Wiley, NY, 1950).\\n   - Duda, R.O., & Hart, P.E. (1973) Pattern Classification and Scene Analysis.\\n     (Q327.D83) John Wiley & Sons.  ISBN 0-471-22361-1.  See page 218.\\n   - Dasarathy, B.V. (1980) \"Nosing Around the Neighborhood: A New System\\n     Structure and Classification Rule for Recognition in Partially Exposed\\n     Environments\".  IEEE Transactions on Pattern Analysis and Machine\\n     Intelligence, Vol. PAMI-2, No. 1, 67-71.\\n   - Gates, G.W. (1972) \"The Reduced Nearest Neighbor Rule\".  IEEE Transactions\\n     on Information Theory, May 1972, 431-433.\\n   - See also: 1988 MLC Proceedings, 54-64.  Cheeseman et al\"s AUTOCLASS II\\n     conceptual clustering system finds 3 classes in the data.\\n   - Many, many more ...',\n",
              " 'feature_names': ['sepal length (cm)',\n",
              "  'sepal width (cm)',\n",
              "  'petal length (cm)',\n",
              "  'petal width (cm)'],\n",
              " 'filename': 'iris.csv',\n",
              " 'data_module': 'sklearn.datasets.data'}"
            ]
          },
          "metadata": {},
          "execution_count": 10
        }
      ]
    },
    {
      "cell_type": "markdown",
      "metadata": {
        "id": "43j_BUe2ZgkH"
      },
      "source": [
        "Wyświetl opis zbioru IRIS"
      ]
    },
    {
      "cell_type": "code",
      "metadata": {
        "id": "WHeXfhvsZfxn",
        "colab": {
          "base_uri": "https://localhost:8080/"
        },
        "outputId": "e0d69d5b-3c07-4524-bb6a-9934ded37bbc"
      },
      "source": [
        "print(data_raw['DESCR'])"
      ],
      "execution_count": 11,
      "outputs": [
        {
          "output_type": "stream",
          "name": "stdout",
          "text": [
            ".. _iris_dataset:\n",
            "\n",
            "Iris plants dataset\n",
            "--------------------\n",
            "\n",
            "**Data Set Characteristics:**\n",
            "\n",
            "    :Number of Instances: 150 (50 in each of three classes)\n",
            "    :Number of Attributes: 4 numeric, predictive attributes and the class\n",
            "    :Attribute Information:\n",
            "        - sepal length in cm\n",
            "        - sepal width in cm\n",
            "        - petal length in cm\n",
            "        - petal width in cm\n",
            "        - class:\n",
            "                - Iris-Setosa\n",
            "                - Iris-Versicolour\n",
            "                - Iris-Virginica\n",
            "                \n",
            "    :Summary Statistics:\n",
            "\n",
            "    ============== ==== ==== ======= ===== ====================\n",
            "                    Min  Max   Mean    SD   Class Correlation\n",
            "    ============== ==== ==== ======= ===== ====================\n",
            "    sepal length:   4.3  7.9   5.84   0.83    0.7826\n",
            "    sepal width:    2.0  4.4   3.05   0.43   -0.4194\n",
            "    petal length:   1.0  6.9   3.76   1.76    0.9490  (high!)\n",
            "    petal width:    0.1  2.5   1.20   0.76    0.9565  (high!)\n",
            "    ============== ==== ==== ======= ===== ====================\n",
            "\n",
            "    :Missing Attribute Values: None\n",
            "    :Class Distribution: 33.3% for each of 3 classes.\n",
            "    :Creator: R.A. Fisher\n",
            "    :Donor: Michael Marshall (MARSHALL%PLU@io.arc.nasa.gov)\n",
            "    :Date: July, 1988\n",
            "\n",
            "The famous Iris database, first used by Sir R.A. Fisher. The dataset is taken\n",
            "from Fisher's paper. Note that it's the same as in R, but not as in the UCI\n",
            "Machine Learning Repository, which has two wrong data points.\n",
            "\n",
            "This is perhaps the best known database to be found in the\n",
            "pattern recognition literature.  Fisher's paper is a classic in the field and\n",
            "is referenced frequently to this day.  (See Duda & Hart, for example.)  The\n",
            "data set contains 3 classes of 50 instances each, where each class refers to a\n",
            "type of iris plant.  One class is linearly separable from the other 2; the\n",
            "latter are NOT linearly separable from each other.\n",
            "\n",
            ".. topic:: References\n",
            "\n",
            "   - Fisher, R.A. \"The use of multiple measurements in taxonomic problems\"\n",
            "     Annual Eugenics, 7, Part II, 179-188 (1936); also in \"Contributions to\n",
            "     Mathematical Statistics\" (John Wiley, NY, 1950).\n",
            "   - Duda, R.O., & Hart, P.E. (1973) Pattern Classification and Scene Analysis.\n",
            "     (Q327.D83) John Wiley & Sons.  ISBN 0-471-22361-1.  See page 218.\n",
            "   - Dasarathy, B.V. (1980) \"Nosing Around the Neighborhood: A New System\n",
            "     Structure and Classification Rule for Recognition in Partially Exposed\n",
            "     Environments\".  IEEE Transactions on Pattern Analysis and Machine\n",
            "     Intelligence, Vol. PAMI-2, No. 1, 67-71.\n",
            "   - Gates, G.W. (1972) \"The Reduced Nearest Neighbor Rule\".  IEEE Transactions\n",
            "     on Information Theory, May 1972, 431-433.\n",
            "   - See also: 1988 MLC Proceedings, 54-64.  Cheeseman et al\"s AUTOCLASS II\n",
            "     conceptual clustering system finds 3 classes in the data.\n",
            "   - Many, many more ...\n"
          ]
        }
      ]
    },
    {
      "cell_type": "markdown",
      "metadata": {
        "id": "35HLC1jCZq9x"
      },
      "source": [
        "Wyświetl nazwy zmiennych w zbiorze."
      ]
    },
    {
      "cell_type": "code",
      "metadata": {
        "id": "9-ndsHwQZuK3",
        "colab": {
          "base_uri": "https://localhost:8080/"
        },
        "outputId": "f38be594-3e62-45b2-c12c-a225e380ce35"
      },
      "source": [
        "data_raw['feature_names']"
      ],
      "execution_count": 12,
      "outputs": [
        {
          "output_type": "execute_result",
          "data": {
            "text/plain": [
              "['sepal length (cm)',\n",
              " 'sepal width (cm)',\n",
              " 'petal length (cm)',\n",
              " 'petal width (cm)']"
            ]
          },
          "metadata": {},
          "execution_count": 12
        }
      ]
    },
    {
      "cell_type": "markdown",
      "metadata": {
        "id": "5JPv3pTxZzH_"
      },
      "source": [
        "Wyświetl nazwy klas w zbiorze."
      ]
    },
    {
      "cell_type": "code",
      "metadata": {
        "id": "fkE9V9lBZ1uH",
        "colab": {
          "base_uri": "https://localhost:8080/"
        },
        "outputId": "b068404d-d504-4d28-f6be-845cc3134f6f"
      },
      "source": [
        "data_raw['target_names']"
      ],
      "execution_count": 13,
      "outputs": [
        {
          "output_type": "execute_result",
          "data": {
            "text/plain": [
              "array(['setosa', 'versicolor', 'virginica'], dtype='<U10')"
            ]
          },
          "metadata": {},
          "execution_count": 13
        }
      ]
    },
    {
      "cell_type": "markdown",
      "metadata": {
        "id": "4xTKSUzg10MK"
      },
      "source": [
        "### <a name='4'></a> Ćwiczenie 224\n",
        "Do zmiennej _data_ przypisz dane (tablica numpy) zbioru IRIS. "
      ]
    },
    {
      "cell_type": "code",
      "metadata": {
        "id": "8Eaf0Ze6Z7U5"
      },
      "source": [
        "data = data_raw['data']"
      ],
      "execution_count": 14,
      "outputs": []
    },
    {
      "cell_type": "markdown",
      "metadata": {
        "id": "ZFUjH3O4aE5p"
      },
      "source": [
        "Do zmiennej _target_ przypisz wartości zmiennej docelowej ze zbioru IRIS."
      ]
    },
    {
      "cell_type": "code",
      "metadata": {
        "id": "YqyXeVCTaGjM"
      },
      "source": [
        "target = data_raw['target']"
      ],
      "execution_count": 15,
      "outputs": []
    },
    {
      "cell_type": "markdown",
      "metadata": {
        "id": "-kTAqyiYaVGV"
      },
      "source": [
        "Zbadaj kształt zmiennej _data_ oraz _target_."
      ]
    },
    {
      "cell_type": "code",
      "metadata": {
        "id": "QlSfawFNaYk1",
        "colab": {
          "base_uri": "https://localhost:8080/"
        },
        "outputId": "6398d60c-5a18-43b9-f201-fcb19298f07b"
      },
      "source": [
        "print(data.shape)\n",
        "print(target.shape)"
      ],
      "execution_count": 16,
      "outputs": [
        {
          "output_type": "stream",
          "name": "stdout",
          "text": [
            "(150, 4)\n",
            "(150,)\n"
          ]
        }
      ]
    },
    {
      "cell_type": "markdown",
      "metadata": {
        "id": "o3HKIKlP15Ro"
      },
      "source": [
        "### <a name='5'></a> Ćwiczenie 225\n",
        "Podziel dane na zbiór treningowy (_data_train_, _target_train_) i testowy (_data_test_, _target_test_). Rozmiar zbioru testowego to 30% próbek."
      ]
    },
    {
      "cell_type": "code",
      "metadata": {
        "id": "ninOmgfazd6v"
      },
      "source": [
        "from sklearn.model_selection import train_test_split\n",
        "\n",
        "data_train, data_test, target_train, target_test = train_test_split(data, target, test_size=0.3)"
      ],
      "execution_count": 17,
      "outputs": []
    },
    {
      "cell_type": "markdown",
      "metadata": {
        "id": "tkQQXkt009F_"
      },
      "source": [
        "Wyświetl rozmiar zbiorów:\n",
        "* _data_train_\n",
        "* _target_train_\n",
        "* _data_test_\n",
        "* _target_test_"
      ]
    },
    {
      "cell_type": "code",
      "metadata": {
        "id": "xtq2Z_-P1KF5",
        "colab": {
          "base_uri": "https://localhost:8080/"
        },
        "outputId": "48d8bb26-b454-4385-89b3-d0f41339de23"
      },
      "source": [
        "print(f'data_train shape: {data_train.shape}')\n",
        "print(f'target_train shape: {target_train.shape}')\n",
        "print(f'data_test shape: {data_test.shape}')\n",
        "print(f'target_test shape: {target_test.shape}')"
      ],
      "execution_count": 18,
      "outputs": [
        {
          "output_type": "stream",
          "name": "stdout",
          "text": [
            "data_train shape: (105, 4)\n",
            "target_train shape: (105,)\n",
            "data_test shape: (45, 4)\n",
            "target_test shape: (45,)\n"
          ]
        }
      ]
    },
    {
      "cell_type": "markdown",
      "metadata": {
        "id": "PunXd_Ey16so"
      },
      "source": [
        "### <a name='6'></a> Ćwiczenie 226 \n",
        "Zbuduj model regresji logistcznej (ustaw domyślne wartości parametrów) wykorzystując bibliotekę scikit-learn oraz dane IRIS."
      ]
    },
    {
      "cell_type": "code",
      "metadata": {
        "id": "zxm23bKf1SG7"
      },
      "source": [
        "from sklearn.linear_model import LogisticRegression\n",
        "\n",
        "model = LogisticRegression()"
      ],
      "execution_count": 19,
      "outputs": []
    },
    {
      "cell_type": "markdown",
      "metadata": {
        "id": "FWRzSV8L1ZUU"
      },
      "source": [
        "Dopasuj dane treningowe do modelu."
      ]
    },
    {
      "cell_type": "code",
      "metadata": {
        "id": "L1VBQhUZ1ckh",
        "colab": {
          "base_uri": "https://localhost:8080/"
        },
        "outputId": "561d17cf-55b6-4ad7-f1ef-322afa286911"
      },
      "source": [
        "model.fit(data_train, target_train)"
      ],
      "execution_count": 20,
      "outputs": [
        {
          "output_type": "execute_result",
          "data": {
            "text/plain": [
              "LogisticRegression()"
            ]
          },
          "metadata": {},
          "execution_count": 20
        }
      ]
    },
    {
      "cell_type": "markdown",
      "metadata": {
        "id": "hOhqDRz618Tx"
      },
      "source": [
        "### <a name='7'></a> Ćwiczenie 227\n",
        "Dokonaj oceny modelu na zbiorze treningowym."
      ]
    },
    {
      "cell_type": "code",
      "metadata": {
        "id": "5gZWLrht1-vl",
        "colab": {
          "base_uri": "https://localhost:8080/"
        },
        "outputId": "61774610-64b6-4965-deb4-81b79e6a69da"
      },
      "source": [
        "model.score(data_train, target_train)"
      ],
      "execution_count": 21,
      "outputs": [
        {
          "output_type": "execute_result",
          "data": {
            "text/plain": [
              "0.9714285714285714"
            ]
          },
          "metadata": {},
          "execution_count": 21
        }
      ]
    },
    {
      "cell_type": "markdown",
      "metadata": {
        "id": "YSg63Pcv2QJP"
      },
      "source": [
        "Dokonaj oceny modelu na zbiorze testowym."
      ]
    },
    {
      "cell_type": "code",
      "metadata": {
        "id": "spCcLOtX2TXQ",
        "colab": {
          "base_uri": "https://localhost:8080/"
        },
        "outputId": "64d821df-8ac3-4042-ec57-fb9e291bddce"
      },
      "source": [
        "model.score(data_test, target_test)"
      ],
      "execution_count": 22,
      "outputs": [
        {
          "output_type": "execute_result",
          "data": {
            "text/plain": [
              "0.9333333333333333"
            ]
          },
          "metadata": {},
          "execution_count": 22
        }
      ]
    },
    {
      "cell_type": "markdown",
      "metadata": {
        "id": "TXUd_4631-gw"
      },
      "source": [
        "### <a name='8'></a> Ćwiczenie 228\n",
        "Dokonaj predykcji na danych testowych na podstawie modelu i przypisz je do zmiennej _target\\_pred_."
      ]
    },
    {
      "cell_type": "code",
      "metadata": {
        "id": "AyjKyB5r2ZhQ"
      },
      "source": [
        "target_pred = model.predict(data_test)"
      ],
      "execution_count": 23,
      "outputs": []
    },
    {
      "cell_type": "markdown",
      "metadata": {
        "id": "VDZq3lde2heB"
      },
      "source": [
        "Wyświetl zmienną _target\\_pred_."
      ]
    },
    {
      "cell_type": "code",
      "metadata": {
        "id": "KaooHHRt2tJB",
        "colab": {
          "base_uri": "https://localhost:8080/"
        },
        "outputId": "4604db20-1fba-4456-946d-c3c67220e43f"
      },
      "source": [
        "target_pred"
      ],
      "execution_count": 24,
      "outputs": [
        {
          "output_type": "execute_result",
          "data": {
            "text/plain": [
              "array([0, 1, 1, 2, 1, 1, 2, 0, 2, 0, 2, 1, 1, 0, 0, 2, 0, 1, 2, 1, 1, 2,\n",
              "       2, 0, 1, 1, 1, 0, 2, 1, 1, 1, 0, 0, 0, 1, 1, 0, 1, 2, 1, 2, 0, 1,\n",
              "       1])"
            ]
          },
          "metadata": {},
          "execution_count": 24
        }
      ]
    },
    {
      "cell_type": "markdown",
      "metadata": {
        "id": "EYvlbXM82v34"
      },
      "source": [
        "Wyświetl zmienną _target\\_test_."
      ]
    },
    {
      "cell_type": "code",
      "metadata": {
        "id": "5RxQBgvK2yrR",
        "colab": {
          "base_uri": "https://localhost:8080/"
        },
        "outputId": "812c0b87-da97-4293-c71d-7908124c349d"
      },
      "source": [
        "target_test"
      ],
      "execution_count": 25,
      "outputs": [
        {
          "output_type": "execute_result",
          "data": {
            "text/plain": [
              "array([0, 1, 1, 2, 1, 1, 2, 0, 2, 0, 2, 1, 2, 0, 0, 2, 0, 1, 2, 1, 1, 2,\n",
              "       2, 0, 1, 1, 1, 0, 2, 2, 1, 1, 0, 0, 0, 2, 1, 0, 1, 2, 1, 2, 0, 1,\n",
              "       1])"
            ]
          },
          "metadata": {},
          "execution_count": 25
        }
      ]
    },
    {
      "cell_type": "markdown",
      "metadata": {
        "id": "tgI6xEn-2AQo"
      },
      "source": [
        "### <a name='9'></a> Ćwiczenie 229\n",
        "Wyznacz macierz pomyłek (macierz konfuzji) "
      ]
    },
    {
      "cell_type": "code",
      "metadata": {
        "id": "r0mbpM943D2J",
        "colab": {
          "base_uri": "https://localhost:8080/"
        },
        "outputId": "286a02a6-8015-400b-c0d6-ded082f1697c"
      },
      "source": [
        "from sklearn.metrics import confusion_matrix\n",
        "\n",
        "cm = confusion_matrix(target_test, target_pred)\n",
        "cm"
      ],
      "execution_count": 26,
      "outputs": [
        {
          "output_type": "execute_result",
          "data": {
            "text/plain": [
              "array([[13,  0,  0],\n",
              "       [ 0, 18,  0],\n",
              "       [ 0,  3, 11]])"
            ]
          },
          "metadata": {},
          "execution_count": 26
        }
      ]
    },
    {
      "cell_type": "markdown",
      "metadata": {
        "id": "wxhpf-uq2B1I"
      },
      "source": [
        "### <a name='10'></a> Ćwiczenie 230\n",
        "Wyświetl raport klasyfikacji modelu."
      ]
    },
    {
      "cell_type": "code",
      "metadata": {
        "id": "YFc0KW6URsuc",
        "colab": {
          "base_uri": "https://localhost:8080/"
        },
        "outputId": "4c0ceb7c-20e5-4f9f-99bc-1f43d072e851"
      },
      "source": [
        "from sklearn.metrics import classification_report\n",
        "\n",
        "print(classification_report(target_test, target_pred))"
      ],
      "execution_count": 27,
      "outputs": [
        {
          "output_type": "stream",
          "name": "stdout",
          "text": [
            "              precision    recall  f1-score   support\n",
            "\n",
            "           0       1.00      1.00      1.00        13\n",
            "           1       0.86      1.00      0.92        18\n",
            "           2       1.00      0.79      0.88        14\n",
            "\n",
            "    accuracy                           0.93        45\n",
            "   macro avg       0.95      0.93      0.93        45\n",
            "weighted avg       0.94      0.93      0.93        45\n",
            "\n"
          ]
        }
      ]
    }
  ]
}