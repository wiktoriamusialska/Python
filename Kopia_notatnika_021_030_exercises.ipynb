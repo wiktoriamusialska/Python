{
  "nbformat": 4,
  "nbformat_minor": 0,
  "metadata": {
    "colab": {
      "name": "Kopia notatnika 021-030_exercises.ipynb",
      "provenance": [],
      "collapsed_sections": []
    },
    "kernelspec": {
      "name": "python3",
      "display_name": "Python 3"
    }
  },
  "cells": [
    {
      "cell_type": "markdown",
      "metadata": {
        "id": "WLEgCW5F1hho"
      },
      "source": [
        "## Numpy\n",
        "\n",
        "### Spis treści:\n",
        "* [Import biblioteki](#0)\n",
        "* [Ćwiczenie 21](#1)\n",
        "* [Ćwiczenie 22](#2)\n",
        "* [Ćwiczenie 23](#3)\n",
        "* [Ćwiczenie 24](#4)\n",
        "* [Ćwiczenie 25](#5)\n",
        "* [Ćwiczenie 26](#6)\n",
        "* [Ćwiczenie 27](#7)\n",
        "* [Ćwiczenie 28](#8)\n",
        "* [Ćwiczenie 29](#9)\n",
        "* [Ćwiczenie 30](#10)"
      ]
    },
    {
      "cell_type": "markdown",
      "metadata": {
        "id": "zeLOLmTj1kBM"
      },
      "source": [
        "### <a name='0'></a>Import biblioteki"
      ]
    },
    {
      "cell_type": "code",
      "metadata": {
        "id": "HXMB7SMe1Wnz",
        "colab": {
          "base_uri": "https://localhost:8080/",
          "height": 35
        },
        "outputId": "711959e7-4f3c-4550-96c5-e6f0d97bec02"
      },
      "source": [
        "import numpy as np\n",
        "\n",
        "np.__version__"
      ],
      "execution_count": 1,
      "outputs": [
        {
          "output_type": "execute_result",
          "data": {
            "text/plain": [
              "'1.21.6'"
            ],
            "application/vnd.google.colaboratory.intrinsic+json": {
              "type": "string"
            }
          },
          "metadata": {},
          "execution_count": 1
        }
      ]
    },
    {
      "cell_type": "markdown",
      "metadata": {
        "id": "cyc70pMe1oCg"
      },
      "source": [
        "### <a name='1'></a> Ćwiczenie 21\n",
        "Wygeneruj poniższą tablicę numpy. Zapisz tablicę do pliku bianarnego o nazwie _'array.npy'_ i następnie wczytaj z powrotem ten plik do innej zmiennej.\n",
        "\n",
        "\n",
        "```\n",
        "array([[ 0,  1,  2,  3],\n",
        "       [ 4,  5,  6,  7],\n",
        "       [ 8,  9, 10, 11]])\n",
        "```\n",
        "\n",
        "\n",
        "__Wskazówka:__ Użyj funkcji _np.save()_ oraz _np.load()_."
      ]
    },
    {
      "cell_type": "code",
      "metadata": {
        "id": "MhvZKgtPKAOF",
        "colab": {
          "base_uri": "https://localhost:8080/"
        },
        "outputId": "4c581c69-e6b7-446a-e60b-4ab90317707b"
      },
      "source": [
        "array=np.arange(0,12).reshape(3,4)\n",
        "saved=np.save(\"array.npy\",array)\n",
        "open=np.load(\"array.npy\")\n",
        "print(open)"
      ],
      "execution_count": 2,
      "outputs": [
        {
          "output_type": "stream",
          "name": "stdout",
          "text": [
            "[[ 0  1  2  3]\n",
            " [ 4  5  6  7]\n",
            " [ 8  9 10 11]]\n"
          ]
        }
      ]
    },
    {
      "cell_type": "markdown",
      "metadata": {
        "id": "J9pY1rtr1sC0"
      },
      "source": [
        "### <a name='2'></a> Ćwiczenie 22\n",
        "Wygeneruj ponizszą tablicę numpy:\n",
        "\n",
        "\n",
        "```\n",
        "array([[ 0,  1,  2,  3],\n",
        "       [ 4,  5,  6,  7],\n",
        "       [ 8,  9, 10, 11]])\n",
        "```\n",
        "\n",
        "\n",
        "Zapisz tablicę do pliku tekstowego o nazwie _'array.txt'_ z dokładnością do drugiego miejsca po przecinku i następnie wczytaj z powrotem ten plik do innej zmiennej.\n",
        "\n",
        "__Wskazówka:__ Użyj funkcji _np.savetxt()_ oraz _np.loadtxt()_.\n"
      ]
    },
    {
      "cell_type": "code",
      "metadata": {
        "id": "Ac7M7bDhLAlf",
        "colab": {
          "base_uri": "https://localhost:8080/"
        },
        "outputId": "3660edfd-6e98-4644-d3f9-05d7e0ca0b14"
      },
      "source": [
        "array=np.arange(0,12).reshape(3,4)\n",
        "save=np.savetxt('array.txt',array, fmt='%0.2f')\n",
        "open=np.loadtxt('array.txt')\n",
        "print(open)"
      ],
      "execution_count": 15,
      "outputs": [
        {
          "output_type": "stream",
          "name": "stdout",
          "text": [
            "[[ 0.  1.  2.  3.]\n",
            " [ 4.  5.  6.  7.]\n",
            " [ 8.  9. 10. 11.]]\n"
          ]
        }
      ]
    },
    {
      "cell_type": "markdown",
      "metadata": {
        "id": "XQLYT2m11wVG"
      },
      "source": [
        "### <a name='3'></a> Ćwiczenie 23\n",
        "Wygeneruj i przekształć poniższą tablicę numpy na listę.\n",
        "\n",
        "\n",
        "```\n",
        "array([[ 0,  1,  2,  3],\n",
        "       [ 4,  5,  6,  7],\n",
        "       [ 8,  9, 10, 11]])\n",
        "```\n",
        "\n",
        "\n",
        "\n",
        "__Wskazówka:__ Użyj metody _np.array.tolist()_."
      ]
    },
    {
      "cell_type": "code",
      "metadata": {
        "id": "Dtu-EJViT1Os",
        "colab": {
          "base_uri": "https://localhost:8080/"
        },
        "outputId": "606c316d-72be-4865-d02d-22cd3681f2d4"
      },
      "source": [
        "array=np.arange(0,12).reshape(3,4)\n",
        "array.tolist()"
      ],
      "execution_count": 4,
      "outputs": [
        {
          "output_type": "execute_result",
          "data": {
            "text/plain": [
              "[[0, 1, 2, 3], [4, 5, 6, 7], [8, 9, 10, 11]]"
            ]
          },
          "metadata": {},
          "execution_count": 4
        }
      ]
    },
    {
      "cell_type": "markdown",
      "metadata": {
        "id": "4xTKSUzg10MK"
      },
      "source": [
        "### <a name='4'></a> Ćwiczenie 24\n",
        "Podana jest poniższa tablica numpy:\n",
        "\n",
        "```\n",
        "array([[ 0,  1,  2,  3],\n",
        "       [ 4,  5,  6,  7],\n",
        "       [ 8,  9, 10, 11]])\n",
        "```\n",
        "Używając operatora wycinania przekształć tablicę w poniższe:\n",
        "\n",
        "* zamiana wierszy (pierwszy z ostatnim)\n",
        "\n",
        "```\n",
        "array([[ 8,  9, 10, 11],\n",
        "       [ 4,  5,  6,  7],\n",
        "       [ 0,  1,  2,  3]])\n",
        "```\n",
        "\n",
        "\n",
        "\n",
        "\n",
        "\n"
      ]
    },
    {
      "cell_type": "code",
      "metadata": {
        "id": "1iqUDmG3V7sM",
        "colab": {
          "base_uri": "https://localhost:8080/"
        },
        "outputId": "c6c1644a-51c2-4365-f3fd-920c5997da91"
      },
      "source": [
        "array=np.arange(0,12).reshape(3,4)\n",
        "array[[0,2]]=array[[2,0]]\n",
        "print(array)"
      ],
      "execution_count": 5,
      "outputs": [
        {
          "output_type": "stream",
          "name": "stdout",
          "text": [
            "[[ 8  9 10 11]\n",
            " [ 4  5  6  7]\n",
            " [ 0  1  2  3]]\n"
          ]
        }
      ]
    },
    {
      "cell_type": "code",
      "source": [
        "array=np.arange(0,12).reshape(3,4)\n",
        "array[::-1]"
      ],
      "metadata": {
        "colab": {
          "base_uri": "https://localhost:8080/"
        },
        "id": "Y80TW88Jp5WL",
        "outputId": "d62ed634-7870-4f45-8952-0704ecbca7e7"
      },
      "execution_count": 16,
      "outputs": [
        {
          "output_type": "execute_result",
          "data": {
            "text/plain": [
              "array([[ 8,  9, 10, 11],\n",
              "       [ 4,  5,  6,  7],\n",
              "       [ 0,  1,  2,  3]])"
            ]
          },
          "metadata": {},
          "execution_count": 16
        }
      ]
    },
    {
      "cell_type": "code",
      "source": [
        "array=np.arange(0,12).reshape(3,4)\n",
        "array[[0,2],:]=array[[2,0],:]\n",
        "print(array)"
      ],
      "metadata": {
        "colab": {
          "base_uri": "https://localhost:8080/"
        },
        "id": "PH4oOJxRIndw",
        "outputId": "dc6cbc79-f22d-4477-a457-155ae2d1d63d"
      },
      "execution_count": 6,
      "outputs": [
        {
          "output_type": "stream",
          "name": "stdout",
          "text": [
            "[[ 8  9 10 11]\n",
            " [ 4  5  6  7]\n",
            " [ 0  1  2  3]]\n"
          ]
        }
      ]
    },
    {
      "cell_type": "markdown",
      "metadata": {
        "id": "QwFXH2dIEhMp"
      },
      "source": [
        "* zamiana kolumn (odwrócona kolejność)\n",
        "\n",
        "\n",
        "```\n",
        "array([[ 3,  2,  1,  0],\n",
        "       [ 7,  6,  5,  4],\n",
        "       [11, 10,  9,  8]])\n",
        "```\n"
      ]
    },
    {
      "cell_type": "code",
      "metadata": {
        "id": "dux6cn8YV-q_",
        "colab": {
          "base_uri": "https://localhost:8080/"
        },
        "outputId": "8cc0ca3e-d4ff-4d55-a28b-2560cab407bb"
      },
      "source": [
        "array=np.arange(0,12).reshape(3,4)\n",
        "#print(array)\n",
        "array[:,[0,1,2,3]]=array[:,[3,2,1,0]]\n",
        "print(array)"
      ],
      "execution_count": 7,
      "outputs": [
        {
          "output_type": "stream",
          "name": "stdout",
          "text": [
            "[[ 3  2  1  0]\n",
            " [ 7  6  5  4]\n",
            " [11 10  9  8]]\n"
          ]
        }
      ]
    },
    {
      "cell_type": "code",
      "source": [
        "array=np.arange(0,12).reshape(3,4)\n",
        "array[:,::-1]"
      ],
      "metadata": {
        "colab": {
          "base_uri": "https://localhost:8080/"
        },
        "id": "RKjBns3nqiLh",
        "outputId": "ae085f44-44cb-4ae3-b36c-e9e33fa6be7c"
      },
      "execution_count": 17,
      "outputs": [
        {
          "output_type": "execute_result",
          "data": {
            "text/plain": [
              "array([[ 3,  2,  1,  0],\n",
              "       [ 7,  6,  5,  4],\n",
              "       [11, 10,  9,  8]])"
            ]
          },
          "metadata": {},
          "execution_count": 17
        }
      ]
    },
    {
      "cell_type": "markdown",
      "metadata": {
        "id": "i5mm0dexEoDe"
      },
      "source": [
        "* zamiana wierszy i kolumn (odwrócone kolejności)\n",
        "\n",
        "\n",
        "```\n",
        "array([[11, 10,  9,  8],\n",
        "       [ 7,  6,  5,  4],\n",
        "       [ 3,  2,  1,  0]])\n",
        "```       "
      ]
    },
    {
      "cell_type": "code",
      "metadata": {
        "id": "ZqkvfYoKWHLp",
        "colab": {
          "base_uri": "https://localhost:8080/"
        },
        "outputId": "793e926a-fb18-4286-854d-0397baf02fb5"
      },
      "source": [
        "array=np.arange(0,12).reshape(3,4)\n",
        "#print(array)\n",
        "array[[0,1,2],:]=array[[2,1,0],:]\n",
        "array[:,[0,1,2,3]]=array[:,[3,2,1,0]]\n",
        "print(array)"
      ],
      "execution_count": 8,
      "outputs": [
        {
          "output_type": "stream",
          "name": "stdout",
          "text": [
            "[[11 10  9  8]\n",
            " [ 7  6  5  4]\n",
            " [ 3  2  1  0]]\n"
          ]
        }
      ]
    },
    {
      "cell_type": "code",
      "source": [
        "array=np.arange(0,12).reshape(3,4)\n",
        "array[::-1, ::-1]"
      ],
      "metadata": {
        "colab": {
          "base_uri": "https://localhost:8080/"
        },
        "id": "F6toJhipqyrj",
        "outputId": "ff8b26f8-a431-455c-8c2e-8eac6907f42d"
      },
      "execution_count": 18,
      "outputs": [
        {
          "output_type": "execute_result",
          "data": {
            "text/plain": [
              "array([[11, 10,  9,  8],\n",
              "       [ 7,  6,  5,  4],\n",
              "       [ 3,  2,  1,  0]])"
            ]
          },
          "metadata": {},
          "execution_count": 18
        }
      ]
    },
    {
      "cell_type": "markdown",
      "metadata": {
        "id": "o3HKIKlP15Ro"
      },
      "source": [
        "### <a name='5'></a> Ćwiczenie 25\n",
        "Podaną poniżej tablicę numpy:\n",
        "\n",
        "```\n",
        "array([[1., 1., 1., 1.],\n",
        "       [1., 1., 1., 1.],\n",
        "       [1., 1., 1., 1.],\n",
        "       [1., 1., 1., 1.]])\n",
        "```\n",
        "Przekształć na tablicę:\n",
        "\n",
        "\n",
        "```\n",
        "array([[0., 0., 0., 0., 0., 0.],\n",
        "       [0., 1., 1., 1., 1., 0.],\n",
        "       [0., 1., 1., 1., 1., 0.],\n",
        "       [0., 1., 1., 1., 1., 0.],\n",
        "       [0., 1., 1., 1., 1., 0.],\n",
        "       [0., 0., 0., 0., 0., 0.]])\n",
        "```\n",
        "__Wskazówka:__ Użyj funkcji _np.pad()_.\n",
        "\n",
        "\n",
        "\n"
      ]
    },
    {
      "cell_type": "code",
      "metadata": {
        "id": "enLY_Qz4qGdJ",
        "colab": {
          "base_uri": "https://localhost:8080/"
        },
        "outputId": "730bb18f-3c02-4bc4-e790-d51fd815ec17"
      },
      "source": [
        "A=np.ones((4,4))\n",
        "def pad_with(vector, pad_width, iaxis, kwargs):\n",
        "    pad_value = kwargs.get('padder', 10)\n",
        "    vector[:pad_width[0]] = pad_value\n",
        "    vector[-pad_width[1]:] = pad_value\n",
        "print(np.pad(A, 1, pad_with, padder=0))"
      ],
      "execution_count": 9,
      "outputs": [
        {
          "output_type": "stream",
          "name": "stdout",
          "text": [
            "[[0. 0. 0. 0. 0. 0.]\n",
            " [0. 1. 1. 1. 1. 0.]\n",
            " [0. 1. 1. 1. 1. 0.]\n",
            " [0. 1. 1. 1. 1. 0.]\n",
            " [0. 1. 1. 1. 1. 0.]\n",
            " [0. 0. 0. 0. 0. 0.]]\n"
          ]
        }
      ]
    },
    {
      "cell_type": "code",
      "source": [
        "A=np.ones((4,4))\n",
        "np.pad(A, pad_width=1, constant_values=0)"
      ],
      "metadata": {
        "colab": {
          "base_uri": "https://localhost:8080/"
        },
        "id": "mVRRGKyZrOr8",
        "outputId": "70aff877-018c-4376-bfc7-7f661c8f8494"
      },
      "execution_count": 20,
      "outputs": [
        {
          "output_type": "execute_result",
          "data": {
            "text/plain": [
              "array([[0., 0., 0., 0., 0., 0.],\n",
              "       [0., 1., 1., 1., 1., 0.],\n",
              "       [0., 1., 1., 1., 1., 0.],\n",
              "       [0., 1., 1., 1., 1., 0.],\n",
              "       [0., 1., 1., 1., 1., 0.],\n",
              "       [0., 0., 0., 0., 0., 0.]])"
            ]
          },
          "metadata": {},
          "execution_count": 20
        }
      ]
    },
    {
      "cell_type": "code",
      "source": [
        ""
      ],
      "metadata": {
        "id": "5LiI9qkYN384"
      },
      "execution_count": 9,
      "outputs": []
    },
    {
      "cell_type": "markdown",
      "metadata": {
        "id": "PunXd_Ey16so"
      },
      "source": [
        "### <a name='6'></a> Ćwiczenie 26\n",
        "Podaną poniżej tablicę numpy:\n",
        "\n",
        "```\n",
        "array([[0, 0, 0, 0, 0, 0],\n",
        "       [0, 0, 0, 0, 0, 0],\n",
        "       [0, 0, 0, 0, 0, 0],\n",
        "       [0, 0, 0, 0, 0, 0],\n",
        "       [0, 0, 0, 0, 0, 0],\n",
        "       [0, 0, 0, 0, 0, 0]])\n",
        "```\n",
        "Przekształć na tablicę:\n",
        "\n",
        "\n",
        "```\n",
        "array([[10,  0, 10,  0, 10,  0],\n",
        "       [ 5,  0,  5,  0,  5,  0],\n",
        "       [10,  0, 10,  0, 10,  0],\n",
        "       [ 5,  0,  5,  0,  5,  0],\n",
        "       [10,  0, 10,  0, 10,  0],\n",
        "       [ 5,  0,  5,  0,  5,  0]])\n",
        "```\n",
        "__Wskazówka:__ Użyj operatora wycinania oraz przypisz odpowiednie wartości.\n",
        "\n",
        "\n",
        "\n"
      ]
    },
    {
      "cell_type": "code",
      "metadata": {
        "id": "xOVKpjvMr7bX",
        "colab": {
          "base_uri": "https://localhost:8080/"
        },
        "outputId": "242e6a4b-9461-4e1b-8486-ee3f372a8977"
      },
      "source": [
        "A=np.zeros((6,6))\n",
        "A[0]=[10,0,10,0,10,0]\n",
        "A[1]=[5,0,5,0,5,0]\n",
        "for i in range(len(A)):\n",
        "  if i%2==0:\n",
        "    A[i]=A[0]\n",
        "  else:\n",
        "    A[i]=A[1]\n",
        "print(A)\n"
      ],
      "execution_count": 10,
      "outputs": [
        {
          "output_type": "stream",
          "name": "stdout",
          "text": [
            "[[10.  0. 10.  0. 10.  0.]\n",
            " [ 5.  0.  5.  0.  5.  0.]\n",
            " [10.  0. 10.  0. 10.  0.]\n",
            " [ 5.  0.  5.  0.  5.  0.]\n",
            " [10.  0. 10.  0. 10.  0.]\n",
            " [ 5.  0.  5.  0.  5.  0.]]\n"
          ]
        }
      ]
    },
    {
      "cell_type": "code",
      "source": [
        ""
      ],
      "metadata": {
        "id": "h9-w1jv6sI71"
      },
      "execution_count": null,
      "outputs": []
    },
    {
      "cell_type": "code",
      "source": [
        "A=np.zeros((6,6))\n",
        "A[::2,::2]=10\n",
        "A[1::2,::2]=5\n",
        "A"
      ],
      "metadata": {
        "colab": {
          "base_uri": "https://localhost:8080/"
        },
        "id": "1h7Zt7lzrqyc",
        "outputId": "9d039d0c-9ccc-4507-c721-0c0b403460c1"
      },
      "execution_count": 21,
      "outputs": [
        {
          "output_type": "execute_result",
          "data": {
            "text/plain": [
              "array([[10.,  0., 10.,  0., 10.,  0.],\n",
              "       [ 5.,  0.,  5.,  0.,  5.,  0.],\n",
              "       [10.,  0., 10.,  0., 10.,  0.],\n",
              "       [ 5.,  0.,  5.,  0.,  5.,  0.],\n",
              "       [10.,  0., 10.,  0., 10.,  0.],\n",
              "       [ 5.,  0.,  5.,  0.,  5.,  0.]])"
            ]
          },
          "metadata": {},
          "execution_count": 21
        }
      ]
    },
    {
      "cell_type": "markdown",
      "metadata": {
        "id": "hOhqDRz618Tx"
      },
      "source": [
        "### <a name='7'></a> Ćwiczenie 27\n",
        "Połącz podane poniżej tablice $A$ oraz $B$ w jedną.\n",
        "\n",
        "\n",
        "```\n",
        "A = np.arange(12).reshape(-1, 4)\n",
        "B = np.array([[4, 3, 7, 2],\n",
        "              [0, 5, 2, 6]])\n",
        "```\n",
        "\n",
        "\n",
        "\n",
        "\n",
        "__Oczekiwany rezultat:__\n",
        "\n",
        "\n",
        "```\n",
        "array([[ 0,  1,  2,  3],\n",
        "       [ 4,  5,  6,  7],\n",
        "       [ 8,  9, 10, 11],\n",
        "       [ 4,  3,  7,  2],\n",
        "       [ 0,  5,  2,  6]])\n",
        "```\n",
        "__Wskazówka:__ Użyj funkcji _np.append()_.\n"
      ]
    },
    {
      "cell_type": "code",
      "metadata": {
        "id": "CCHfKU4Y3Z-X",
        "colab": {
          "base_uri": "https://localhost:8080/"
        },
        "outputId": "b99d7326-a736-4334-8455-81c4d6b70152"
      },
      "source": [
        "A = np.arange(12).reshape(-1, 4)\n",
        "B = np.array([[4, 3, 7, 2],\n",
        "              [0, 5, 2, 6]])\n",
        "#print(A)\n",
        "#print(B)\n",
        "np.append(A,B,axis=0)"
      ],
      "execution_count": 11,
      "outputs": [
        {
          "output_type": "execute_result",
          "data": {
            "text/plain": [
              "array([[ 0,  1,  2,  3],\n",
              "       [ 4,  5,  6,  7],\n",
              "       [ 8,  9, 10, 11],\n",
              "       [ 4,  3,  7,  2],\n",
              "       [ 0,  5,  2,  6]])"
            ]
          },
          "metadata": {},
          "execution_count": 11
        }
      ]
    },
    {
      "cell_type": "code",
      "source": [
        ""
      ],
      "metadata": {
        "id": "9M8LAe0LRbXZ"
      },
      "execution_count": 11,
      "outputs": []
    },
    {
      "cell_type": "markdown",
      "metadata": {
        "id": "TXUd_4631-gw"
      },
      "source": [
        "### <a name='8'></a> Ćwiczenie 28\n",
        "Z podanych poniżej tablic $A$ i $B$ wydobądź elementy wspólne (przecięcie) tablic.\n",
        "\n",
        "```\n",
        "A = np.arange(8).reshape(-1, 4)\n",
        "B = np.array([[9, 10, 11, 3],\n",
        "              [2, 8, 0, 9]])      \n",
        "```\n",
        "\n",
        "\n",
        "\n",
        "__Wskazówka:__ Użyj funkcji _np.intersect1d()_."
      ]
    },
    {
      "cell_type": "code",
      "metadata": {
        "id": "pgvyad4UCI6Q",
        "colab": {
          "base_uri": "https://localhost:8080/"
        },
        "outputId": "4e2c3a62-6b4e-4399-db1f-a7f97a375ca8"
      },
      "source": [
        "A = np.arange(8).reshape(-1, 4)\n",
        "B = np.array([[9, 10, 11, 3],\n",
        "              [2, 8, 0, 9]])   \n",
        "np.intersect1d(A,B)"
      ],
      "execution_count": 12,
      "outputs": [
        {
          "output_type": "execute_result",
          "data": {
            "text/plain": [
              "array([0, 2, 3])"
            ]
          },
          "metadata": {},
          "execution_count": 12
        }
      ]
    },
    {
      "cell_type": "markdown",
      "metadata": {
        "id": "tgI6xEn-2AQo"
      },
      "source": [
        "### <a name='9'></a> Ćwiczenie 29\n",
        "Podana jest poniższa tablica numpy $A$.\n",
        "Znajdź unikalne wartości tej tablicy.\n",
        "\n",
        "\n",
        "```\n",
        "A = np.array([[5, 1, 2, 1, 2],\n",
        "              [9, 1, 9, 7, 5],\n",
        "              [4, 1, 5, 7, 9]])\n",
        "```\n",
        "\n",
        "\n",
        "__Wskazówka:__ Użyj funkcji _np.unique()_."
      ]
    },
    {
      "cell_type": "code",
      "metadata": {
        "id": "h3Q6RADIELkH",
        "colab": {
          "base_uri": "https://localhost:8080/"
        },
        "outputId": "9c0b843d-7f60-45ae-849b-c3984cd3f387"
      },
      "source": [
        "A = np.array([[5, 1, 2, 1, 2],\n",
        "              [9, 1, 9, 7, 5],\n",
        "              [4, 1, 5, 7, 9]])\n",
        "np.unique(A)"
      ],
      "execution_count": 13,
      "outputs": [
        {
          "output_type": "execute_result",
          "data": {
            "text/plain": [
              "array([1, 2, 4, 5, 7, 9])"
            ]
          },
          "metadata": {},
          "execution_count": 13
        }
      ]
    },
    {
      "cell_type": "markdown",
      "metadata": {
        "id": "wxhpf-uq2B1I"
      },
      "source": [
        "### <a name='10'></a> Ćwiczenie 30\n",
        "Podana jest poniższa tablica:\n",
        "\n",
        "\n",
        "```\n",
        "A = np.array([[0.4, 0.3, 0.3],\n",
        "              [0.1, 0.1, 0.8],\n",
        "              [0.2, 0.5, 0.3]])\n",
        "```\n",
        "\n",
        "\n",
        "\n",
        "Zwróć indeksy na których stoją maksymalne wartości dla danego wiersza.\n",
        "\n",
        "__Wskazówka:__ Użyj funkcji _np.argmax()_."
      ]
    },
    {
      "cell_type": "code",
      "metadata": {
        "id": "YcQFRYUyFWbY",
        "colab": {
          "base_uri": "https://localhost:8080/"
        },
        "outputId": "3c23f941-d16b-456e-dbc7-a35a145238bd"
      },
      "source": [
        "A = np.array([[0.4, 0.3, 0.3],\n",
        "              [0.1, 0.1, 0.8],\n",
        "              [0.2, 0.5, 0.3]])\n",
        "np.argmax(A,axis=1)"
      ],
      "execution_count": 22,
      "outputs": [
        {
          "output_type": "execute_result",
          "data": {
            "text/plain": [
              "array([0, 2, 1])"
            ]
          },
          "metadata": {},
          "execution_count": 22
        }
      ]
    }
  ]
}