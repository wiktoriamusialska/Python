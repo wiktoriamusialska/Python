{
  "nbformat": 4,
  "nbformat_minor": 0,
  "metadata": {
    "colab": {
      "name": "Kopia notatnika 011-020_exercises.ipynb",
      "provenance": [],
      "collapsed_sections": []
    },
    "kernelspec": {
      "name": "python3",
      "display_name": "Python 3"
    }
  },
  "cells": [
    {
      "cell_type": "markdown",
      "metadata": {
        "id": "WLEgCW5F1hho"
      },
      "source": [
        "## Numpy\n",
        "\n",
        "### Spis treści:\n",
        "* [Import biblioteki](#0)\n",
        "* [Ćwiczenie 11](#1)\n",
        "* [Ćwiczenie 12](#2)\n",
        "* [Ćwiczenie 13](#3)\n",
        "* [Ćwiczenie 14](#4)\n",
        "* [Ćwiczenie 15](#5)\n",
        "* [Ćwiczenie 16](#6)\n",
        "* [Ćwiczenie 17](#7)\n",
        "* [Ćwiczenie 18](#8)\n",
        "* [Ćwiczenie 19](#9)\n",
        "* [Ćwiczenie 20](#10)"
      ]
    },
    {
      "cell_type": "markdown",
      "metadata": {
        "id": "zeLOLmTj1kBM"
      },
      "source": [
        "### <a name='0'></a>Import biblioteki"
      ]
    },
    {
      "cell_type": "code",
      "metadata": {
        "id": "HXMB7SMe1Wnz",
        "colab": {
          "base_uri": "https://localhost:8080/",
          "height": 35
        },
        "outputId": "802b4003-d102-429f-97c4-e51222659b19"
      },
      "source": [
        "import numpy as np\n",
        "\n",
        "np.__version__"
      ],
      "execution_count": 1,
      "outputs": [
        {
          "output_type": "execute_result",
          "data": {
            "text/plain": [
              "'1.21.6'"
            ],
            "application/vnd.google.colaboratory.intrinsic+json": {
              "type": "string"
            }
          },
          "metadata": {},
          "execution_count": 1
        }
      ]
    },
    {
      "cell_type": "markdown",
      "metadata": {
        "id": "cyc70pMe1oCg"
      },
      "source": [
        "### <a name='1'></a> Ćwiczenie 11\n",
        "Zbuduj jednowymiarową tablicę numpy liczb dwucyfrowych.\n",
        "\n",
        "__Oczekiwany wynik:__\n",
        "\n",
        "\n",
        "```\n",
        "array([10, 11, 12, 13, 14, 15, 16, 17, 18, 19, 20, 21, 22, 23, 24, 25, 26,\n",
        "       27, 28, 29, 30, 31, 32, 33, 34, 35, 36, 37, 38, 39, 40, 41, 42, 43,\n",
        "       44, 45, 46, 47, 48, 49, 50, 51, 52, 53, 54, 55, 56, 57, 58, 59, 60,\n",
        "       61, 62, 63, 64, 65, 66, 67, 68, 69, 70, 71, 72, 73, 74, 75, 76, 77,\n",
        "       78, 79, 80, 81, 82, 83, 84, 85, 86, 87, 88, 89, 90, 91, 92, 93, 94,\n",
        "       95, 96, 97, 98, 99])\n",
        "```\n",
        "\n",
        "\n",
        "\n",
        "__Wskazówka:__ Użyj funkcji _np.arange()_.\n"
      ]
    },
    {
      "cell_type": "code",
      "metadata": {
        "id": "GlQI9dUUVY5D",
        "colab": {
          "base_uri": "https://localhost:8080/"
        },
        "outputId": "44af2d47-bde5-4654-85ba-5f9eeb46e261"
      },
      "source": [
        "np.arange(10,100)"
      ],
      "execution_count": 2,
      "outputs": [
        {
          "output_type": "execute_result",
          "data": {
            "text/plain": [
              "array([10, 11, 12, 13, 14, 15, 16, 17, 18, 19, 20, 21, 22, 23, 24, 25, 26,\n",
              "       27, 28, 29, 30, 31, 32, 33, 34, 35, 36, 37, 38, 39, 40, 41, 42, 43,\n",
              "       44, 45, 46, 47, 48, 49, 50, 51, 52, 53, 54, 55, 56, 57, 58, 59, 60,\n",
              "       61, 62, 63, 64, 65, 66, 67, 68, 69, 70, 71, 72, 73, 74, 75, 76, 77,\n",
              "       78, 79, 80, 81, 82, 83, 84, 85, 86, 87, 88, 89, 90, 91, 92, 93, 94,\n",
              "       95, 96, 97, 98, 99])"
            ]
          },
          "metadata": {},
          "execution_count": 2
        }
      ]
    },
    {
      "cell_type": "markdown",
      "metadata": {
        "id": "J9pY1rtr1sC0"
      },
      "source": [
        "### <a name='2'></a> Ćwiczenie 12\n",
        "Zbuduj tablicę numpy określoną poniżej:\n",
        "\n",
        "\n",
        "```\n",
        "array([[10, 11, 12, 13, 14, 15, 16, 17, 18, 19],\n",
        "       [20, 21, 22, 23, 24, 25, 26, 27, 28, 29],\n",
        "       [30, 31, 32, 33, 34, 35, 36, 37, 38, 39],\n",
        "       [40, 41, 42, 43, 44, 45, 46, 47, 48, 49],\n",
        "       [50, 51, 52, 53, 54, 55, 56, 57, 58, 59],\n",
        "       [60, 61, 62, 63, 64, 65, 66, 67, 68, 69],\n",
        "       [70, 71, 72, 73, 74, 75, 76, 77, 78, 79],\n",
        "       [80, 81, 82, 83, 84, 85, 86, 87, 88, 89],\n",
        "       [90, 91, 92, 93, 94, 95, 96, 97, 98, 99]])\n",
        "```\n",
        "\n",
        "Zwróć uwagę, że kształt tablicy to (9, 10).\n",
        "\n",
        "\n",
        "__Wskazówka:__ Użyj funkcji _np.arange()_ oraz metodę _np.ndarray.reshape()_."
      ]
    },
    {
      "cell_type": "code",
      "metadata": {
        "id": "Ehjc7nZpV_3a",
        "colab": {
          "base_uri": "https://localhost:8080/"
        },
        "outputId": "2340dd2d-eb97-428b-f453-4ea160573fe8"
      },
      "source": [
        "np.arange(10,100).reshape(9,10)"
      ],
      "execution_count": 6,
      "outputs": [
        {
          "output_type": "execute_result",
          "data": {
            "text/plain": [
              "array([[10, 11, 12, 13, 14, 15, 16, 17, 18, 19],\n",
              "       [20, 21, 22, 23, 24, 25, 26, 27, 28, 29],\n",
              "       [30, 31, 32, 33, 34, 35, 36, 37, 38, 39],\n",
              "       [40, 41, 42, 43, 44, 45, 46, 47, 48, 49],\n",
              "       [50, 51, 52, 53, 54, 55, 56, 57, 58, 59],\n",
              "       [60, 61, 62, 63, 64, 65, 66, 67, 68, 69],\n",
              "       [70, 71, 72, 73, 74, 75, 76, 77, 78, 79],\n",
              "       [80, 81, 82, 83, 84, 85, 86, 87, 88, 89],\n",
              "       [90, 91, 92, 93, 94, 95, 96, 97, 98, 99]])"
            ]
          },
          "metadata": {},
          "execution_count": 6
        }
      ]
    },
    {
      "cell_type": "code",
      "source": [
        "np.arange(10,100).reshape(-1,10)"
      ],
      "metadata": {
        "colab": {
          "base_uri": "https://localhost:8080/"
        },
        "id": "faGES-0LSCbh",
        "outputId": "d1b7bfdd-f83b-416e-be57-1825c91d9de0"
      },
      "execution_count": 24,
      "outputs": [
        {
          "output_type": "execute_result",
          "data": {
            "text/plain": [
              "array([[10, 11, 12, 13, 14, 15, 16, 17, 18, 19],\n",
              "       [20, 21, 22, 23, 24, 25, 26, 27, 28, 29],\n",
              "       [30, 31, 32, 33, 34, 35, 36, 37, 38, 39],\n",
              "       [40, 41, 42, 43, 44, 45, 46, 47, 48, 49],\n",
              "       [50, 51, 52, 53, 54, 55, 56, 57, 58, 59],\n",
              "       [60, 61, 62, 63, 64, 65, 66, 67, 68, 69],\n",
              "       [70, 71, 72, 73, 74, 75, 76, 77, 78, 79],\n",
              "       [80, 81, 82, 83, 84, 85, 86, 87, 88, 89],\n",
              "       [90, 91, 92, 93, 94, 95, 96, 97, 98, 99]])"
            ]
          },
          "metadata": {},
          "execution_count": 24
        }
      ]
    },
    {
      "cell_type": "code",
      "source": [
        "np.arange(10,100).reshape(9,-1)"
      ],
      "metadata": {
        "colab": {
          "base_uri": "https://localhost:8080/"
        },
        "id": "bpi68gj3SIIM",
        "outputId": "f2543cb9-d431-421c-b9ea-5c77e9ccec9f"
      },
      "execution_count": 25,
      "outputs": [
        {
          "output_type": "execute_result",
          "data": {
            "text/plain": [
              "array([[10, 11, 12, 13, 14, 15, 16, 17, 18, 19],\n",
              "       [20, 21, 22, 23, 24, 25, 26, 27, 28, 29],\n",
              "       [30, 31, 32, 33, 34, 35, 36, 37, 38, 39],\n",
              "       [40, 41, 42, 43, 44, 45, 46, 47, 48, 49],\n",
              "       [50, 51, 52, 53, 54, 55, 56, 57, 58, 59],\n",
              "       [60, 61, 62, 63, 64, 65, 66, 67, 68, 69],\n",
              "       [70, 71, 72, 73, 74, 75, 76, 77, 78, 79],\n",
              "       [80, 81, 82, 83, 84, 85, 86, 87, 88, 89],\n",
              "       [90, 91, 92, 93, 94, 95, 96, 97, 98, 99]])"
            ]
          },
          "metadata": {},
          "execution_count": 25
        }
      ]
    },
    {
      "cell_type": "markdown",
      "metadata": {
        "id": "Von808MYssim"
      },
      "source": [
        "### Przypomnienie\n",
        "\n",
        "###  Macierz jednostkowa:\n",
        "\n",
        "Macierz jednostkowa - macierz kwadratowa, której współczynniki podane są wzorem:\n",
        "$${\\displaystyle a_{ij}={\\begin{cases}1\\quad {\\text{dla}}\\quad i=j\\\\[2pt]0\\quad {\\text{dla}}\\quad i\\neq j\\end{cases}}}$$\n",
        "\n",
        "#### Przykłady\n",
        "${\\displaystyle I_{1}={\\begin{bmatrix}1\\end{bmatrix}},\\;I_{2}={\\begin{bmatrix}1&0\\\\0&1\\end{bmatrix}},\\;I_{3}={\\begin{bmatrix}1&0&0\\\\0&1&0\\\\0&0&1\\end{bmatrix}}}$"
      ]
    },
    {
      "cell_type": "markdown",
      "metadata": {
        "id": "XQLYT2m11wVG"
      },
      "source": [
        "### <a name='3'></a> Ćwiczenie 13\n",
        "Zbuduj tablicę dwuwymiarową (macierz jednostkową) o kształcie _6x6_ mającą na przekątnej jedynki oraz poza same zera. Użyj typu danych _int_.\n",
        "__Oczekiwany wynik:__\n",
        "\n",
        "\n",
        "```\n",
        "array([[1, 0, 0, 0, 0, 0],\n",
        "       [0, 1, 0, 0, 0, 0],\n",
        "       [0, 0, 1, 0, 0, 0],\n",
        "       [0, 0, 0, 1, 0, 0],\n",
        "       [0, 0, 0, 0, 1, 0],\n",
        "       [0, 0, 0, 0, 0, 1]])\n",
        "```\n",
        "\n",
        "\n",
        "\n",
        "__Wskazówka:__ Użyj funkcji _np.eye()_."
      ]
    },
    {
      "cell_type": "code",
      "metadata": {
        "id": "jhXfKuTdXP2k",
        "colab": {
          "base_uri": "https://localhost:8080/"
        },
        "outputId": "7cbb1b03-9d49-491e-d953-05190c645c91"
      },
      "source": [
        "np.eye(6,dtype=\"int\")"
      ],
      "execution_count": 7,
      "outputs": [
        {
          "output_type": "execute_result",
          "data": {
            "text/plain": [
              "array([[1, 0, 0, 0, 0, 0],\n",
              "       [0, 1, 0, 0, 0, 0],\n",
              "       [0, 0, 1, 0, 0, 0],\n",
              "       [0, 0, 0, 1, 0, 0],\n",
              "       [0, 0, 0, 0, 1, 0],\n",
              "       [0, 0, 0, 0, 0, 1]])"
            ]
          },
          "metadata": {},
          "execution_count": 7
        }
      ]
    },
    {
      "cell_type": "markdown",
      "metadata": {
        "id": "4xTKSUzg10MK"
      },
      "source": [
        "### <a name='4'></a> Ćwiczenie 14\n",
        "Ustaw ziarno losowe na wartość 10. Następnie zbuduj jednowymiarową tablicę składającą się z 30 pseudolosowo wygenerowanych wartości z rozkładu jednostajnego nad przedziałem $[0, 1)$.\n",
        "\n",
        "__Oczekiwany wynik:__\n",
        "\n",
        "\n",
        "```\n",
        "array([0.77132064, 0.02075195, 0.63364823, 0.74880388, 0.49850701,\n",
        "       0.22479665, 0.19806286, 0.76053071, 0.16911084, 0.08833981,\n",
        "       0.68535982, 0.95339335, 0.00394827, 0.51219226, 0.81262096,\n",
        "       0.61252607, 0.72175532, 0.29187607, 0.91777412, 0.71457578,\n",
        "       0.54254437, 0.14217005, 0.37334076, 0.67413362, 0.44183317,\n",
        "       0.43401399, 0.61776698, 0.51313824, 0.65039718, 0.60103895])\n",
        "```\n",
        "\n",
        "\n",
        "\n",
        "__Wskazówka:__ Użyj funkcji _np.random.rand()_."
      ]
    },
    {
      "cell_type": "code",
      "metadata": {
        "id": "kssg7-vEYX6T",
        "colab": {
          "base_uri": "https://localhost:8080/"
        },
        "outputId": "515cdd72-ff1e-41c9-ceb1-e899f9efc35d"
      },
      "source": [
        "import random\n",
        "random.seed(10)\n",
        "np.random.rand(30)"
      ],
      "execution_count": 18,
      "outputs": [
        {
          "output_type": "execute_result",
          "data": {
            "text/plain": [
              "array([0.54788967, 0.04303229, 0.18811662, 0.77826869, 0.73386842,\n",
              "       0.42944769, 0.00991577, 0.00449739, 0.88057118, 0.42662748,\n",
              "       0.22529189, 0.14893544, 0.78577285, 0.47471669, 0.48511769,\n",
              "       0.37562992, 0.67113021, 0.30563667, 0.27423364, 0.50316238,\n",
              "       0.61586299, 0.26934698, 0.55335046, 0.69263063, 0.10374639,\n",
              "       0.02595272, 0.35769728, 0.21450677, 0.83692916, 0.41173627])"
            ]
          },
          "metadata": {},
          "execution_count": 18
        }
      ]
    },
    {
      "cell_type": "markdown",
      "metadata": {
        "id": "o3HKIKlP15Ro"
      },
      "source": [
        "### <a name='5'></a> Ćwiczenie 15\n",
        "Ustaw ziarno losowe na wartość 20. Następnie zbuduj dwuwymiarową tablicę o kształcie _(10, 4)_ wartości pseudolosowo wygenerowanych ze standardowego rozkładu normalego $N(0, 1)$.\n",
        "\n",
        "__Oczekiwany wynik:__\n",
        "\n",
        "\n",
        "```\n",
        "array([[ 0.88389311,  0.19586502,  0.35753652, -2.34326191],\n",
        "       [-1.08483259,  0.55969629,  0.93946935, -0.97848104],\n",
        "       [ 0.50309684,  0.40641447,  0.32346101, -0.49341088],\n",
        "       [-0.79201679, -0.84236793, -1.27950266,  0.24571517],\n",
        "       [-0.0441948 ,  1.56763255,  1.05110868,  0.40636843],\n",
        "       [-0.1686461 , -3.18970279,  1.12013226,  1.33277821],\n",
        "       [-0.24333877, -0.13003071, -0.10901737,  1.55618644],\n",
        "       [ 0.12877835, -2.06694872, -0.88549315, -1.10457948],\n",
        "       [ 0.93286635,  2.059838  , -0.93493796, -1.61299022],\n",
        "       [ 0.52706972, -1.55110074,  0.32961334, -1.13652654]])\n",
        "```\n",
        "\n",
        "\n",
        "\n",
        "__Wskazówka:__ Użyj funkcji _np.random.randn()_."
      ]
    },
    {
      "cell_type": "code",
      "metadata": {
        "id": "qrIqjdTgZoXJ",
        "colab": {
          "base_uri": "https://localhost:8080/"
        },
        "outputId": "093c52cd-7f63-4903-dfba-35e0f68a7a73"
      },
      "source": [
        "random.seed(20)\n",
        "np.random.randn(40).reshape(10,4)"
      ],
      "execution_count": 19,
      "outputs": [
        {
          "output_type": "execute_result",
          "data": {
            "text/plain": [
              "array([[-0.13559906,  0.43496512,  0.32778191, -0.2061512 ],\n",
              "       [-0.59778737, -0.10939945,  0.04989919, -0.32989122],\n",
              "       [ 1.08020683, -0.46226085,  0.32624696, -0.372491  ],\n",
              "       [ 1.13998831,  1.35424613, -0.00359452,  0.16938753],\n",
              "       [-1.26084706, -0.08530842,  0.12075442,  1.48573152],\n",
              "       [-1.10670243,  0.92300854,  0.75492295, -1.54419004],\n",
              "       [ 0.62708037, -0.14844505, -0.86324861, -0.31427678],\n",
              "       [ 0.85271438, -0.31353958,  0.15562737,  1.0804016 ],\n",
              "       [-1.25189786,  0.10074649, -0.11093072, -0.96714739],\n",
              "       [-0.01600236, -0.97886521, -0.05014656,  0.51592927]])"
            ]
          },
          "metadata": {},
          "execution_count": 19
        }
      ]
    },
    {
      "cell_type": "code",
      "source": [
        "random.seed(20)\n",
        "np.random.randn(10,4)"
      ],
      "metadata": {
        "colab": {
          "base_uri": "https://localhost:8080/"
        },
        "id": "WrXde5S-Sv-K",
        "outputId": "13338296-d31f-4986-a724-ba50b9a538da"
      },
      "execution_count": 26,
      "outputs": [
        {
          "output_type": "execute_result",
          "data": {
            "text/plain": [
              "array([[-1.11321176,  0.6255434 , -1.53775731,  1.08774467],\n",
              "       [-0.51058082, -1.30164248,  0.25732395, -0.76088582],\n",
              "       [-1.05976637, -0.4198657 ,  1.55920986,  0.50243294],\n",
              "       [-0.99030778,  0.75732308, -0.68572715, -0.75285069],\n",
              "       [-0.63729821, -1.3539958 ,  0.80133123,  1.8623647 ],\n",
              "       [-0.20480071,  1.18573738, -0.21016007, -0.63225761],\n",
              "       [ 0.57026056, -0.44853186, -1.28373169, -0.20715631],\n",
              "       [ 1.65931679, -0.60402988,  0.73277663,  0.43244476],\n",
              "       [ 2.30573541,  0.19578213,  0.68836106,  1.52094069],\n",
              "       [ 0.05670999, -0.16015355,  1.0493519 ,  0.00825901]])"
            ]
          },
          "metadata": {},
          "execution_count": 26
        }
      ]
    },
    {
      "cell_type": "markdown",
      "metadata": {
        "id": "PunXd_Ey16so"
      },
      "source": [
        "### <a name='6'></a> Ćwiczenie 16\n",
        "Ustaw ziarno losowe na wartość 30. Następnie zbuduj dwuwymiarową tablicę o kształcie _(10, 4)_ wartości pseudolosowo wygenerowanych z rozkładu normalego $N(100, 5)$.  \n",
        "$\\mu=100$   \n",
        "$\\sigma^{2}=5$\n",
        "\n",
        "__Oczekiwany wynik:__\n",
        "\n",
        "\n",
        "```\n",
        "array([[ 97.17349231, 103.41650023,  97.82942436, 101.05220329],\n",
        "       [ 99.7748353 , 100.67930221,  96.14063068, 103.544381  ],\n",
        "       [100.30029631,  97.52499594, 103.52901961, 100.24037271],\n",
        "       [ 98.29153712,  98.2666258 , 103.09437633, 101.70027274],\n",
        "       [ 99.36127721, 101.20382627,  95.34026547, 102.09694365],\n",
        "       [ 99.98708001,  98.95468525,  99.05410904, 102.38025432],\n",
        "       [ 93.50787269, 103.61547679, 103.18753701,  98.51356237],\n",
        "       [102.20256689,  96.19764407,  97.54000366,  97.05813038],\n",
        "       [101.81233513,  97.66380453,  98.45883627,  98.09317768],\n",
        "       [102.48979932,  95.70413391,  98.43161651, 101.89861815]])\n",
        "```\n",
        "\n",
        "\n",
        "\n",
        "__Wskazówka:__ Użyj funkcji _np.random.randn()_."
      ]
    },
    {
      "cell_type": "code",
      "metadata": {
        "id": "Z53wec08avi9",
        "colab": {
          "base_uri": "https://localhost:8080/"
        },
        "outputId": "e935febf-4ce1-4a3e-95d3-e49fffe3540a"
      },
      "source": [
        "random.seed(30)\n",
        "100 + np.sqrt(5) * np.random.randn(10, 4)"
      ],
      "execution_count": 27,
      "outputs": [
        {
          "output_type": "execute_result",
          "data": {
            "text/plain": [
              "array([[100.50121241, 103.90251383,  99.06168655, 100.77309916],\n",
              "       [100.11155006, 101.43282885, 100.13298628,  97.39392462],\n",
              "       [ 97.19225765,  97.73235362, 100.92987501,  97.07182211],\n",
              "       [101.13186722,  99.73092904, 100.18703495, 101.86433734],\n",
              "       [ 99.05035533,  98.93872075,  96.23414935, 100.25891144],\n",
              "       [ 98.34601275, 100.24378964,  99.66716643,  95.47340865],\n",
              "       [102.1502459 ,  98.49164511,  99.73920752, 100.11259959],\n",
              "       [ 99.51343278,  97.63207986, 100.11703062,  99.6548048 ],\n",
              "       [ 99.75586496, 104.6135344 ,  96.38719058,  97.57182214],\n",
              "       [102.60615942, 100.55260383, 100.06912128, 102.11175359]])"
            ]
          },
          "metadata": {},
          "execution_count": 27
        }
      ]
    },
    {
      "cell_type": "markdown",
      "metadata": {
        "id": "hOhqDRz618Tx"
      },
      "source": [
        "### <a name='7'></a> Ćwiczenie 17\n",
        "Iterując po tablicy numpy $A$ element po elemencie (element-wise) wydrukuj każdy element tablicy do konsoli.\n",
        "\n",
        "\n",
        "```\n",
        "A = np.array([[1, 4, 3],\n",
        "              [5, 2, 6]])\n",
        "```\n",
        "\n",
        "\n",
        "\n",
        "__Wskazówka:__ Użyj funkcji _np.nditer()_."
      ]
    },
    {
      "cell_type": "code",
      "metadata": {
        "id": "1GbS3dat1gIl",
        "colab": {
          "base_uri": "https://localhost:8080/"
        },
        "outputId": "beb21f70-1467-4c4d-8846-522231888506"
      },
      "source": [
        "A = np.array([[1, 4, 3],\n",
        "              [5, 2, 6]])\n",
        "for cell in np.nditer(A):\n",
        "    print(cell, end=' ')"
      ],
      "execution_count": 15,
      "outputs": [
        {
          "output_type": "stream",
          "name": "stdout",
          "text": [
            "1 4 3 5 2 6 "
          ]
        }
      ]
    },
    {
      "cell_type": "markdown",
      "metadata": {
        "id": "TXUd_4631-gw"
      },
      "source": [
        "### <a name='8'></a> Ćwiczenie 18\n",
        "Utwórz jednowymiarową tablicę numpy (wektor) składający się z 11 równo rozmieszczonych punktów z przedziału $[0, 1].$\n",
        "\n",
        "__Oczekiwany wynik:__\n",
        "\n",
        "\n",
        "```\n",
        "array([0. , 0.1, 0.2, 0.3, 0.4, 0.5, 0.6, 0.7, 0.8, 0.9, 1. ])\n",
        "```\n",
        "__Wskazówka:__ Użyj funkcji _np.linspace()_.\n"
      ]
    },
    {
      "cell_type": "code",
      "metadata": {
        "id": "ZuaUXkg73Amn",
        "colab": {
          "base_uri": "https://localhost:8080/"
        },
        "outputId": "cb279272-1b41-4bd7-d3a2-4c9697cb643d"
      },
      "source": [
        "np.linspace(0,1,11)"
      ],
      "execution_count": 16,
      "outputs": [
        {
          "output_type": "execute_result",
          "data": {
            "text/plain": [
              "array([0. , 0.1, 0.2, 0.3, 0.4, 0.5, 0.6, 0.7, 0.8, 0.9, 1. ])"
            ]
          },
          "metadata": {},
          "execution_count": 16
        }
      ]
    },
    {
      "cell_type": "markdown",
      "metadata": {
        "id": "tgI6xEn-2AQo"
      },
      "source": [
        "### <a name='9'></a> Ćwiczenie 19\n",
        "Ustaw ziarno losowe na wartość 42. Wygeneruj tablicę jednowymiarową (wektor) zawierający możliwy wynik losowania w grę Duży Lotek. \n",
        "\n",
        "__Oczekiwany wynik:__\n",
        "\n",
        "\n",
        "```\n",
        "array([39, 29, 15, 43,  8, 21])\n",
        "```\n",
        "\n",
        "\n",
        "\n",
        "__Wskazówka:__ Wynikiem losowania jest 6-elementowy wektor wartości od 1 do 49 włącznie."
      ]
    },
    {
      "cell_type": "code",
      "metadata": {
        "id": "BAnycpr13-Nz",
        "colab": {
          "base_uri": "https://localhost:8080/"
        },
        "outputId": "7ffa8a92-3a14-44d8-b934-2e4948597ad2"
      },
      "source": [
        "random.seed(42)\n",
        "np.linspace(1,49,6, dtype='int')"
      ],
      "execution_count": 22,
      "outputs": [
        {
          "output_type": "execute_result",
          "data": {
            "text/plain": [
              "array([ 1, 10, 20, 29, 39, 49])"
            ]
          },
          "metadata": {},
          "execution_count": 22
        }
      ]
    },
    {
      "cell_type": "markdown",
      "metadata": {
        "id": "wxhpf-uq2B1I"
      },
      "source": [
        "### <a name='10'></a> Ćwiczenie 20\n",
        "Zbuduj dwuwymiarową tablicę numpy rozmiaru _6x6_ podaną poniżej:\n",
        "\n",
        "\n",
        "```\n",
        "array([[0, 0, 0, 0, 0, 0],\n",
        "       [0, 1, 0, 0, 0, 0],\n",
        "       [0, 0, 2, 0, 0, 0],\n",
        "       [0, 0, 0, 3, 0, 0],\n",
        "       [0, 0, 0, 0, 4, 0],\n",
        "       [0, 0, 0, 0, 0, 5]])\n",
        "```\n",
        "__Wskazówka:__ Użyj funkcji _np.diag()_.\n"
      ]
    },
    {
      "cell_type": "code",
      "metadata": {
        "id": "UrVAQwBJ6HpX",
        "colab": {
          "base_uri": "https://localhost:8080/"
        },
        "outputId": "aac3a57c-5f57-4701-ce9a-b0b18a25f6a2"
      },
      "source": [
        "np.diag([0,1,2,3,4,5])"
      ],
      "execution_count": 23,
      "outputs": [
        {
          "output_type": "execute_result",
          "data": {
            "text/plain": [
              "array([[0, 0, 0, 0, 0, 0],\n",
              "       [0, 1, 0, 0, 0, 0],\n",
              "       [0, 0, 2, 0, 0, 0],\n",
              "       [0, 0, 0, 3, 0, 0],\n",
              "       [0, 0, 0, 0, 4, 0],\n",
              "       [0, 0, 0, 0, 0, 5]])"
            ]
          },
          "metadata": {},
          "execution_count": 23
        }
      ]
    },
    {
      "cell_type": "code",
      "source": [
        "np.diag(np.arange(6))"
      ],
      "metadata": {
        "colab": {
          "base_uri": "https://localhost:8080/"
        },
        "id": "hXK7mucZT3Jw",
        "outputId": "53a0f9e7-2397-4f60-f35b-aab1a0f976f5"
      },
      "execution_count": 28,
      "outputs": [
        {
          "output_type": "execute_result",
          "data": {
            "text/plain": [
              "array([[0, 0, 0, 0, 0, 0],\n",
              "       [0, 1, 0, 0, 0, 0],\n",
              "       [0, 0, 2, 0, 0, 0],\n",
              "       [0, 0, 0, 3, 0, 0],\n",
              "       [0, 0, 0, 0, 4, 0],\n",
              "       [0, 0, 0, 0, 0, 5]])"
            ]
          },
          "metadata": {},
          "execution_count": 28
        }
      ]
    }
  ]
}