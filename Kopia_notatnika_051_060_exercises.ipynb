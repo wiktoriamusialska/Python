{
  "nbformat": 4,
  "nbformat_minor": 0,
  "metadata": {
    "colab": {
      "name": "Kopia notatnika 051-060_exercises.ipynb",
      "provenance": [],
      "collapsed_sections": []
    },
    "kernelspec": {
      "name": "python3",
      "display_name": "Python 3"
    }
  },
  "cells": [
    {
      "cell_type": "markdown",
      "metadata": {
        "id": "WLEgCW5F1hho"
      },
      "source": [
        "## Numpy\n",
        "\n",
        "### Spis treści:\n",
        "* [Import biblioteki](#0)\n",
        "* [Ćwiczenie 51](#1)\n",
        "* [Ćwiczenie 52](#2)\n",
        "* [Ćwiczenie 53](#3)\n",
        "* [Ćwiczenie 54](#4)\n",
        "* [Ćwiczenie 55](#5)\n",
        "* [Ćwiczenie 56](#6)\n",
        "* [Ćwiczenie 57](#7)\n",
        "* [Ćwiczenie 58](#8)\n",
        "* [Ćwiczenie 59](#9)\n",
        "* [Ćwiczenie 60](#10)"
      ]
    },
    {
      "cell_type": "markdown",
      "metadata": {
        "id": "zeLOLmTj1kBM"
      },
      "source": [
        "### <a name='0'></a>Import biblioteki"
      ]
    },
    {
      "cell_type": "code",
      "metadata": {
        "id": "HXMB7SMe1Wnz",
        "colab": {
          "base_uri": "https://localhost:8080/",
          "height": 35
        },
        "outputId": "e5a5c02c-fb9f-4d0c-a745-00d54ca0cc79"
      },
      "source": [
        "import numpy as np\n",
        "\n",
        "np.random.seed(42)\n",
        "np.__version__"
      ],
      "execution_count": 1,
      "outputs": [
        {
          "output_type": "execute_result",
          "data": {
            "text/plain": [
              "'1.21.6'"
            ],
            "application/vnd.google.colaboratory.intrinsic+json": {
              "type": "string"
            }
          },
          "metadata": {},
          "execution_count": 1
        }
      ]
    },
    {
      "cell_type": "markdown",
      "metadata": {
        "id": "cyc70pMe1oCg"
      },
      "source": [
        "### <a name='1'></a> Ćwiczenie 51\n",
        "Podane są poniżej dwie tablice $A$ i $B$:\n",
        "\n",
        "\n",
        "```\n",
        "A = np.array([[3, 4, 5],\n",
        "              [8, 3, 1]])\n",
        "B = np.array([[0, 5, 2],\n",
        "              [4, 2, 1]])\n",
        "```\n",
        "* Połącz te tablice w następujący sposób:\n",
        "\n",
        "\n",
        "```\n",
        "array([[3, 4, 5],\n",
        "       [8, 3, 1],\n",
        "       [0, 5, 2],\n",
        "       [4, 2, 1]])\n",
        "```\n",
        "__Wskazówka:__ Wykorzystaj funkcję _np.concatenate()_.\n",
        "\n",
        "\n",
        "\n"
      ]
    },
    {
      "cell_type": "code",
      "metadata": {
        "id": "G06kZluT8eIh",
        "colab": {
          "base_uri": "https://localhost:8080/"
        },
        "outputId": "acad6a2e-f9e1-47b5-8694-390f8fc87646"
      },
      "source": [
        "A = np.array([[3, 4, 5],\n",
        "              [8, 3, 1]])\n",
        "B = np.array([[0, 5, 2],\n",
        "              [4, 2, 1]])\n",
        "np.concatenate((A,B),axis=0)"
      ],
      "execution_count": 17,
      "outputs": [
        {
          "output_type": "execute_result",
          "data": {
            "text/plain": [
              "array([[3, 4, 5],\n",
              "       [8, 3, 1],\n",
              "       [0, 5, 2],\n",
              "       [4, 2, 1]])"
            ]
          },
          "metadata": {},
          "execution_count": 17
        }
      ]
    },
    {
      "cell_type": "markdown",
      "metadata": {
        "id": "ODw_gitA98Ul"
      },
      "source": [
        "* Połącz te tablice w następujący sposób:\n",
        "\n",
        "\n",
        "```\n",
        "array([[3, 4, 5, 0, 5, 2],\n",
        "       [8, 3, 1, 4, 2, 1]])\n",
        "```\n",
        "__Wskazówka:__ Wykorzystaj funkcję _np.concatenate()_."
      ]
    },
    {
      "cell_type": "code",
      "metadata": {
        "id": "1pmGjLj88tcf",
        "colab": {
          "base_uri": "https://localhost:8080/"
        },
        "outputId": "d51cd9f6-2bf3-4c7d-f86e-cbdec0a25e9f"
      },
      "source": [
        "A = np.array([[3, 4, 5],\n",
        "              [8, 3, 1]])\n",
        "B = np.array([[0, 5, 2],\n",
        "              [4, 2, 1]])\n",
        "np.concatenate((A, B), axis=1)"
      ],
      "execution_count": 34,
      "outputs": [
        {
          "output_type": "execute_result",
          "data": {
            "text/plain": [
              "array([[3, 4, 5, 0, 5, 2],\n",
              "       [8, 3, 1, 4, 2, 1]])"
            ]
          },
          "metadata": {},
          "execution_count": 34
        }
      ]
    },
    {
      "cell_type": "markdown",
      "metadata": {
        "id": "J9pY1rtr1sC0"
      },
      "source": [
        "### <a name='2'></a> Ćwiczenie 52\n",
        "Podana jest tablica zawierająca dane _data_ oraz tablica zawierająca docelową klasę dla danego wiersza _target_:\n",
        "\n",
        "```\n",
        "data = np.array([[4.3, 4.2],\n",
        "                 [3.1, 3.6]])\n",
        "target = np.array([[0],\n",
        "                   [1]])\n",
        "```\n",
        "\n"
      ]
    },
    {
      "cell_type": "markdown",
      "metadata": {
        "id": "8cAKF7ok-RjX"
      },
      "source": [
        "Połącz te tablice w jedną tak jak pokazano poniżej:\n",
        "\n",
        "\n",
        "```\n",
        "array([[4.3, 4.2, 0. ],\n",
        "       [3.1, 3.6, 1. ]])\n",
        "```\n",
        "\n"
      ]
    },
    {
      "cell_type": "code",
      "metadata": {
        "id": "4lc68Wfr8z3u",
        "colab": {
          "base_uri": "https://localhost:8080/"
        },
        "outputId": "b7d18e31-0e6b-48bb-e06d-a62d55f270eb"
      },
      "source": [
        "data = np.array([[4.3, 4.2],\n",
        "                 [3.1, 3.6]])\n",
        "target = np.array([[0],\n",
        "                   [1]])\n",
        "np.concatenate((data,target),axis=1)"
      ],
      "execution_count": 33,
      "outputs": [
        {
          "output_type": "execute_result",
          "data": {
            "text/plain": [
              "array([[4.3, 4.2, 0. ],\n",
              "       [3.1, 3.6, 1. ]])"
            ]
          },
          "metadata": {},
          "execution_count": 33
        }
      ]
    },
    {
      "cell_type": "markdown",
      "metadata": {
        "id": "XQLYT2m11wVG"
      },
      "source": [
        "### <a name='3'></a> Ćwiczenie 53\n",
        "Podane są trzy poniższe jednowymiarowe tablice:  \n",
        "\n",
        "\n",
        "```\n",
        "feature1 = np.array([1.6, 0.9, 2.2])\n",
        "feature2 = np.array([0.4, 1.3, 3.2])\n",
        "feature3 = np.array([1.4, 0.3, 1.2])\n",
        "```\n",
        "Przekształć każdą z tych tablic w kolumnę i sklej w jedną dużą tablicę.\n",
        "\n",
        "__Oczekiwany wynik:__\n",
        "\n",
        "\n",
        "```\n",
        "array([[1.6, 0.4, 1.4],\n",
        "       [0.9, 1.3, 0.3],\n",
        "       [2.2, 3.2, 1.2]])\n",
        "```\n",
        "\n",
        "__Wskazówka:__ Wykorzystaj funkcję _np.column_stack()_.\n",
        "\n"
      ]
    },
    {
      "cell_type": "code",
      "metadata": {
        "id": "xfPf_vq7-jBP",
        "colab": {
          "base_uri": "https://localhost:8080/"
        },
        "outputId": "734d8925-34bc-4679-f454-0f1908cd9bfe"
      },
      "source": [
        "feature1 = np.array([1.6, 0.9, 2.2])\n",
        "feature2 = np.array([0.4, 1.3, 3.2])\n",
        "feature3 = np.array([1.4, 0.3, 1.2])\n",
        "np.column_stack((feature1,feature2,feature3))"
      ],
      "execution_count": 35,
      "outputs": [
        {
          "output_type": "execute_result",
          "data": {
            "text/plain": [
              "array([[1.6, 0.4, 1.4],\n",
              "       [0.9, 1.3, 0.3],\n",
              "       [2.2, 3.2, 1.2]])"
            ]
          },
          "metadata": {},
          "execution_count": 35
        }
      ]
    },
    {
      "cell_type": "markdown",
      "metadata": {
        "id": "4xTKSUzg10MK"
      },
      "source": [
        "### <a name='4'></a> Ćwiczenie 54\n",
        "Podana jest poniższa dwuwymiarowa tablica:\n",
        "\n",
        "```\n",
        "A = np.random.randint(low=0, high=7, size=(5, 8))\n",
        "A[:, :2] = 0\n",
        "A[:, -2:] = 1\n",
        "A\n",
        "```\n",
        "```\n",
        "array([[0, 0, 4, 6, 2, 4, 1, 1],\n",
        "       [0, 0, 6, 2, 2, 4, 1, 1],\n",
        "       [0, 0, 1, 3, 5, 5, 1, 1],\n",
        "       [0, 0, 3, 1, 5, 4, 1, 1],\n",
        "       [0, 0, 2, 6, 1, 3, 1, 1]])\n",
        "```\n",
        "\n",
        "Podziel tablicę na 3 części tak aby pierwsze dwie kolumny stanowiły pierwszą tablicę $A1$, cztery kolejne drugą tablicę $A2$ oraz dwie ostatnie trzecią tablicę $A3$.\n",
        "\n",
        "__Wskazówka:__ Wykorzystaj funkcję _np.split()_."
      ]
    },
    {
      "cell_type": "code",
      "metadata": {
        "id": "U5MFrLUHBsEf",
        "colab": {
          "base_uri": "https://localhost:8080/"
        },
        "outputId": "8514dff5-c230-4f36-8328-3570e9034dd2"
      },
      "source": [
        "A = np.random.randint(low=0, high=7, size=(5, 8))\n",
        "A1, A2,A3= np.split(A,[2,6],axis=1)\n",
        "print(A1)\n",
        "print(A2)\n",
        "print(A3)"
      ],
      "execution_count": 61,
      "outputs": [
        {
          "output_type": "stream",
          "name": "stdout",
          "text": [
            "[[2 1]\n",
            " [4 2]\n",
            " [4 0]\n",
            " [5 1]\n",
            " [5 6]]\n",
            "[[3 3 0 0]\n",
            " [4 2 3 0]\n",
            " [3 5 4 5]\n",
            " [0 2 5 4]\n",
            " [6 3 0 4]]\n",
            "[[3 5]\n",
            " [5 0]\n",
            " [2 0]\n",
            " [2 1]\n",
            " [3 5]]\n"
          ]
        }
      ]
    },
    {
      "cell_type": "markdown",
      "metadata": {
        "id": "o3HKIKlP15Ro"
      },
      "source": [
        "### <a name='5'></a> Ćwiczenie 55\n",
        "Podana jest poniższa tablica $A$:\n",
        "\n",
        "```\n",
        "A = np.random.randint(low=0, high=2, size=(10, 6))\n",
        "```\n",
        "Wyznacz łączną liczbę elementów niezerowych dla tej tablicy.\n",
        "\n",
        "__Wskazówka:__ Wykorzystaj funkcję _np.count_nonzero()_.\n"
      ]
    },
    {
      "cell_type": "code",
      "metadata": {
        "id": "j5E2nOFyDy1b",
        "colab": {
          "base_uri": "https://localhost:8080/"
        },
        "outputId": "c2a11af2-a6f0-43d5-beb4-57d13bd0b7c8"
      },
      "source": [
        "A = np.random.randint(low=0, high=2, size=(10, 6))\n",
        "np.count_nonzero(A)"
      ],
      "execution_count": 45,
      "outputs": [
        {
          "output_type": "execute_result",
          "data": {
            "text/plain": [
              "29"
            ]
          },
          "metadata": {},
          "execution_count": 45
        }
      ]
    },
    {
      "cell_type": "markdown",
      "metadata": {
        "id": "wJde65uYhJ2f"
      },
      "source": [
        "Wyznacz łączną liczbę elementów niezerowych dla każdego wiersza tej tablicy.\n",
        "\n",
        "__Wskazówka:__ Wykorzystaj funkcję _np.count_nonzero()_."
      ]
    },
    {
      "cell_type": "code",
      "metadata": {
        "id": "BWG-icQuEEPS",
        "colab": {
          "base_uri": "https://localhost:8080/"
        },
        "outputId": "f7b5b43b-1d90-4015-f297-6d36bfdf0777"
      },
      "source": [
        "np.count_nonzero(A,axis=0)"
      ],
      "execution_count": 46,
      "outputs": [
        {
          "output_type": "execute_result",
          "data": {
            "text/plain": [
              "array([5, 7, 2, 6, 3, 6])"
            ]
          },
          "metadata": {},
          "execution_count": 46
        }
      ]
    },
    {
      "cell_type": "markdown",
      "metadata": {
        "id": "PunXd_Ey16so"
      },
      "source": [
        "### <a name='6'></a> Ćwiczenie 56\n",
        "Poniżej podana jest przykładowa tablica $A$:\n",
        "\n",
        "```\n",
        "A = np.random.randn(10, 4)\n",
        "```\n",
        "\n",
        "```\n",
        "array([[-0.53441645, -1.49505387, -0.78925833,  0.74371128],\n",
        "       [-0.21216142, -0.42686879,  0.50144833,  1.15818665],\n",
        "       [ 0.25711687,  0.3145129 ,  1.37186213,  0.17555329],\n",
        "       [-0.30928855,  0.6731255 , -0.25663018, -0.36782572],\n",
        "       [ 1.27373362, -0.29195267, -2.65517605,  0.34551794],\n",
        "       [-0.39551645, -0.28913686,  0.45293633, -0.16606091],\n",
        "       [ 0.21493883, -2.02231493, -0.94305681,  1.40395874],\n",
        "       [-0.0185508 , -1.67350462, -1.07253183, -0.99258618],\n",
        "       [ 0.10234768, -0.43260928, -0.6591823 ,  0.0039373 ],\n",
        "       [ 0.4777541 , -0.25902864, -0.57470921, -0.42149822]])\n",
        "```\n",
        "\n",
        "\n",
        "Ustaw odopowiednią opcję biblioteki numpy pozwalającą drukować tablice z określoną precyzją. Ustaw jej wartość na 4 i wydrukuj tablicę $A$.\n",
        "\n"
      ]
    },
    {
      "cell_type": "code",
      "metadata": {
        "id": "aL6C9MYSYkaL",
        "colab": {
          "base_uri": "https://localhost:8080/"
        },
        "outputId": "163cfe54-d4ef-4701-806e-01eaa49dc905"
      },
      "source": [
        "np.set_printoptions(precision=4)\n",
        "A = np.random.randn(10, 4)\n",
        "print(A)"
      ],
      "execution_count": 47,
      "outputs": [
        {
          "output_type": "stream",
          "name": "stdout",
          "text": [
            "[[-0.4525  0.777   1.0456 -0.3421]\n",
            " [-0.926  -0.513   0.7101  0.0925]\n",
            " [ 0.6301  1.7629  0.231  -0.8089]\n",
            " [ 1.0574  0.0514  0.8724  1.0662]\n",
            " [-0.959   1.382   0.9051 -0.6039]\n",
            " [ 0.3044  0.2572  0.0239  0.8719]\n",
            " [ 1.4374  0.0073  1.3309  0.9882]\n",
            " [ 0.2323  0.1762 -1.1526 -1.5008]\n",
            " [ 0.165  -0.8559 -0.0396 -0.5347]\n",
            " [-1.7885  0.3573 -0.4145  0.0802]]\n"
          ]
        }
      ]
    },
    {
      "cell_type": "markdown",
      "metadata": {
        "id": "hOhqDRz618Tx"
      },
      "source": [
        "### <a name='7'></a> Ćwiczenie 57\n",
        "Podana jest poniższa tablica numpy $A$:\n",
        "\n",
        "```\n",
        "A = np.array([1.2e-6, 1.7e-7])\n",
        "```\n",
        "\n",
        "Ustaw wartość precyzji na 8. Następnie ustaw odopowiednią opcję biblioteki numpy pozwalającą stłumić notację wykładniczą. Wydrukuj tablicę $A$.\n",
        "\n",
        "__Oczekiwany wynik:__\n",
        "\n",
        "\n",
        "```\n",
        "array([0.0000012 , 0.00000017])\n",
        "```\n",
        "\n",
        "\n",
        "\n"
      ]
    },
    {
      "cell_type": "code",
      "metadata": {
        "id": "BUr3XXiWdUWi",
        "colab": {
          "base_uri": "https://localhost:8080/"
        },
        "outputId": "51c5802e-dafd-4af2-9bd0-f350fb5e209c"
      },
      "source": [
        "np.set_printoptions(suppress=True, precision=8)\n",
        "A = np.array([1.2e-6, 1.7e-7])\n",
        "print(A)\n"
      ],
      "execution_count": 48,
      "outputs": [
        {
          "output_type": "stream",
          "name": "stdout",
          "text": [
            "[0.0000012  0.00000017]\n"
          ]
        }
      ]
    },
    {
      "cell_type": "markdown",
      "metadata": {
        "id": "TXUd_4631-gw"
      },
      "source": [
        "### <a name='8'></a> Ćwiczenie 58\n",
        "Podana jest poniższa tablica numpy $A$:\n",
        "\n",
        "```\n",
        "A = np.random.randn(8, 4)\n",
        "```\n",
        "Usuń trzecią kolumnę z tablicy $A$.\n",
        "\n",
        "__Oczekiwany wynik:__\n",
        "\n",
        "\n",
        "```\n",
        "array([[-0.55692881, -0.66003196,  0.70856031],\n",
        "       [ 0.22378737, -0.19796576, -0.16889332],\n",
        "       [ 0.26062786,  0.29865445, -0.92259267],\n",
        "       [-2.40317659,  1.79961876, -1.96495796],\n",
        "       [ 0.13051561, -1.7085185 ,  0.54885043],\n",
        "       [ 1.77268727,  0.38751181, -0.05141955],\n",
        "       [-1.80858596, -0.45075211,  0.15332866],\n",
        "       [ 1.94218961, -1.93679529, -1.83350954]])\n",
        "```\n",
        "__Wskazówka:__ Wykorzystaj funkcję _np.delete()_.\n",
        "\n",
        "\n"
      ]
    },
    {
      "cell_type": "code",
      "metadata": {
        "id": "o5PxnILogU6z",
        "colab": {
          "base_uri": "https://localhost:8080/"
        },
        "outputId": "286cd23d-d47c-4820-c136-03871d7c509e"
      },
      "source": [
        "A = np.random.randn(8, 4)\n",
        "np.delete(A,2,axis=1)"
      ],
      "execution_count": 57,
      "outputs": [
        {
          "output_type": "execute_result",
          "data": {
            "text/plain": [
              "array([[-0.10194951,  0.04213408,  1.20463507],\n",
              "       [ 0.85135426, -0.62036372,  0.5795044 ],\n",
              "       [-0.54727984, -1.22805402, -0.31072426],\n",
              "       [-0.62652418, -2.19213006, -0.98793585],\n",
              "       [ 0.02862056,  0.96862316,  0.07948245],\n",
              "       [ 1.52378741, -2.45674706, -0.90454188],\n",
              "       [-0.18690512, -0.04779088, -0.65437335],\n",
              "       [-0.77322497, -0.35078925,  0.91056412]])"
            ]
          },
          "metadata": {},
          "execution_count": 57
        }
      ]
    },
    {
      "cell_type": "markdown",
      "metadata": {
        "id": "tgI6xEn-2AQo"
      },
      "source": [
        "### <a name='9'></a> Ćwiczenie 59\n",
        "Podana jest tablica jednowymiarowa $v$ (wektor):\n",
        "\n",
        "```\n",
        "v = np.array([3, 4, -2])\n",
        "```\n",
        "Policz normę wektora $v$.\n"
      ]
    },
    {
      "cell_type": "code",
      "metadata": {
        "id": "TYPzAZCwi-Ky",
        "colab": {
          "base_uri": "https://localhost:8080/"
        },
        "outputId": "d7a18b2b-df7b-40f7-cb36-07bb659f7479"
      },
      "source": [
        "v = np.array([3, 4, -2])\n",
        "np.linalg.norm(v)"
      ],
      "execution_count": 59,
      "outputs": [
        {
          "output_type": "execute_result",
          "data": {
            "text/plain": [
              "5.385164807134504"
            ]
          },
          "metadata": {},
          "execution_count": 59
        }
      ]
    },
    {
      "cell_type": "markdown",
      "metadata": {
        "id": "wxhpf-uq2B1I"
      },
      "source": [
        "### <a name='10'></a> Ćwiczenie 60\n",
        "Poniżej podana jest przykładowa tablica $A$:\n",
        "\n",
        "\n",
        "```\n",
        "A = np.random.randint(10, size=(100, 30))\n",
        "```\n",
        "Ustaw odopowiednią opcję biblioteki numpy pozwalającą drukować 10 skrajnych elementów. Wydrukuj tablicę $A$.\n"
      ]
    },
    {
      "cell_type": "code",
      "metadata": {
        "id": "liJX2nIBk-gO",
        "colab": {
          "base_uri": "https://localhost:8080/"
        },
        "outputId": "b38ba48d-7754-4183-bf6d-c6d217ab4554"
      },
      "source": [
        "np.set_printoptions(edgeitems=10)\n",
        "A = np.random.randint(10, size=(100, 30))\n",
        "print(A)"
      ],
      "execution_count": 60,
      "outputs": [
        {
          "output_type": "stream",
          "name": "stdout",
          "text": [
            "[[3 9 2 8 1 3 5 1 7 7 ... 5 4 8 0 4 5 4 5 5 6]\n",
            " [3 7 6 8 6 2 2 7 4 3 ... 2 8 1 7 9 2 4 5 9 5]\n",
            " [3 2 3 0 3 0 0 9 5 4 ... 1 7 1 3 0 4 8 0 8 7]\n",
            " [5 6 2 0 4 1 4 7 8 1 ... 4 4 2 9 3 8 9 8 1 7]\n",
            " [7 6 7 2 5 0 6 0 8 0 ... 5 2 6 2 7 9 3 0 3 6]\n",
            " [3 5 8 0 4 6 0 3 5 1 ... 7 4 3 1 2 2 3 3 9 4]\n",
            " [3 9 7 5 5 7 6 9 9 7 ... 9 0 9 8 5 2 7 8 5 6]\n",
            " [0 4 4 9 3 5 6 8 0 5 ... 4 9 8 2 3 8 9 5 1 6]\n",
            " [1 1 0 2 5 7 8 6 3 5 ... 0 3 8 0 3 5 5 7 0 6]\n",
            " [0 6 2 7 2 0 7 2 1 0 ... 7 6 6 2 9 9 2 1 0 6]\n",
            " ...\n",
            " [5 1 9 2 5 7 0 0 1 5 ... 6 6 5 5 1 9 5 3 2 1]\n",
            " [0 4 1 1 6 7 9 7 3 0 ... 3 4 9 4 7 9 7 1 6 7]\n",
            " [5 4 8 2 9 3 8 5 7 6 ... 2 2 0 6 9 0 1 3 3 4]\n",
            " [1 3 0 1 0 9 9 3 3 6 ... 8 3 4 7 2 4 2 9 2 2]\n",
            " [6 6 6 9 7 4 4 3 6 9 ... 2 4 0 2 7 7 3 1 7 7]\n",
            " [9 3 2 1 8 0 6 4 7 3 ... 9 7 6 6 5 4 3 2 2 5]\n",
            " [3 5 2 3 8 4 6 9 1 4 ... 4 7 0 6 9 9 1 8 0 9]\n",
            " [5 8 0 3 3 8 4 4 5 0 ... 5 0 6 9 6 8 0 1 8 8]\n",
            " [5 5 3 3 4 2 0 0 6 0 ... 7 9 0 1 6 3 7 2 5 8]\n",
            " [0 0 7 2 4 0 4 5 7 2 ... 8 4 7 6 7 6 2 1 6 2]]\n"
          ]
        }
      ]
    }
  ]
}